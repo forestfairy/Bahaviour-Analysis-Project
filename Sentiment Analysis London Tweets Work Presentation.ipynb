{
 "cells": [
  {
   "cell_type": "markdown",
   "id": "9e444250",
   "metadata": {},
   "source": [
    "# Sentiment Analysis Work Presentation"
   ]
  },
  {
   "cell_type": "markdown",
   "id": "14d54c1f",
   "metadata": {},
   "source": [
    "1. Want to analyse text. The aim is to prefilter the great masses of text (big data) and make sure the resources are being focused on high value targets.\n",
    "\n",
    "2. The end game beign the pipeline would apply to multiple formats of text, socials, emails, news, translations etc and eventually multiple languages.\n",
    "\n",
    "3. Can also be applied for call chaining (relationship analysis) and message chaining (same but for texts) which will increase the value of a targeted investigation at scale. (People have both malicious and non malicious relationships and the use of sentiment analysis would filter those communications and highlight the ones with malicious sentiment (similar values to the target))\n",
    "\n",
    "4. Take the results of the call chaining and correlate them to the physical locations of people and events.\n",
    "\n",
    "Now, it's time to have fun!"
   ]
  },
  {
   "cell_type": "markdown",
   "id": "7c4d6c26",
   "metadata": {},
   "source": [
    "This kernal aims to:\n",
    "- Obtain the data\n",
    "- Clean the data so it can be analysed\n",
    "- Analyse the data for \n",
    "    - Who was tweeting\n",
    "    - who were they tweeting to\n",
    "    - what was the sentiment of the tweet\n",
    "    - filter for hostile/malicious/hate\n",
    "    - establish the relationships around those people, who, where, what\n",
    "    - analyse for events, intent and actions\n",
    "    \n",
    "- Understand the problem... check each variable and enusre the logic behind the analysis is sound and relevant.\n",
    "- Univariable study. Initially focus on the dependant variable ('???!!!!????') and understand its impact and relevance.\n",
    "- Multivariate study. Establish relationships between the dependent variable and independent variables.\n",
    "- Initial data cleaning. Perform cleaning on the data, deal with missing data, outliers and categorical variables.\n",
    "- Develop a hypothesis, establish Ho and H1. Determine the alpha. Calculate the z-test. Test assumptions. Check if our data meets the assumptions required by most multivariate techniques. Test against the hypothesis and find if the hypothesis is valid.\n"
   ]
  },
  {
   "cell_type": "markdown",
   "id": "64706096",
   "metadata": {},
   "source": [
    "## Process\n",
    "\n",
    "#### 1.Obtain tweets/text with corresponding metadata\n",
    "\n",
    "#### 2. Analyse texts and tweets for sentiment.\n",
    "\n",
    "#### 3. Determine which of these tend toward malicious or hostile sentiment.\n",
    "\n",
    "#### 4. Delve into those with high corralation to hostile/malicious intent and determine other identifiers\n",
    "\n",
    "#### 5. Identify who those identities are sending malicious/hostile communications\n",
    "\n",
    "#### 6. Identfy metadata on the highest priority identities\n",
    "\n",
    "#### 7. Mine the metadata for location and event correlation\n",
    "\n"
   ]
  },
  {
   "cell_type": "markdown",
   "id": "f8eba482",
   "metadata": {},
   "source": [
    "## 1. Obtain tweets/text with corresponding metadata\n"
   ]
  },
  {
   "cell_type": "markdown",
   "id": "f8b1be27",
   "metadata": {},
   "source": [
    "Using https://github.com/twintproject/twint\n",
    "    \n",
    "    Grab location data \n",
    "    Grab data for parties such as Hammertoss (Russian apt29 use hammertoss that create a daily handle under twitter), QanonAnonymous \n",
    "    \n",
    "Grab some data and save it to a .csv"
   ]
  },
  {
   "cell_type": "markdown",
   "id": "e951981f",
   "metadata": {},
   "source": [
    "Alternatively, Daniel Johnstone has written a script!"
   ]
  },
  {
   "cell_type": "code",
   "execution_count": 1,
   "id": "2229d3b8",
   "metadata": {},
   "outputs": [
    {
     "data": {
      "text/plain": [
       "'import twint # pip install this\\nimport nest_asyncio # pip install this\\n\\nnest_asyncio.apply()\\nc = twint.Config()\\nc.Username = \"realDonaldTrump\"\\nc.Count = True\\nc.Stats = True\\nc.Store_csv = True\\nc.Output = \"./data.csv\"\\n\\ntwint.run.Search(c)'"
      ]
     },
     "execution_count": 1,
     "metadata": {},
     "output_type": "execute_result"
    }
   ],
   "source": [
    "'''import twint # pip install this\n",
    "import nest_asyncio # pip install this\n",
    "\n",
    "nest_asyncio.apply()\n",
    "c = twint.Config()\n",
    "c.Username = \"realDonaldTrump\"\n",
    "c.Count = True\n",
    "c.Stats = True\n",
    "c.Store_csv = True\n",
    "c.Output = \"./data.csv\"\n",
    "\n",
    "twint.run.Search(c)'''"
   ]
  },
  {
   "cell_type": "markdown",
   "id": "b8246291",
   "metadata": {},
   "source": [
    "## Preprocessing and DataCleaning\n"
   ]
  },
  {
   "cell_type": "markdown",
   "id": "e807f971",
   "metadata": {},
   "source": [
    "Do some initial cleaning and exploration of the data"
   ]
  },
  {
   "cell_type": "code",
   "execution_count": 2,
   "id": "b7839cb2",
   "metadata": {},
   "outputs": [],
   "source": [
    "import re # for regular expressions\n",
    "import pandas as pd \n",
    "pd.set_option(\"display.max_colwidth\", 200)\n",
    "\n",
    "import numpy as np \n",
    "import matplotlib.pyplot as plt \n",
    "import seaborn as sns\n",
    "import string\n",
    "\n",
    "import nltk # for text manipulation\n",
    "import warnings \n",
    "warnings.filterwarnings(\"ignore\", category=DeprecationWarning)\n",
    "\n",
    "%matplotlib inline"
   ]
  },
  {
   "cell_type": "markdown",
   "id": "a49a295c",
   "metadata": {},
   "source": [
    "Lets import the datasets that have (hopefully) been uploaded to the python data folder"
   ]
  },
  {
   "cell_type": "code",
   "execution_count": 3,
   "id": "b8029df3",
   "metadata": {},
   "outputs": [],
   "source": [
    "df  = pd.read_csv('data/London1Tweet10kIMPORT.csv')\n"
   ]
  },
  {
   "cell_type": "markdown",
   "id": "bbe97e57",
   "metadata": {},
   "source": [
    "### Data Inspection"
   ]
  },
  {
   "cell_type": "markdown",
   "id": "b4798a66",
   "metadata": {},
   "source": [
    "First up, have a look at the data and see if it meets expectations..."
   ]
  },
  {
   "cell_type": "code",
   "execution_count": 4,
   "id": "89f47de3",
   "metadata": {},
   "outputs": [
    {
     "data": {
      "text/html": [
       "<div>\n",
       "<style scoped>\n",
       "    .dataframe tbody tr th:only-of-type {\n",
       "        vertical-align: middle;\n",
       "    }\n",
       "\n",
       "    .dataframe tbody tr th {\n",
       "        vertical-align: top;\n",
       "    }\n",
       "\n",
       "    .dataframe thead th {\n",
       "        text-align: right;\n",
       "    }\n",
       "</style>\n",
       "<table border=\"1\" class=\"dataframe\">\n",
       "  <thead>\n",
       "    <tr style=\"text-align: right;\">\n",
       "      <th></th>\n",
       "      <th>id</th>\n",
       "      <th>conversation_id</th>\n",
       "      <th>created_at</th>\n",
       "      <th>date</th>\n",
       "      <th>time</th>\n",
       "      <th>timezone</th>\n",
       "      <th>user_id</th>\n",
       "      <th>username</th>\n",
       "      <th>name</th>\n",
       "      <th>place</th>\n",
       "      <th>...</th>\n",
       "      <th>geo</th>\n",
       "      <th>source</th>\n",
       "      <th>user_rt_id</th>\n",
       "      <th>user_rt</th>\n",
       "      <th>retweet_id</th>\n",
       "      <th>reply_to</th>\n",
       "      <th>retweet_date</th>\n",
       "      <th>translate</th>\n",
       "      <th>trans_src</th>\n",
       "      <th>trans_dest</th>\n",
       "    </tr>\n",
       "  </thead>\n",
       "  <tbody>\n",
       "    <tr>\n",
       "      <th>0</th>\n",
       "      <td>1.443740e+18</td>\n",
       "      <td>1.443740e+18</td>\n",
       "      <td>2021-10-01 11:06:23 AUS Eastern Standard Time</td>\n",
       "      <td>1/10/2021</td>\n",
       "      <td>11:06:23 AM</td>\n",
       "      <td>1000</td>\n",
       "      <td>1.252941e+09</td>\n",
       "      <td>nahhhman</td>\n",
       "      <td>NAOman ðŸš·</td>\n",
       "      <td>NaN</td>\n",
       "      <td>...</td>\n",
       "      <td>51.507322,-0.127647,10km</td>\n",
       "      <td>NaN</td>\n",
       "      <td>NaN</td>\n",
       "      <td>NaN</td>\n",
       "      <td>NaN</td>\n",
       "      <td>[{'screen_name': 'itismedaphne', 'name': 'Daphne Soup ðŸ¥£', 'id': '825837098401869824'}, {'screen_name': 'eikuobaj', 'name': 'Eikuobaj.', 'id': '1206478527530487808'}]</td>\n",
       "      <td>NaN</td>\n",
       "      <td>NaN</td>\n",
       "      <td>NaN</td>\n",
       "      <td>NaN</td>\n",
       "    </tr>\n",
       "    <tr>\n",
       "      <th>1</th>\n",
       "      <td>1.443740e+18</td>\n",
       "      <td>1.443730e+18</td>\n",
       "      <td>2021-10-01 11:06:21 AUS Eastern Standard Time</td>\n",
       "      <td>1/10/2021</td>\n",
       "      <td>11:06:21 AM</td>\n",
       "      <td>1000</td>\n",
       "      <td>1.115210e+18</td>\n",
       "      <td>matthew83862519</td>\n",
       "      <td>Matty</td>\n",
       "      <td>NaN</td>\n",
       "      <td>...</td>\n",
       "      <td>51.507322,-0.127647,10km</td>\n",
       "      <td>NaN</td>\n",
       "      <td>NaN</td>\n",
       "      <td>NaN</td>\n",
       "      <td>NaN</td>\n",
       "      <td>[{'screen_name': 'SeoirseDuffy_', 'name': 'SeÃ³irse Duffy', 'id': '2867040495'}]</td>\n",
       "      <td>NaN</td>\n",
       "      <td>NaN</td>\n",
       "      <td>NaN</td>\n",
       "      <td>NaN</td>\n",
       "    </tr>\n",
       "    <tr>\n",
       "      <th>2</th>\n",
       "      <td>1.443740e+18</td>\n",
       "      <td>1.443740e+18</td>\n",
       "      <td>2021-10-01 11:06:21 AUS Eastern Standard Time</td>\n",
       "      <td>1/10/2021</td>\n",
       "      <td>11:06:21 AM</td>\n",
       "      <td>1000</td>\n",
       "      <td>1.206600e+18</td>\n",
       "      <td>mohsadiq16</td>\n",
       "      <td>Mohammed Sadiq</td>\n",
       "      <td>NaN</td>\n",
       "      <td>...</td>\n",
       "      <td>51.507322,-0.127647,10km</td>\n",
       "      <td>NaN</td>\n",
       "      <td>NaN</td>\n",
       "      <td>NaN</td>\n",
       "      <td>NaN</td>\n",
       "      <td>[]</td>\n",
       "      <td>NaN</td>\n",
       "      <td>NaN</td>\n",
       "      <td>NaN</td>\n",
       "      <td>NaN</td>\n",
       "    </tr>\n",
       "    <tr>\n",
       "      <th>3</th>\n",
       "      <td>1.443740e+18</td>\n",
       "      <td>1.443700e+18</td>\n",
       "      <td>2021-10-01 11:06:21 AUS Eastern Standard Time</td>\n",
       "      <td>1/10/2021</td>\n",
       "      <td>11:06:21 AM</td>\n",
       "      <td>1000</td>\n",
       "      <td>1.668494e+09</td>\n",
       "      <td>naseem028</td>\n",
       "      <td>Naseem</td>\n",
       "      <td>NaN</td>\n",
       "      <td>...</td>\n",
       "      <td>51.507322,-0.127647,10km</td>\n",
       "      <td>NaN</td>\n",
       "      <td>NaN</td>\n",
       "      <td>NaN</td>\n",
       "      <td>NaN</td>\n",
       "      <td>[{'screen_name': 'AnnetteReid247', 'name': 'G131 | ðŸªðŸ’œðŸ™ | ì—‘ì†Œ', 'id': '1226732127573729281'}]</td>\n",
       "      <td>NaN</td>\n",
       "      <td>NaN</td>\n",
       "      <td>NaN</td>\n",
       "      <td>NaN</td>\n",
       "    </tr>\n",
       "    <tr>\n",
       "      <th>4</th>\n",
       "      <td>1.443740e+18</td>\n",
       "      <td>1.443740e+18</td>\n",
       "      <td>2021-10-01 11:06:21 AUS Eastern Standard Time</td>\n",
       "      <td>1/10/2021</td>\n",
       "      <td>11:06:21 AM</td>\n",
       "      <td>1000</td>\n",
       "      <td>1.929937e+08</td>\n",
       "      <td>alexlepretre</td>\n",
       "      <td>Alexandre LeprÃªtre</td>\n",
       "      <td>NaN</td>\n",
       "      <td>...</td>\n",
       "      <td>51.507322,-0.127647,10km</td>\n",
       "      <td>NaN</td>\n",
       "      <td>NaN</td>\n",
       "      <td>NaN</td>\n",
       "      <td>NaN</td>\n",
       "      <td>[{'screen_name': 'Loco_LFC', 'name': 'ðŸ’ŽLocoðŸ™ŒðŸ½', 'id': '68214405'}, {'screen_name': 'DanPriceSeattle', 'name': 'Dan Price', 'id': '2172596028'}]</td>\n",
       "      <td>NaN</td>\n",
       "      <td>NaN</td>\n",
       "      <td>NaN</td>\n",
       "      <td>NaN</td>\n",
       "    </tr>\n",
       "  </tbody>\n",
       "</table>\n",
       "<p>5 rows × 36 columns</p>\n",
       "</div>"
      ],
      "text/plain": [
       "             id  conversation_id  \\\n",
       "0  1.443740e+18     1.443740e+18   \n",
       "1  1.443740e+18     1.443730e+18   \n",
       "2  1.443740e+18     1.443740e+18   \n",
       "3  1.443740e+18     1.443700e+18   \n",
       "4  1.443740e+18     1.443740e+18   \n",
       "\n",
       "                                      created_at       date         time  \\\n",
       "0  2021-10-01 11:06:23 AUS Eastern Standard Time  1/10/2021  11:06:23 AM   \n",
       "1  2021-10-01 11:06:21 AUS Eastern Standard Time  1/10/2021  11:06:21 AM   \n",
       "2  2021-10-01 11:06:21 AUS Eastern Standard Time  1/10/2021  11:06:21 AM   \n",
       "3  2021-10-01 11:06:21 AUS Eastern Standard Time  1/10/2021  11:06:21 AM   \n",
       "4  2021-10-01 11:06:21 AUS Eastern Standard Time  1/10/2021  11:06:21 AM   \n",
       "\n",
       "   timezone       user_id         username                 name place  ...  \\\n",
       "0      1000  1.252941e+09         nahhhman          NAOman ðŸš·   NaN  ...   \n",
       "1      1000  1.115210e+18  matthew83862519                Matty   NaN  ...   \n",
       "2      1000  1.206600e+18       mohsadiq16       Mohammed Sadiq   NaN  ...   \n",
       "3      1000  1.668494e+09        naseem028               Naseem   NaN  ...   \n",
       "4      1000  1.929937e+08     alexlepretre  Alexandre LeprÃªtre   NaN  ...   \n",
       "\n",
       "                        geo source user_rt_id user_rt retweet_id  \\\n",
       "0  51.507322,-0.127647,10km    NaN        NaN     NaN        NaN   \n",
       "1  51.507322,-0.127647,10km    NaN        NaN     NaN        NaN   \n",
       "2  51.507322,-0.127647,10km    NaN        NaN     NaN        NaN   \n",
       "3  51.507322,-0.127647,10km    NaN        NaN     NaN        NaN   \n",
       "4  51.507322,-0.127647,10km    NaN        NaN     NaN        NaN   \n",
       "\n",
       "                                                                                                                                                                   reply_to  \\\n",
       "0  [{'screen_name': 'itismedaphne', 'name': 'Daphne Soup ðŸ¥£', 'id': '825837098401869824'}, {'screen_name': 'eikuobaj', 'name': 'Eikuobaj.', 'id': '1206478527530487808'}]   \n",
       "1                                                                                          [{'screen_name': 'SeoirseDuffy_', 'name': 'SeÃ³irse Duffy', 'id': '2867040495'}]   \n",
       "2                                                                                                                                                                        []   \n",
       "3                                                                  [{'screen_name': 'AnnetteReid247', 'name': 'G131 | ðŸªðŸ’œðŸ™ | ì—‘ì†Œ', 'id': '1226732127573729281'}]   \n",
       "4                  [{'screen_name': 'Loco_LFC', 'name': 'ðŸ’ŽLocoðŸ™ŒðŸ½', 'id': '68214405'}, {'screen_name': 'DanPriceSeattle', 'name': 'Dan Price', 'id': '2172596028'}]   \n",
       "\n",
       "   retweet_date  translate trans_src trans_dest  \n",
       "0           NaN        NaN       NaN        NaN  \n",
       "1           NaN        NaN       NaN        NaN  \n",
       "2           NaN        NaN       NaN        NaN  \n",
       "3           NaN        NaN       NaN        NaN  \n",
       "4           NaN        NaN       NaN        NaN  \n",
       "\n",
       "[5 rows x 36 columns]"
      ]
     },
     "execution_count": 4,
     "metadata": {},
     "output_type": "execute_result"
    }
   ],
   "source": [
    "df.head()"
   ]
  },
  {
   "cell_type": "code",
   "execution_count": 5,
   "id": "b8b33f6e",
   "metadata": {},
   "outputs": [
    {
     "data": {
      "text/html": [
       "<div>\n",
       "<style scoped>\n",
       "    .dataframe tbody tr th:only-of-type {\n",
       "        vertical-align: middle;\n",
       "    }\n",
       "\n",
       "    .dataframe tbody tr th {\n",
       "        vertical-align: top;\n",
       "    }\n",
       "\n",
       "    .dataframe thead th {\n",
       "        text-align: right;\n",
       "    }\n",
       "</style>\n",
       "<table border=\"1\" class=\"dataframe\">\n",
       "  <thead>\n",
       "    <tr style=\"text-align: right;\">\n",
       "      <th></th>\n",
       "      <th>id</th>\n",
       "      <th>conversation_id</th>\n",
       "      <th>created_at</th>\n",
       "      <th>date</th>\n",
       "      <th>time</th>\n",
       "      <th>timezone</th>\n",
       "      <th>user_id</th>\n",
       "      <th>username</th>\n",
       "      <th>name</th>\n",
       "      <th>place</th>\n",
       "      <th>...</th>\n",
       "      <th>geo</th>\n",
       "      <th>source</th>\n",
       "      <th>user_rt_id</th>\n",
       "      <th>user_rt</th>\n",
       "      <th>retweet_id</th>\n",
       "      <th>reply_to</th>\n",
       "      <th>retweet_date</th>\n",
       "      <th>translate</th>\n",
       "      <th>trans_src</th>\n",
       "      <th>trans_dest</th>\n",
       "    </tr>\n",
       "  </thead>\n",
       "  <tbody>\n",
       "    <tr>\n",
       "      <th>40400</th>\n",
       "      <td>1.443710e+18</td>\n",
       "      <td>1.443340e+18</td>\n",
       "      <td>2021-10-01 08:32:10 AUS Eastern Standard Time</td>\n",
       "      <td>1/10/2021</td>\n",
       "      <td>8:32:10 AM</td>\n",
       "      <td>1000</td>\n",
       "      <td>3.350379e+09</td>\n",
       "      <td>n_nationalism</td>\n",
       "      <td>Nations &amp; Nationalism</td>\n",
       "      <td>NaN</td>\n",
       "      <td>...</td>\n",
       "      <td>51.507322,-0.127647,10km</td>\n",
       "      <td>NaN</td>\n",
       "      <td>NaN</td>\n",
       "      <td>NaN</td>\n",
       "      <td>NaN</td>\n",
       "      <td>[{'screen_name': 'TedBey', 'name': 'Ted Bey', 'id': '1233412500'}, {'screen_name': 'EZuelow', 'name': 'Eric G. E. Zuelow', 'id': '2710417418'}]</td>\n",
       "      <td>NaN</td>\n",
       "      <td>NaN</td>\n",
       "      <td>NaN</td>\n",
       "      <td>NaN</td>\n",
       "    </tr>\n",
       "    <tr>\n",
       "      <th>40401</th>\n",
       "      <td>1.443710e+18</td>\n",
       "      <td>1.443710e+18</td>\n",
       "      <td>2021-10-01 08:32:09 AUS Eastern Standard Time</td>\n",
       "      <td>1/10/2021</td>\n",
       "      <td>8:32:09 AM</td>\n",
       "      <td>1000</td>\n",
       "      <td>1.864407e+09</td>\n",
       "      <td>khloekleo</td>\n",
       "      <td>ChloÃ©</td>\n",
       "      <td>NaN</td>\n",
       "      <td>...</td>\n",
       "      <td>51.507322,-0.127647,10km</td>\n",
       "      <td>NaN</td>\n",
       "      <td>NaN</td>\n",
       "      <td>NaN</td>\n",
       "      <td>NaN</td>\n",
       "      <td>[]</td>\n",
       "      <td>NaN</td>\n",
       "      <td>NaN</td>\n",
       "      <td>NaN</td>\n",
       "      <td>NaN</td>\n",
       "    </tr>\n",
       "    <tr>\n",
       "      <th>40402</th>\n",
       "      <td>1.443710e+18</td>\n",
       "      <td>1.443710e+18</td>\n",
       "      <td>2021-10-01 08:32:09 AUS Eastern Standard Time</td>\n",
       "      <td>1/10/2021</td>\n",
       "      <td>8:32:09 AM</td>\n",
       "      <td>1000</td>\n",
       "      <td>2.062304e+08</td>\n",
       "      <td>mickiano</td>\n",
       "      <td>ðŸ Project BabyÂ®</td>\n",
       "      <td>NaN</td>\n",
       "      <td>...</td>\n",
       "      <td>51.507322,-0.127647,10km</td>\n",
       "      <td>NaN</td>\n",
       "      <td>NaN</td>\n",
       "      <td>NaN</td>\n",
       "      <td>NaN</td>\n",
       "      <td>[]</td>\n",
       "      <td>NaN</td>\n",
       "      <td>NaN</td>\n",
       "      <td>NaN</td>\n",
       "      <td>NaN</td>\n",
       "    </tr>\n",
       "    <tr>\n",
       "      <th>40403</th>\n",
       "      <td>1.443710e+18</td>\n",
       "      <td>1.443710e+18</td>\n",
       "      <td>2021-10-01 08:32:09 AUS Eastern Standard Time</td>\n",
       "      <td>1/10/2021</td>\n",
       "      <td>8:32:09 AM</td>\n",
       "      <td>1000</td>\n",
       "      <td>2.167959e+08</td>\n",
       "      <td>pcrepairsc</td>\n",
       "      <td>PC Repairs Croydon Ltd.</td>\n",
       "      <td>NaN</td>\n",
       "      <td>...</td>\n",
       "      <td>51.507322,-0.127647,10km</td>\n",
       "      <td>NaN</td>\n",
       "      <td>NaN</td>\n",
       "      <td>NaN</td>\n",
       "      <td>NaN</td>\n",
       "      <td>[]</td>\n",
       "      <td>NaN</td>\n",
       "      <td>NaN</td>\n",
       "      <td>NaN</td>\n",
       "      <td>NaN</td>\n",
       "    </tr>\n",
       "    <tr>\n",
       "      <th>40404</th>\n",
       "      <td>1.443710e+18</td>\n",
       "      <td>1.443710e+18</td>\n",
       "      <td>2021-10-01 08:32:09 AUS Eastern Standard Time</td>\n",
       "      <td>1/10/2021</td>\n",
       "      <td>8:32:09 AM</td>\n",
       "      <td>1000</td>\n",
       "      <td>1.323200e+18</td>\n",
       "      <td>ahmad_hk10</td>\n",
       "      <td>Ahmad.HKðŸ´ó §ó ¢ó ¥ó ®ó §ó ¿</td>\n",
       "      <td>NaN</td>\n",
       "      <td>...</td>\n",
       "      <td>51.507322,-0.127647,10km</td>\n",
       "      <td>NaN</td>\n",
       "      <td>NaN</td>\n",
       "      <td>NaN</td>\n",
       "      <td>NaN</td>\n",
       "      <td>[]</td>\n",
       "      <td>NaN</td>\n",
       "      <td>NaN</td>\n",
       "      <td>NaN</td>\n",
       "      <td>NaN</td>\n",
       "    </tr>\n",
       "  </tbody>\n",
       "</table>\n",
       "<p>5 rows × 36 columns</p>\n",
       "</div>"
      ],
      "text/plain": [
       "                 id  conversation_id  \\\n",
       "40400  1.443710e+18     1.443340e+18   \n",
       "40401  1.443710e+18     1.443710e+18   \n",
       "40402  1.443710e+18     1.443710e+18   \n",
       "40403  1.443710e+18     1.443710e+18   \n",
       "40404  1.443710e+18     1.443710e+18   \n",
       "\n",
       "                                          created_at       date        time  \\\n",
       "40400  2021-10-01 08:32:10 AUS Eastern Standard Time  1/10/2021  8:32:10 AM   \n",
       "40401  2021-10-01 08:32:09 AUS Eastern Standard Time  1/10/2021  8:32:09 AM   \n",
       "40402  2021-10-01 08:32:09 AUS Eastern Standard Time  1/10/2021  8:32:09 AM   \n",
       "40403  2021-10-01 08:32:09 AUS Eastern Standard Time  1/10/2021  8:32:09 AM   \n",
       "40404  2021-10-01 08:32:09 AUS Eastern Standard Time  1/10/2021  8:32:09 AM   \n",
       "\n",
       "       timezone       user_id       username  \\\n",
       "40400      1000  3.350379e+09  n_nationalism   \n",
       "40401      1000  1.864407e+09      khloekleo   \n",
       "40402      1000  2.062304e+08       mickiano   \n",
       "40403      1000  2.167959e+08     pcrepairsc   \n",
       "40404      1000  1.323200e+18     ahmad_hk10   \n",
       "\n",
       "                                       name place  ...  \\\n",
       "40400                 Nations & Nationalism   NaN  ...   \n",
       "40401                                ChloÃ©   NaN  ...   \n",
       "40402                   ðŸ Project BabyÂ®   NaN  ...   \n",
       "40403               PC Repairs Croydon Ltd.   NaN  ...   \n",
       "40404  Ahmad.HKðŸ´ó §ó ¢ó ¥ó ®ó §ó ¿   NaN  ...   \n",
       "\n",
       "                            geo source user_rt_id user_rt retweet_id  \\\n",
       "40400  51.507322,-0.127647,10km    NaN        NaN     NaN        NaN   \n",
       "40401  51.507322,-0.127647,10km    NaN        NaN     NaN        NaN   \n",
       "40402  51.507322,-0.127647,10km    NaN        NaN     NaN        NaN   \n",
       "40403  51.507322,-0.127647,10km    NaN        NaN     NaN        NaN   \n",
       "40404  51.507322,-0.127647,10km    NaN        NaN     NaN        NaN   \n",
       "\n",
       "                                                                                                                                              reply_to  \\\n",
       "40400  [{'screen_name': 'TedBey', 'name': 'Ted Bey', 'id': '1233412500'}, {'screen_name': 'EZuelow', 'name': 'Eric G. E. Zuelow', 'id': '2710417418'}]   \n",
       "40401                                                                                                                                               []   \n",
       "40402                                                                                                                                               []   \n",
       "40403                                                                                                                                               []   \n",
       "40404                                                                                                                                               []   \n",
       "\n",
       "       retweet_date  translate trans_src trans_dest  \n",
       "40400           NaN        NaN       NaN        NaN  \n",
       "40401           NaN        NaN       NaN        NaN  \n",
       "40402           NaN        NaN       NaN        NaN  \n",
       "40403           NaN        NaN       NaN        NaN  \n",
       "40404           NaN        NaN       NaN        NaN  \n",
       "\n",
       "[5 rows x 36 columns]"
      ]
     },
     "execution_count": 5,
     "metadata": {},
     "output_type": "execute_result"
    }
   ],
   "source": [
    "df.tail()"
   ]
  },
  {
   "cell_type": "markdown",
   "id": "125e37f4",
   "metadata": {},
   "source": [
    "check for NaN and na in the dataset.\n",
    "\n",
    "At the moment, just checking to see if there is geolocations for each tweet."
   ]
  },
  {
   "cell_type": "code",
   "execution_count": 6,
   "id": "5e89b286",
   "metadata": {},
   "outputs": [
    {
     "data": {
      "text/html": [
       "<div>\n",
       "<style scoped>\n",
       "    .dataframe tbody tr th:only-of-type {\n",
       "        vertical-align: middle;\n",
       "    }\n",
       "\n",
       "    .dataframe tbody tr th {\n",
       "        vertical-align: top;\n",
       "    }\n",
       "\n",
       "    .dataframe thead th {\n",
       "        text-align: right;\n",
       "    }\n",
       "</style>\n",
       "<table border=\"1\" class=\"dataframe\">\n",
       "  <thead>\n",
       "    <tr style=\"text-align: right;\">\n",
       "      <th></th>\n",
       "      <th>id</th>\n",
       "      <th>conversation_id</th>\n",
       "      <th>created_at</th>\n",
       "      <th>date</th>\n",
       "      <th>time</th>\n",
       "      <th>timezone</th>\n",
       "      <th>user_id</th>\n",
       "      <th>username</th>\n",
       "      <th>name</th>\n",
       "      <th>place</th>\n",
       "      <th>...</th>\n",
       "      <th>geo</th>\n",
       "      <th>source</th>\n",
       "      <th>user_rt_id</th>\n",
       "      <th>user_rt</th>\n",
       "      <th>retweet_id</th>\n",
       "      <th>reply_to</th>\n",
       "      <th>retweet_date</th>\n",
       "      <th>translate</th>\n",
       "      <th>trans_src</th>\n",
       "      <th>trans_dest</th>\n",
       "    </tr>\n",
       "  </thead>\n",
       "  <tbody>\n",
       "  </tbody>\n",
       "</table>\n",
       "<p>0 rows × 36 columns</p>\n",
       "</div>"
      ],
      "text/plain": [
       "Empty DataFrame\n",
       "Columns: [id, conversation_id, created_at, date, time, timezone, user_id, username, name, place, tweet, language, mentions, urls, photos, replies_count, retweets_count, likes_count, hashtags, cashtags, link, retweet, quote_url, video, thumbnail, near, geo, source, user_rt_id, user_rt, retweet_id, reply_to, retweet_date, translate, trans_src, trans_dest]\n",
       "Index: []\n",
       "\n",
       "[0 rows x 36 columns]"
      ]
     },
     "execution_count": 6,
     "metadata": {},
     "output_type": "execute_result"
    }
   ],
   "source": [
    "na_df = df[df['geo'].isna()]\n",
    "na_df"
   ]
  },
  {
   "cell_type": "code",
   "execution_count": 7,
   "id": "6b1621ff",
   "metadata": {},
   "outputs": [
    {
     "data": {
      "text/html": [
       "<div>\n",
       "<style scoped>\n",
       "    .dataframe tbody tr th:only-of-type {\n",
       "        vertical-align: middle;\n",
       "    }\n",
       "\n",
       "    .dataframe tbody tr th {\n",
       "        vertical-align: top;\n",
       "    }\n",
       "\n",
       "    .dataframe thead th {\n",
       "        text-align: right;\n",
       "    }\n",
       "</style>\n",
       "<table border=\"1\" class=\"dataframe\">\n",
       "  <thead>\n",
       "    <tr style=\"text-align: right;\">\n",
       "      <th></th>\n",
       "      <th>id</th>\n",
       "      <th>conversation_id</th>\n",
       "      <th>created_at</th>\n",
       "      <th>date</th>\n",
       "      <th>time</th>\n",
       "      <th>timezone</th>\n",
       "      <th>user_id</th>\n",
       "      <th>username</th>\n",
       "      <th>name</th>\n",
       "      <th>place</th>\n",
       "      <th>...</th>\n",
       "      <th>geo</th>\n",
       "      <th>source</th>\n",
       "      <th>user_rt_id</th>\n",
       "      <th>user_rt</th>\n",
       "      <th>retweet_id</th>\n",
       "      <th>reply_to</th>\n",
       "      <th>retweet_date</th>\n",
       "      <th>translate</th>\n",
       "      <th>trans_src</th>\n",
       "      <th>trans_dest</th>\n",
       "    </tr>\n",
       "  </thead>\n",
       "  <tbody>\n",
       "    <tr>\n",
       "      <th>0</th>\n",
       "      <td>1.443740e+18</td>\n",
       "      <td>1.443740e+18</td>\n",
       "      <td>2021-10-01 11:06:23 AUS Eastern Standard Time</td>\n",
       "      <td>1/10/2021</td>\n",
       "      <td>11:06:23 AM</td>\n",
       "      <td>1000</td>\n",
       "      <td>1.252941e+09</td>\n",
       "      <td>nahhhman</td>\n",
       "      <td>NAOman ðŸš·</td>\n",
       "      <td>NaN</td>\n",
       "      <td>...</td>\n",
       "      <td>51.507322,-0.127647,10km</td>\n",
       "      <td>NaN</td>\n",
       "      <td>NaN</td>\n",
       "      <td>NaN</td>\n",
       "      <td>NaN</td>\n",
       "      <td>[{'screen_name': 'itismedaphne', 'name': 'Daphne Soup ðŸ¥£', 'id': '825837098401869824'}, {'screen_name': 'eikuobaj', 'name': 'Eikuobaj.', 'id': '1206478527530487808'}]</td>\n",
       "      <td>NaN</td>\n",
       "      <td>NaN</td>\n",
       "      <td>NaN</td>\n",
       "      <td>NaN</td>\n",
       "    </tr>\n",
       "    <tr>\n",
       "      <th>1</th>\n",
       "      <td>1.443740e+18</td>\n",
       "      <td>1.443730e+18</td>\n",
       "      <td>2021-10-01 11:06:21 AUS Eastern Standard Time</td>\n",
       "      <td>1/10/2021</td>\n",
       "      <td>11:06:21 AM</td>\n",
       "      <td>1000</td>\n",
       "      <td>1.115210e+18</td>\n",
       "      <td>matthew83862519</td>\n",
       "      <td>Matty</td>\n",
       "      <td>NaN</td>\n",
       "      <td>...</td>\n",
       "      <td>51.507322,-0.127647,10km</td>\n",
       "      <td>NaN</td>\n",
       "      <td>NaN</td>\n",
       "      <td>NaN</td>\n",
       "      <td>NaN</td>\n",
       "      <td>[{'screen_name': 'SeoirseDuffy_', 'name': 'SeÃ³irse Duffy', 'id': '2867040495'}]</td>\n",
       "      <td>NaN</td>\n",
       "      <td>NaN</td>\n",
       "      <td>NaN</td>\n",
       "      <td>NaN</td>\n",
       "    </tr>\n",
       "    <tr>\n",
       "      <th>2</th>\n",
       "      <td>1.443740e+18</td>\n",
       "      <td>1.443740e+18</td>\n",
       "      <td>2021-10-01 11:06:21 AUS Eastern Standard Time</td>\n",
       "      <td>1/10/2021</td>\n",
       "      <td>11:06:21 AM</td>\n",
       "      <td>1000</td>\n",
       "      <td>1.206600e+18</td>\n",
       "      <td>mohsadiq16</td>\n",
       "      <td>Mohammed Sadiq</td>\n",
       "      <td>NaN</td>\n",
       "      <td>...</td>\n",
       "      <td>51.507322,-0.127647,10km</td>\n",
       "      <td>NaN</td>\n",
       "      <td>NaN</td>\n",
       "      <td>NaN</td>\n",
       "      <td>NaN</td>\n",
       "      <td>[]</td>\n",
       "      <td>NaN</td>\n",
       "      <td>NaN</td>\n",
       "      <td>NaN</td>\n",
       "      <td>NaN</td>\n",
       "    </tr>\n",
       "    <tr>\n",
       "      <th>3</th>\n",
       "      <td>1.443740e+18</td>\n",
       "      <td>1.443700e+18</td>\n",
       "      <td>2021-10-01 11:06:21 AUS Eastern Standard Time</td>\n",
       "      <td>1/10/2021</td>\n",
       "      <td>11:06:21 AM</td>\n",
       "      <td>1000</td>\n",
       "      <td>1.668494e+09</td>\n",
       "      <td>naseem028</td>\n",
       "      <td>Naseem</td>\n",
       "      <td>NaN</td>\n",
       "      <td>...</td>\n",
       "      <td>51.507322,-0.127647,10km</td>\n",
       "      <td>NaN</td>\n",
       "      <td>NaN</td>\n",
       "      <td>NaN</td>\n",
       "      <td>NaN</td>\n",
       "      <td>[{'screen_name': 'AnnetteReid247', 'name': 'G131 | ðŸªðŸ’œðŸ™ | ì—‘ì†Œ', 'id': '1226732127573729281'}]</td>\n",
       "      <td>NaN</td>\n",
       "      <td>NaN</td>\n",
       "      <td>NaN</td>\n",
       "      <td>NaN</td>\n",
       "    </tr>\n",
       "    <tr>\n",
       "      <th>4</th>\n",
       "      <td>1.443740e+18</td>\n",
       "      <td>1.443740e+18</td>\n",
       "      <td>2021-10-01 11:06:21 AUS Eastern Standard Time</td>\n",
       "      <td>1/10/2021</td>\n",
       "      <td>11:06:21 AM</td>\n",
       "      <td>1000</td>\n",
       "      <td>1.929937e+08</td>\n",
       "      <td>alexlepretre</td>\n",
       "      <td>Alexandre LeprÃªtre</td>\n",
       "      <td>NaN</td>\n",
       "      <td>...</td>\n",
       "      <td>51.507322,-0.127647,10km</td>\n",
       "      <td>NaN</td>\n",
       "      <td>NaN</td>\n",
       "      <td>NaN</td>\n",
       "      <td>NaN</td>\n",
       "      <td>[{'screen_name': 'Loco_LFC', 'name': 'ðŸ’ŽLocoðŸ™ŒðŸ½', 'id': '68214405'}, {'screen_name': 'DanPriceSeattle', 'name': 'Dan Price', 'id': '2172596028'}]</td>\n",
       "      <td>NaN</td>\n",
       "      <td>NaN</td>\n",
       "      <td>NaN</td>\n",
       "      <td>NaN</td>\n",
       "    </tr>\n",
       "  </tbody>\n",
       "</table>\n",
       "<p>5 rows × 36 columns</p>\n",
       "</div>"
      ],
      "text/plain": [
       "             id  conversation_id  \\\n",
       "0  1.443740e+18     1.443740e+18   \n",
       "1  1.443740e+18     1.443730e+18   \n",
       "2  1.443740e+18     1.443740e+18   \n",
       "3  1.443740e+18     1.443700e+18   \n",
       "4  1.443740e+18     1.443740e+18   \n",
       "\n",
       "                                      created_at       date         time  \\\n",
       "0  2021-10-01 11:06:23 AUS Eastern Standard Time  1/10/2021  11:06:23 AM   \n",
       "1  2021-10-01 11:06:21 AUS Eastern Standard Time  1/10/2021  11:06:21 AM   \n",
       "2  2021-10-01 11:06:21 AUS Eastern Standard Time  1/10/2021  11:06:21 AM   \n",
       "3  2021-10-01 11:06:21 AUS Eastern Standard Time  1/10/2021  11:06:21 AM   \n",
       "4  2021-10-01 11:06:21 AUS Eastern Standard Time  1/10/2021  11:06:21 AM   \n",
       "\n",
       "   timezone       user_id         username                 name place  ...  \\\n",
       "0      1000  1.252941e+09         nahhhman          NAOman ðŸš·   NaN  ...   \n",
       "1      1000  1.115210e+18  matthew83862519                Matty   NaN  ...   \n",
       "2      1000  1.206600e+18       mohsadiq16       Mohammed Sadiq   NaN  ...   \n",
       "3      1000  1.668494e+09        naseem028               Naseem   NaN  ...   \n",
       "4      1000  1.929937e+08     alexlepretre  Alexandre LeprÃªtre   NaN  ...   \n",
       "\n",
       "                        geo source user_rt_id user_rt retweet_id  \\\n",
       "0  51.507322,-0.127647,10km    NaN        NaN     NaN        NaN   \n",
       "1  51.507322,-0.127647,10km    NaN        NaN     NaN        NaN   \n",
       "2  51.507322,-0.127647,10km    NaN        NaN     NaN        NaN   \n",
       "3  51.507322,-0.127647,10km    NaN        NaN     NaN        NaN   \n",
       "4  51.507322,-0.127647,10km    NaN        NaN     NaN        NaN   \n",
       "\n",
       "                                                                                                                                                                   reply_to  \\\n",
       "0  [{'screen_name': 'itismedaphne', 'name': 'Daphne Soup ðŸ¥£', 'id': '825837098401869824'}, {'screen_name': 'eikuobaj', 'name': 'Eikuobaj.', 'id': '1206478527530487808'}]   \n",
       "1                                                                                          [{'screen_name': 'SeoirseDuffy_', 'name': 'SeÃ³irse Duffy', 'id': '2867040495'}]   \n",
       "2                                                                                                                                                                        []   \n",
       "3                                                                  [{'screen_name': 'AnnetteReid247', 'name': 'G131 | ðŸªðŸ’œðŸ™ | ì—‘ì†Œ', 'id': '1226732127573729281'}]   \n",
       "4                  [{'screen_name': 'Loco_LFC', 'name': 'ðŸ’ŽLocoðŸ™ŒðŸ½', 'id': '68214405'}, {'screen_name': 'DanPriceSeattle', 'name': 'Dan Price', 'id': '2172596028'}]   \n",
       "\n",
       "   retweet_date  translate trans_src trans_dest  \n",
       "0           NaN        NaN       NaN        NaN  \n",
       "1           NaN        NaN       NaN        NaN  \n",
       "2           NaN        NaN       NaN        NaN  \n",
       "3           NaN        NaN       NaN        NaN  \n",
       "4           NaN        NaN       NaN        NaN  \n",
       "\n",
       "[5 rows x 36 columns]"
      ]
     },
     "execution_count": 7,
     "metadata": {},
     "output_type": "execute_result"
    }
   ],
   "source": [
    "na_df = df[df['geo'].notna()]\n",
    "na_df.head()"
   ]
  },
  {
   "cell_type": "code",
   "execution_count": 8,
   "id": "aedd0656",
   "metadata": {
    "scrolled": true
   },
   "outputs": [
    {
     "data": {
      "text/plain": [
       "(40405, 36)"
      ]
     },
     "execution_count": 8,
     "metadata": {},
     "output_type": "execute_result"
    }
   ],
   "source": [
    "df.shape"
   ]
  },
  {
   "cell_type": "markdown",
   "id": "f36941b4",
   "metadata": {},
   "source": [
    "Check the types in the dataset.\n",
    "\n",
    "NB the date and time are going to have to be munged to be usable.\n",
    "\n",
    "Items like the conversation_id user_id data type need to be changed. "
   ]
  },
  {
   "cell_type": "code",
   "execution_count": 9,
   "id": "8adae698",
   "metadata": {},
   "outputs": [
    {
     "data": {
      "text/plain": [
       "id                 float64\n",
       "conversation_id    float64\n",
       "created_at          object\n",
       "date                object\n",
       "time                object\n",
       "timezone             int64\n",
       "user_id            float64\n",
       "username            object\n",
       "name                object\n",
       "place               object\n",
       "tweet               object\n",
       "language            object\n",
       "mentions            object\n",
       "urls                object\n",
       "photos              object\n",
       "replies_count        int64\n",
       "retweets_count       int64\n",
       "likes_count          int64\n",
       "hashtags            object\n",
       "cashtags            object\n",
       "link                object\n",
       "retweet               bool\n",
       "quote_url           object\n",
       "video                int64\n",
       "thumbnail           object\n",
       "near               float64\n",
       "geo                 object\n",
       "source             float64\n",
       "user_rt_id         float64\n",
       "user_rt            float64\n",
       "retweet_id         float64\n",
       "reply_to            object\n",
       "retweet_date       float64\n",
       "translate          float64\n",
       "trans_src          float64\n",
       "trans_dest         float64\n",
       "dtype: object"
      ]
     },
     "execution_count": 9,
     "metadata": {},
     "output_type": "execute_result"
    }
   ],
   "source": [
    "df.dtypes"
   ]
  },
  {
   "cell_type": "markdown",
   "id": "e27074f4",
   "metadata": {},
   "source": [
    "Note that there is no label column in the dataset, so the data is unlabeled. "
   ]
  },
  {
   "cell_type": "code",
   "execution_count": 10,
   "id": "b1a0b1b2",
   "metadata": {},
   "outputs": [
    {
     "data": {
      "text/plain": [
       "Index(['id', 'conversation_id', 'created_at', 'date', 'time', 'timezone',\n",
       "       'user_id', 'username', 'name', 'place', 'tweet', 'language', 'mentions',\n",
       "       'urls', 'photos', 'replies_count', 'retweets_count', 'likes_count',\n",
       "       'hashtags', 'cashtags', 'link', 'retweet', 'quote_url', 'video',\n",
       "       'thumbnail', 'near', 'geo', 'source', 'user_rt_id', 'user_rt',\n",
       "       'retweet_id', 'reply_to', 'retweet_date', 'translate', 'trans_src',\n",
       "       'trans_dest'],\n",
       "      dtype='object')"
      ]
     },
     "execution_count": 10,
     "metadata": {},
     "output_type": "execute_result"
    }
   ],
   "source": [
    "df.columns"
   ]
  },
  {
   "cell_type": "markdown",
   "id": "c72cb30e",
   "metadata": {},
   "source": [
    "Okay, I don't think we want all this data right now, lets get rid of the columns that are not interesting...."
   ]
  },
  {
   "cell_type": "code",
   "execution_count": 11,
   "id": "2622ae28",
   "metadata": {},
   "outputs": [
    {
     "data": {
      "text/html": [
       "<div>\n",
       "<style scoped>\n",
       "    .dataframe tbody tr th:only-of-type {\n",
       "        vertical-align: middle;\n",
       "    }\n",
       "\n",
       "    .dataframe tbody tr th {\n",
       "        vertical-align: top;\n",
       "    }\n",
       "\n",
       "    .dataframe thead th {\n",
       "        text-align: right;\n",
       "    }\n",
       "</style>\n",
       "<table border=\"1\" class=\"dataframe\">\n",
       "  <thead>\n",
       "    <tr style=\"text-align: right;\">\n",
       "      <th></th>\n",
       "      <th>date</th>\n",
       "      <th>time</th>\n",
       "      <th>geo</th>\n",
       "      <th>username</th>\n",
       "      <th>tweet</th>\n",
       "      <th>retweets_count</th>\n",
       "      <th>likes_count</th>\n",
       "    </tr>\n",
       "  </thead>\n",
       "  <tbody>\n",
       "    <tr>\n",
       "      <th>0</th>\n",
       "      <td>1/10/2021</td>\n",
       "      <td>11:06:23 AM</td>\n",
       "      <td>51.507322,-0.127647,10km</td>\n",
       "      <td>nahhhman</td>\n",
       "      <td>@itismedaphne @eikuobaj Yeah</td>\n",
       "      <td>0</td>\n",
       "      <td>0</td>\n",
       "    </tr>\n",
       "    <tr>\n",
       "      <th>1</th>\n",
       "      <td>1/10/2021</td>\n",
       "      <td>11:06:21 AM</td>\n",
       "      <td>51.507322,-0.127647,10km</td>\n",
       "      <td>matthew83862519</td>\n",
       "      <td>@SeoirseDuffy_ Indeed. Do you ever sleep</td>\n",
       "      <td>0</td>\n",
       "      <td>0</td>\n",
       "    </tr>\n",
       "    <tr>\n",
       "      <th>2</th>\n",
       "      <td>1/10/2021</td>\n",
       "      <td>11:06:21 AM</td>\n",
       "      <td>51.507322,-0.127647,10km</td>\n",
       "      <td>mohsadiq16</td>\n",
       "      <td>It's 1st October already Time flies</td>\n",
       "      <td>0</td>\n",
       "      <td>0</td>\n",
       "    </tr>\n",
       "    <tr>\n",
       "      <th>3</th>\n",
       "      <td>1/10/2021</td>\n",
       "      <td>11:06:21 AM</td>\n",
       "      <td>51.507322,-0.127647,10km</td>\n",
       "      <td>naseem028</td>\n",
       "      <td>@AnnetteReid247 Right in the throat ðŸ˜­ðŸ˜­ then hit a brainbuster through a table ðŸ˜‚ðŸ˜‚</td>\n",
       "      <td>0</td>\n",
       "      <td>0</td>\n",
       "    </tr>\n",
       "    <tr>\n",
       "      <th>4</th>\n",
       "      <td>1/10/2021</td>\n",
       "      <td>11:06:21 AM</td>\n",
       "      <td>51.507322,-0.127647,10km</td>\n",
       "      <td>alexlepretre</td>\n",
       "      <td>@Loco_LFC @DanPriceSeattle It's a problem in so many countries. Pretty much every developed country has a market economy and owning property is something that's now out of reach of the working cla...</td>\n",
       "      <td>0</td>\n",
       "      <td>0</td>\n",
       "    </tr>\n",
       "    <tr>\n",
       "      <th>...</th>\n",
       "      <td>...</td>\n",
       "      <td>...</td>\n",
       "      <td>...</td>\n",
       "      <td>...</td>\n",
       "      <td>...</td>\n",
       "      <td>...</td>\n",
       "      <td>...</td>\n",
       "    </tr>\n",
       "    <tr>\n",
       "      <th>40400</th>\n",
       "      <td>1/10/2021</td>\n",
       "      <td>8:32:10 AM</td>\n",
       "      <td>51.507322,-0.127647,10km</td>\n",
       "      <td>n_nationalism</td>\n",
       "      <td>@TedBey @EZuelow And it is still available on the wonderful Internet Wayback Machine:  https://t.co/vQ1LJqwULG</td>\n",
       "      <td>0</td>\n",
       "      <td>1</td>\n",
       "    </tr>\n",
       "    <tr>\n",
       "      <th>40401</th>\n",
       "      <td>1/10/2021</td>\n",
       "      <td>8:32:09 AM</td>\n",
       "      <td>51.507322,-0.127647,10km</td>\n",
       "      <td>khloekleo</td>\n",
       "      <td>I wish I could just delete my socials I donâ€™t even think I need them, however how can I have a job in social media without it</td>\n",
       "      <td>0</td>\n",
       "      <td>0</td>\n",
       "    </tr>\n",
       "    <tr>\n",
       "      <th>40402</th>\n",
       "      <td>1/10/2021</td>\n",
       "      <td>8:32:09 AM</td>\n",
       "      <td>51.507322,-0.127647,10km</td>\n",
       "      <td>mickiano</td>\n",
       "      <td>Novi and Hakka will continue to see my coin because itâ€™s justified</td>\n",
       "      <td>0</td>\n",
       "      <td>1</td>\n",
       "    </tr>\n",
       "    <tr>\n",
       "      <th>40403</th>\n",
       "      <td>1/10/2021</td>\n",
       "      <td>8:32:09 AM</td>\n",
       "      <td>51.507322,-0.127647,10km</td>\n",
       "      <td>pcrepairsc</td>\n",
       "      <td>Do you need a (NO FIX NO FEE) computer service serving Shirley, email info@pcrepairscroydon.com #croydon</td>\n",
       "      <td>0</td>\n",
       "      <td>0</td>\n",
       "    </tr>\n",
       "    <tr>\n",
       "      <th>40404</th>\n",
       "      <td>1/10/2021</td>\n",
       "      <td>8:32:09 AM</td>\n",
       "      <td>51.507322,-0.127647,10km</td>\n",
       "      <td>ahmad_hk10</td>\n",
       "      <td>Ù…Ø±ÙŠØª Ù…Ù† Ù‡Ù†Ø§ Ø§Ø³ØªØºÙØ± Ø±Ø¨Ùƒ ..  https://t.co/103bjZhET7</td>\n",
       "      <td>0</td>\n",
       "      <td>2</td>\n",
       "    </tr>\n",
       "  </tbody>\n",
       "</table>\n",
       "<p>40405 rows × 7 columns</p>\n",
       "</div>"
      ],
      "text/plain": [
       "            date         time                       geo         username  \\\n",
       "0      1/10/2021  11:06:23 AM  51.507322,-0.127647,10km         nahhhman   \n",
       "1      1/10/2021  11:06:21 AM  51.507322,-0.127647,10km  matthew83862519   \n",
       "2      1/10/2021  11:06:21 AM  51.507322,-0.127647,10km       mohsadiq16   \n",
       "3      1/10/2021  11:06:21 AM  51.507322,-0.127647,10km        naseem028   \n",
       "4      1/10/2021  11:06:21 AM  51.507322,-0.127647,10km     alexlepretre   \n",
       "...          ...          ...                       ...              ...   \n",
       "40400  1/10/2021   8:32:10 AM  51.507322,-0.127647,10km    n_nationalism   \n",
       "40401  1/10/2021   8:32:09 AM  51.507322,-0.127647,10km        khloekleo   \n",
       "40402  1/10/2021   8:32:09 AM  51.507322,-0.127647,10km         mickiano   \n",
       "40403  1/10/2021   8:32:09 AM  51.507322,-0.127647,10km       pcrepairsc   \n",
       "40404  1/10/2021   8:32:09 AM  51.507322,-0.127647,10km       ahmad_hk10   \n",
       "\n",
       "                                                                                                                                                                                                         tweet  \\\n",
       "0                                                                                                                                                                                 @itismedaphne @eikuobaj Yeah   \n",
       "1                                                                                                                                                                     @SeoirseDuffy_ Indeed. Do you ever sleep   \n",
       "2                                                                                                                                                                          It's 1st October already Time flies   \n",
       "3                                                                                                                 @AnnetteReid247 Right in the throat ðŸ˜­ðŸ˜­ then hit a brainbuster through a table ðŸ˜‚ðŸ˜‚   \n",
       "4      @Loco_LFC @DanPriceSeattle It's a problem in so many countries. Pretty much every developed country has a market economy and owning property is something that's now out of reach of the working cla...   \n",
       "...                                                                                                                                                                                                        ...   \n",
       "40400                                                                                           @TedBey @EZuelow And it is still available on the wonderful Internet Wayback Machine:  https://t.co/vQ1LJqwULG   \n",
       "40401                                                                          I wish I could just delete my socials I donâ€™t even think I need them, however how can I have a job in social media without it   \n",
       "40402                                                                                                                                     Novi and Hakka will continue to see my coin because itâ€™s justified   \n",
       "40403                                                                                                 Do you need a (NO FIX NO FEE) computer service serving Shirley, email info@pcrepairscroydon.com #croydon   \n",
       "40404                                                                                                                                     Ù…Ø±ÙŠØª Ù…Ù† Ù‡Ù†Ø§ Ø§Ø³ØªØºÙØ± Ø±Ø¨Ùƒ ..  https://t.co/103bjZhET7   \n",
       "\n",
       "       retweets_count  likes_count  \n",
       "0                   0            0  \n",
       "1                   0            0  \n",
       "2                   0            0  \n",
       "3                   0            0  \n",
       "4                   0            0  \n",
       "...               ...          ...  \n",
       "40400               0            1  \n",
       "40401               0            0  \n",
       "40402               0            1  \n",
       "40403               0            0  \n",
       "40404               0            2  \n",
       "\n",
       "[40405 rows x 7 columns]"
      ]
     },
     "execution_count": 11,
     "metadata": {},
     "output_type": "execute_result"
    }
   ],
   "source": [
    "df_sml = df[['date', 'time', 'geo', 'username','tweet', 'retweets_count', 'likes_count' ]]\n",
    "df_sml"
   ]
  },
  {
   "cell_type": "code",
   "execution_count": 12,
   "id": "18f69eba",
   "metadata": {},
   "outputs": [
    {
     "name": "stderr",
     "output_type": "stream",
     "text": [
      "<ipython-input-12-67cc34171be6>:3: SettingWithCopyWarning: \n",
      "A value is trying to be set on a copy of a slice from a DataFrame.\n",
      "Try using .loc[row_indexer,col_indexer] = value instead\n",
      "\n",
      "See the caveats in the documentation: https://pandas.pydata.org/pandas-docs/stable/user_guide/indexing.html#returning-a-view-versus-a-copy\n",
      "  df_sml['date_time'] = df_sml['date'].str.cat(df['time'], sep =\" \")\n",
      "<ipython-input-12-67cc34171be6>:4: SettingWithCopyWarning: \n",
      "A value is trying to be set on a copy of a slice from a DataFrame.\n",
      "Try using .loc[row_indexer,col_indexer] = value instead\n",
      "\n",
      "See the caveats in the documentation: https://pandas.pydata.org/pandas-docs/stable/user_guide/indexing.html#returning-a-view-versus-a-copy\n",
      "  df_sml['date_time'] = pd.to_datetime(df_sml['date_time'])\n"
     ]
    },
    {
     "data": {
      "text/html": [
       "<div>\n",
       "<style scoped>\n",
       "    .dataframe tbody tr th:only-of-type {\n",
       "        vertical-align: middle;\n",
       "    }\n",
       "\n",
       "    .dataframe tbody tr th {\n",
       "        vertical-align: top;\n",
       "    }\n",
       "\n",
       "    .dataframe thead th {\n",
       "        text-align: right;\n",
       "    }\n",
       "</style>\n",
       "<table border=\"1\" class=\"dataframe\">\n",
       "  <thead>\n",
       "    <tr style=\"text-align: right;\">\n",
       "      <th></th>\n",
       "      <th>date_time</th>\n",
       "      <th>date</th>\n",
       "      <th>time</th>\n",
       "      <th>geo</th>\n",
       "      <th>username</th>\n",
       "      <th>tweet</th>\n",
       "      <th>retweets_count</th>\n",
       "      <th>likes_count</th>\n",
       "    </tr>\n",
       "  </thead>\n",
       "  <tbody>\n",
       "    <tr>\n",
       "      <th>0</th>\n",
       "      <td>2021-01-10 11:06:23</td>\n",
       "      <td>1/10/2021</td>\n",
       "      <td>11:06:23 AM</td>\n",
       "      <td>51.507322,-0.127647,10km</td>\n",
       "      <td>nahhhman</td>\n",
       "      <td>@itismedaphne @eikuobaj Yeah</td>\n",
       "      <td>0</td>\n",
       "      <td>0</td>\n",
       "    </tr>\n",
       "    <tr>\n",
       "      <th>1</th>\n",
       "      <td>2021-01-10 11:06:21</td>\n",
       "      <td>1/10/2021</td>\n",
       "      <td>11:06:21 AM</td>\n",
       "      <td>51.507322,-0.127647,10km</td>\n",
       "      <td>matthew83862519</td>\n",
       "      <td>@SeoirseDuffy_ Indeed. Do you ever sleep</td>\n",
       "      <td>0</td>\n",
       "      <td>0</td>\n",
       "    </tr>\n",
       "    <tr>\n",
       "      <th>2</th>\n",
       "      <td>2021-01-10 11:06:21</td>\n",
       "      <td>1/10/2021</td>\n",
       "      <td>11:06:21 AM</td>\n",
       "      <td>51.507322,-0.127647,10km</td>\n",
       "      <td>mohsadiq16</td>\n",
       "      <td>It's 1st October already Time flies</td>\n",
       "      <td>0</td>\n",
       "      <td>0</td>\n",
       "    </tr>\n",
       "  </tbody>\n",
       "</table>\n",
       "</div>"
      ],
      "text/plain": [
       "            date_time       date         time                       geo  \\\n",
       "0 2021-01-10 11:06:23  1/10/2021  11:06:23 AM  51.507322,-0.127647,10km   \n",
       "1 2021-01-10 11:06:21  1/10/2021  11:06:21 AM  51.507322,-0.127647,10km   \n",
       "2 2021-01-10 11:06:21  1/10/2021  11:06:21 AM  51.507322,-0.127647,10km   \n",
       "\n",
       "          username                                     tweet  retweets_count  \\\n",
       "0         nahhhman              @itismedaphne @eikuobaj Yeah               0   \n",
       "1  matthew83862519  @SeoirseDuffy_ Indeed. Do you ever sleep               0   \n",
       "2       mohsadiq16       It's 1st October already Time flies               0   \n",
       "\n",
       "   likes_count  \n",
       "0            0  \n",
       "1            0  \n",
       "2            0  "
      ]
     },
     "execution_count": 12,
     "metadata": {},
     "output_type": "execute_result"
    }
   ],
   "source": [
    "# Now, create a new column datetime for the merged datetime. \n",
    " #joining both the columns (First name and last name) with the help of Python str.cat() function\n",
    "df_sml['date_time'] = df_sml['date'].str.cat(df['time'], sep =\" \")\n",
    "df_sml['date_time'] = pd.to_datetime(df_sml['date_time']) \n",
    "df_sml = df_sml[['date_time','date', 'time', 'geo', 'username','tweet','retweets_count', 'likes_count']]\n",
    "df_sml.head(3)"
   ]
  },
  {
   "cell_type": "markdown",
   "id": "b87f8ebd",
   "metadata": {},
   "source": [
    "## DATA EXPLORATION\n",
    "\n",
    "The first part of data analysis is to get to know your data. This process is time consuming and possibly the most difficult thing to do (I would argue python is more difficult!!) \n",
    "\n",
    "### note need to encode user_id , need to count tweets per username\n"
   ]
  },
  {
   "cell_type": "code",
   "execution_count": 13,
   "id": "c81136f8",
   "metadata": {},
   "outputs": [
    {
     "data": {
      "text/html": [
       "<div>\n",
       "<style scoped>\n",
       "    .dataframe tbody tr th:only-of-type {\n",
       "        vertical-align: middle;\n",
       "    }\n",
       "\n",
       "    .dataframe tbody tr th {\n",
       "        vertical-align: top;\n",
       "    }\n",
       "\n",
       "    .dataframe thead th {\n",
       "        text-align: right;\n",
       "    }\n",
       "</style>\n",
       "<table border=\"1\" class=\"dataframe\">\n",
       "  <thead>\n",
       "    <tr style=\"text-align: right;\">\n",
       "      <th></th>\n",
       "      <th>retweets_count</th>\n",
       "      <th>likes_count</th>\n",
       "    </tr>\n",
       "  </thead>\n",
       "  <tbody>\n",
       "    <tr>\n",
       "      <th>count</th>\n",
       "      <td>40405.000000</td>\n",
       "      <td>40405.000000</td>\n",
       "    </tr>\n",
       "    <tr>\n",
       "      <th>mean</th>\n",
       "      <td>0.302537</td>\n",
       "      <td>1.848212</td>\n",
       "    </tr>\n",
       "    <tr>\n",
       "      <th>std</th>\n",
       "      <td>5.716749</td>\n",
       "      <td>20.675726</td>\n",
       "    </tr>\n",
       "    <tr>\n",
       "      <th>min</th>\n",
       "      <td>0.000000</td>\n",
       "      <td>0.000000</td>\n",
       "    </tr>\n",
       "    <tr>\n",
       "      <th>25%</th>\n",
       "      <td>0.000000</td>\n",
       "      <td>0.000000</td>\n",
       "    </tr>\n",
       "    <tr>\n",
       "      <th>50%</th>\n",
       "      <td>0.000000</td>\n",
       "      <td>0.000000</td>\n",
       "    </tr>\n",
       "    <tr>\n",
       "      <th>75%</th>\n",
       "      <td>0.000000</td>\n",
       "      <td>1.000000</td>\n",
       "    </tr>\n",
       "    <tr>\n",
       "      <th>max</th>\n",
       "      <td>830.000000</td>\n",
       "      <td>2886.000000</td>\n",
       "    </tr>\n",
       "  </tbody>\n",
       "</table>\n",
       "</div>"
      ],
      "text/plain": [
       "       retweets_count   likes_count\n",
       "count    40405.000000  40405.000000\n",
       "mean         0.302537      1.848212\n",
       "std          5.716749     20.675726\n",
       "min          0.000000      0.000000\n",
       "25%          0.000000      0.000000\n",
       "50%          0.000000      0.000000\n",
       "75%          0.000000      1.000000\n",
       "max        830.000000   2886.000000"
      ]
     },
     "execution_count": 13,
     "metadata": {},
     "output_type": "execute_result"
    }
   ],
   "source": [
    "df_sml.describe()"
   ]
  },
  {
   "cell_type": "code",
   "execution_count": 14,
   "id": "cfbe25fe",
   "metadata": {},
   "outputs": [
    {
     "data": {
      "text/html": [
       "<div>\n",
       "<style scoped>\n",
       "    .dataframe tbody tr th:only-of-type {\n",
       "        vertical-align: middle;\n",
       "    }\n",
       "\n",
       "    .dataframe tbody tr th {\n",
       "        vertical-align: top;\n",
       "    }\n",
       "\n",
       "    .dataframe thead th {\n",
       "        text-align: right;\n",
       "    }\n",
       "</style>\n",
       "<table border=\"1\" class=\"dataframe\">\n",
       "  <thead>\n",
       "    <tr style=\"text-align: right;\">\n",
       "      <th></th>\n",
       "      <th>retweets_count</th>\n",
       "      <th>likes_count</th>\n",
       "    </tr>\n",
       "    <tr>\n",
       "      <th>username</th>\n",
       "      <th></th>\n",
       "      <th></th>\n",
       "    </tr>\n",
       "  </thead>\n",
       "  <tbody>\n",
       "    <tr>\n",
       "      <th>005e5n</th>\n",
       "      <td>1.000000</td>\n",
       "      <td>3.5</td>\n",
       "    </tr>\n",
       "    <tr>\n",
       "      <th>007richierich</th>\n",
       "      <td>0.000000</td>\n",
       "      <td>0.0</td>\n",
       "    </tr>\n",
       "    <tr>\n",
       "      <th>00913hee</th>\n",
       "      <td>0.000000</td>\n",
       "      <td>0.0</td>\n",
       "    </tr>\n",
       "    <tr>\n",
       "      <th>02jv_r</th>\n",
       "      <td>0.000000</td>\n",
       "      <td>0.0</td>\n",
       "    </tr>\n",
       "    <tr>\n",
       "      <th>064rrr</th>\n",
       "      <td>0.000000</td>\n",
       "      <td>0.0</td>\n",
       "    </tr>\n",
       "    <tr>\n",
       "      <th>...</th>\n",
       "      <td>...</td>\n",
       "      <td>...</td>\n",
       "    </tr>\n",
       "    <tr>\n",
       "      <th>zxxchariou</th>\n",
       "      <td>0.000000</td>\n",
       "      <td>0.0</td>\n",
       "    </tr>\n",
       "    <tr>\n",
       "      <th>zylbersztajn</th>\n",
       "      <td>0.000000</td>\n",
       "      <td>0.0</td>\n",
       "    </tr>\n",
       "    <tr>\n",
       "      <th>zystral</th>\n",
       "      <td>0.000000</td>\n",
       "      <td>0.0</td>\n",
       "    </tr>\n",
       "    <tr>\n",
       "      <th>zytgst</th>\n",
       "      <td>0.000000</td>\n",
       "      <td>1.0</td>\n",
       "    </tr>\n",
       "    <tr>\n",
       "      <th>zzzzeeeeeee</th>\n",
       "      <td>0.666667</td>\n",
       "      <td>3.0</td>\n",
       "    </tr>\n",
       "  </tbody>\n",
       "</table>\n",
       "<p>13175 rows × 2 columns</p>\n",
       "</div>"
      ],
      "text/plain": [
       "               retweets_count  likes_count\n",
       "username                                  \n",
       "005e5n               1.000000          3.5\n",
       "007richierich        0.000000          0.0\n",
       "00913hee             0.000000          0.0\n",
       "02jv_r               0.000000          0.0\n",
       "064rrr               0.000000          0.0\n",
       "...                       ...          ...\n",
       "zxxchariou           0.000000          0.0\n",
       "zylbersztajn         0.000000          0.0\n",
       "zystral              0.000000          0.0\n",
       "zytgst               0.000000          1.0\n",
       "zzzzeeeeeee          0.666667          3.0\n",
       "\n",
       "[13175 rows x 2 columns]"
      ]
     },
     "execution_count": 14,
     "metadata": {},
     "output_type": "execute_result"
    }
   ],
   "source": [
    "df_sml.groupby(['username']).mean()"
   ]
  },
  {
   "cell_type": "code",
   "execution_count": 15,
   "id": "57ff29f9",
   "metadata": {},
   "outputs": [
    {
     "ename": "TypeError",
     "evalue": "count() takes 1 positional argument but 2 were given",
     "output_type": "error",
     "traceback": [
      "\u001b[1;31m---------------------------------------------------------------------------\u001b[0m",
      "\u001b[1;31mTypeError\u001b[0m                                 Traceback (most recent call last)",
      "\u001b[1;32m<ipython-input-15-646ab759b37b>\u001b[0m in \u001b[0;36m<module>\u001b[1;34m\u001b[0m\n\u001b[1;32m----> 1\u001b[1;33m \u001b[0mdf_sml\u001b[0m\u001b[1;33m[\u001b[0m\u001b[1;33m[\u001b[0m\u001b[1;34m\"username\"\u001b[0m\u001b[1;33m]\u001b[0m\u001b[1;33m]\u001b[0m\u001b[1;33m.\u001b[0m\u001b[0mgroupby\u001b[0m\u001b[1;33m(\u001b[0m\u001b[1;33m[\u001b[0m\u001b[1;34m'username'\u001b[0m\u001b[1;33m]\u001b[0m\u001b[1;33m)\u001b[0m\u001b[1;33m.\u001b[0m\u001b[0mcount\u001b[0m\u001b[1;33m(\u001b[0m\u001b[1;34m'tweet'\u001b[0m\u001b[1;33m)\u001b[0m\u001b[1;33m.\u001b[0m\u001b[0msort_values\u001b[0m\u001b[1;33m(\u001b[0m\u001b[0mby\u001b[0m\u001b[1;33m=\u001b[0m\u001b[1;34m'retweet'\u001b[0m\u001b[1;33m,\u001b[0m \u001b[0mascending\u001b[0m\u001b[1;33m=\u001b[0m\u001b[1;32mFalse\u001b[0m\u001b[1;33m)\u001b[0m\u001b[1;33m\u001b[0m\u001b[1;33m\u001b[0m\u001b[0m\n\u001b[0m",
      "\u001b[1;31mTypeError\u001b[0m: count() takes 1 positional argument but 2 were given"
     ]
    }
   ],
   "source": [
    "df_sml[[\"username\"]].groupby(['username']).count('tweet').sort_values(by='retweet', ascending=False)"
   ]
  },
  {
   "cell_type": "markdown",
   "id": "b044fd6e",
   "metadata": {},
   "source": [
    "check the distribution of length of the tweets, in terms of words, in the data. \n",
    "Remembering your statistics, What does this tell you about the datasets and the analysis you can do on them without risking misinterpreting the data or results? "
   ]
  },
  {
   "cell_type": "code",
   "execution_count": 16,
   "id": "a95ab970",
   "metadata": {},
   "outputs": [
    {
     "data": {
      "image/png": "[encoded data removed]",
      "text/plain": [
       "<Figure size 432x288 with 1 Axes>"
      ]
     },
     "metadata": {
      "needs_background": "light"
     },
     "output_type": "display_data"
    }
   ],
   "source": [
    "length_df_sml = df_sml['tweet'].str.len()\n",
    "\n",
    "plt.hist(length_df_sml, bins=20, label=\"length_tweets\")\n",
    "plt.legend()\n",
    "plt.show()"
   ]
  },
  {
   "cell_type": "markdown",
   "id": "c894e475",
   "metadata": {},
   "source": [
    "tweet is the text.\n",
    "Most of the tweets are short, there is a definate skew.\n"
   ]
  },
  {
   "cell_type": "code",
   "execution_count": 17,
   "id": "e95eb339",
   "metadata": {},
   "outputs": [
    {
     "data": {
      "text/plain": [
       "13175"
      ]
     },
     "execution_count": 17,
     "metadata": {},
     "output_type": "execute_result"
    }
   ],
   "source": [
    "#How many unique values are in this column?\n",
    "\n",
    "df_sml.username.nunique()"
   ]
  },
  {
   "cell_type": "code",
   "execution_count": 18,
   "id": "65b98c2e",
   "metadata": {},
   "outputs": [
    {
     "name": "stdout",
     "output_type": "stream",
     "text": [
      "               retweets_count  likes_count\n",
      "username                                  \n",
      "005e5n                      4           14\n",
      "007richierich               0            0\n",
      "00913hee                    0            0\n",
      "02jv_r                      0            0\n",
      "064rrr                      0            0\n",
      "...                       ...          ...\n",
      "zxxchariou                  0            0\n",
      "zylbersztajn                0            0\n",
      "zystral                     0            0\n",
      "zytgst                      0            1\n",
      "zzzzeeeeeee                 4           18\n",
      "\n",
      "[13175 rows x 2 columns]\n"
     ]
    },
    {
     "data": {
      "text/plain": [
       "<AxesSubplot:ylabel='username'>"
      ]
     },
     "execution_count": 18,
     "metadata": {},
     "output_type": "execute_result"
    },
    {
     "data": {
      "image/png": "[encoded data removed]",
      "text/plain": [
       "<Figure size 432x288 with 1 Axes>"
      ]
     },
     "metadata": {
      "needs_background": "light"
     },
     "output_type": "display_data"
    }
   ],
   "source": [
    "print(df_sml.groupby('username').sum())\n",
    "df_sml.groupby('username').sum().plot.barh()\n"
   ]
  },
  {
   "cell_type": "markdown",
   "id": "8188f8e7",
   "metadata": {},
   "source": [
    "## DataCleaning"
   ]
  },
  {
   "cell_type": "markdown",
   "id": "3a43d2d7",
   "metadata": {},
   "source": [
    "So, to move forward, I am going to start by:\n",
    "1. Remove columns that don't add anything at this point (I can always go back to them later)\n",
    "2. Change the data types that need to be changed (time and date, id numbers etc)\n",
    "3. The Twitter handles are already masked as @user because of privacy. They don't add anything. \n",
    "4. Remove punctuation, numbers and special characters \n",
    "5. Remove small words\n",
    "6. From there, split each tweet into individual words (tokens). \n",
    "7. Reduce word forms by stemming, and thus reduce the total number of unique words in our data without losing a significant amount of information.\n"
   ]
  },
  {
   "cell_type": "markdown",
   "id": "1a534915",
   "metadata": {},
   "source": [
    "### Remove @user from the tweet"
   ]
  },
  {
   "cell_type": "markdown",
   "id": "e23e81f5",
   "metadata": {},
   "source": [
    "NB This was a step in a previous analysis where the test and train set were combined to make sure that the data is all cleaned in one effort, but in this case, I only have the one set of data... I wanted to keep the code in case I needed to use it...\n",
    "'''combi = df_sml\n",
    "combi.shape\n",
    "combi'''\n"
   ]
  },
  {
   "cell_type": "code",
   "execution_count": 19,
   "id": "bd8e1b8e",
   "metadata": {},
   "outputs": [
    {
     "data": {
      "text/html": [
       "<div>\n",
       "<style scoped>\n",
       "    .dataframe tbody tr th:only-of-type {\n",
       "        vertical-align: middle;\n",
       "    }\n",
       "\n",
       "    .dataframe tbody tr th {\n",
       "        vertical-align: top;\n",
       "    }\n",
       "\n",
       "    .dataframe thead th {\n",
       "        text-align: right;\n",
       "    }\n",
       "</style>\n",
       "<table border=\"1\" class=\"dataframe\">\n",
       "  <thead>\n",
       "    <tr style=\"text-align: right;\">\n",
       "      <th></th>\n",
       "      <th>date_time</th>\n",
       "      <th>date</th>\n",
       "      <th>time</th>\n",
       "      <th>geo</th>\n",
       "      <th>username</th>\n",
       "      <th>tweet</th>\n",
       "      <th>retweets_count</th>\n",
       "      <th>likes_count</th>\n",
       "    </tr>\n",
       "  </thead>\n",
       "  <tbody>\n",
       "    <tr>\n",
       "      <th>0</th>\n",
       "      <td>2021-01-10 11:06:23</td>\n",
       "      <td>1/10/2021</td>\n",
       "      <td>11:06:23 AM</td>\n",
       "      <td>51.507322,-0.127647,10km</td>\n",
       "      <td>nahhhman</td>\n",
       "      <td>@itismedaphne @eikuobaj Yeah</td>\n",
       "      <td>0</td>\n",
       "      <td>0</td>\n",
       "    </tr>\n",
       "    <tr>\n",
       "      <th>1</th>\n",
       "      <td>2021-01-10 11:06:21</td>\n",
       "      <td>1/10/2021</td>\n",
       "      <td>11:06:21 AM</td>\n",
       "      <td>51.507322,-0.127647,10km</td>\n",
       "      <td>matthew83862519</td>\n",
       "      <td>@SeoirseDuffy_ Indeed. Do you ever sleep</td>\n",
       "      <td>0</td>\n",
       "      <td>0</td>\n",
       "    </tr>\n",
       "    <tr>\n",
       "      <th>2</th>\n",
       "      <td>2021-01-10 11:06:21</td>\n",
       "      <td>1/10/2021</td>\n",
       "      <td>11:06:21 AM</td>\n",
       "      <td>51.507322,-0.127647,10km</td>\n",
       "      <td>mohsadiq16</td>\n",
       "      <td>It's 1st October already Time flies</td>\n",
       "      <td>0</td>\n",
       "      <td>0</td>\n",
       "    </tr>\n",
       "    <tr>\n",
       "      <th>3</th>\n",
       "      <td>2021-01-10 11:06:21</td>\n",
       "      <td>1/10/2021</td>\n",
       "      <td>11:06:21 AM</td>\n",
       "      <td>51.507322,-0.127647,10km</td>\n",
       "      <td>naseem028</td>\n",
       "      <td>@AnnetteReid247 Right in the throat ðŸ˜­ðŸ˜­ then hit a brainbuster through a table ðŸ˜‚ðŸ˜‚</td>\n",
       "      <td>0</td>\n",
       "      <td>0</td>\n",
       "    </tr>\n",
       "    <tr>\n",
       "      <th>4</th>\n",
       "      <td>2021-01-10 11:06:21</td>\n",
       "      <td>1/10/2021</td>\n",
       "      <td>11:06:21 AM</td>\n",
       "      <td>51.507322,-0.127647,10km</td>\n",
       "      <td>alexlepretre</td>\n",
       "      <td>@Loco_LFC @DanPriceSeattle It's a problem in so many countries. Pretty much every developed country has a market economy and owning property is something that's now out of reach of the working cla...</td>\n",
       "      <td>0</td>\n",
       "      <td>0</td>\n",
       "    </tr>\n",
       "    <tr>\n",
       "      <th>...</th>\n",
       "      <td>...</td>\n",
       "      <td>...</td>\n",
       "      <td>...</td>\n",
       "      <td>...</td>\n",
       "      <td>...</td>\n",
       "      <td>...</td>\n",
       "      <td>...</td>\n",
       "      <td>...</td>\n",
       "    </tr>\n",
       "    <tr>\n",
       "      <th>40400</th>\n",
       "      <td>2021-01-10 08:32:10</td>\n",
       "      <td>1/10/2021</td>\n",
       "      <td>8:32:10 AM</td>\n",
       "      <td>51.507322,-0.127647,10km</td>\n",
       "      <td>n_nationalism</td>\n",
       "      <td>@TedBey @EZuelow And it is still available on the wonderful Internet Wayback Machine:  https://t.co/vQ1LJqwULG</td>\n",
       "      <td>0</td>\n",
       "      <td>1</td>\n",
       "    </tr>\n",
       "    <tr>\n",
       "      <th>40401</th>\n",
       "      <td>2021-01-10 08:32:09</td>\n",
       "      <td>1/10/2021</td>\n",
       "      <td>8:32:09 AM</td>\n",
       "      <td>51.507322,-0.127647,10km</td>\n",
       "      <td>khloekleo</td>\n",
       "      <td>I wish I could just delete my socials I donâ€™t even think I need them, however how can I have a job in social media without it</td>\n",
       "      <td>0</td>\n",
       "      <td>0</td>\n",
       "    </tr>\n",
       "    <tr>\n",
       "      <th>40402</th>\n",
       "      <td>2021-01-10 08:32:09</td>\n",
       "      <td>1/10/2021</td>\n",
       "      <td>8:32:09 AM</td>\n",
       "      <td>51.507322,-0.127647,10km</td>\n",
       "      <td>mickiano</td>\n",
       "      <td>Novi and Hakka will continue to see my coin because itâ€™s justified</td>\n",
       "      <td>0</td>\n",
       "      <td>1</td>\n",
       "    </tr>\n",
       "    <tr>\n",
       "      <th>40403</th>\n",
       "      <td>2021-01-10 08:32:09</td>\n",
       "      <td>1/10/2021</td>\n",
       "      <td>8:32:09 AM</td>\n",
       "      <td>51.507322,-0.127647,10km</td>\n",
       "      <td>pcrepairsc</td>\n",
       "      <td>Do you need a (NO FIX NO FEE) computer service serving Shirley, email info@pcrepairscroydon.com #croydon</td>\n",
       "      <td>0</td>\n",
       "      <td>0</td>\n",
       "    </tr>\n",
       "    <tr>\n",
       "      <th>40404</th>\n",
       "      <td>2021-01-10 08:32:09</td>\n",
       "      <td>1/10/2021</td>\n",
       "      <td>8:32:09 AM</td>\n",
       "      <td>51.507322,-0.127647,10km</td>\n",
       "      <td>ahmad_hk10</td>\n",
       "      <td>Ù…Ø±ÙŠØª Ù…Ù† Ù‡Ù†Ø§ Ø§Ø³ØªØºÙØ± Ø±Ø¨Ùƒ ..  https://t.co/103bjZhET7</td>\n",
       "      <td>0</td>\n",
       "      <td>2</td>\n",
       "    </tr>\n",
       "  </tbody>\n",
       "</table>\n",
       "<p>40405 rows × 8 columns</p>\n",
       "</div>"
      ],
      "text/plain": [
       "                date_time       date         time                       geo  \\\n",
       "0     2021-01-10 11:06:23  1/10/2021  11:06:23 AM  51.507322,-0.127647,10km   \n",
       "1     2021-01-10 11:06:21  1/10/2021  11:06:21 AM  51.507322,-0.127647,10km   \n",
       "2     2021-01-10 11:06:21  1/10/2021  11:06:21 AM  51.507322,-0.127647,10km   \n",
       "3     2021-01-10 11:06:21  1/10/2021  11:06:21 AM  51.507322,-0.127647,10km   \n",
       "4     2021-01-10 11:06:21  1/10/2021  11:06:21 AM  51.507322,-0.127647,10km   \n",
       "...                   ...        ...          ...                       ...   \n",
       "40400 2021-01-10 08:32:10  1/10/2021   8:32:10 AM  51.507322,-0.127647,10km   \n",
       "40401 2021-01-10 08:32:09  1/10/2021   8:32:09 AM  51.507322,-0.127647,10km   \n",
       "40402 2021-01-10 08:32:09  1/10/2021   8:32:09 AM  51.507322,-0.127647,10km   \n",
       "40403 2021-01-10 08:32:09  1/10/2021   8:32:09 AM  51.507322,-0.127647,10km   \n",
       "40404 2021-01-10 08:32:09  1/10/2021   8:32:09 AM  51.507322,-0.127647,10km   \n",
       "\n",
       "              username  \\\n",
       "0             nahhhman   \n",
       "1      matthew83862519   \n",
       "2           mohsadiq16   \n",
       "3            naseem028   \n",
       "4         alexlepretre   \n",
       "...                ...   \n",
       "40400    n_nationalism   \n",
       "40401        khloekleo   \n",
       "40402         mickiano   \n",
       "40403       pcrepairsc   \n",
       "40404       ahmad_hk10   \n",
       "\n",
       "                                                                                                                                                                                                         tweet  \\\n",
       "0                                                                                                                                                                                 @itismedaphne @eikuobaj Yeah   \n",
       "1                                                                                                                                                                     @SeoirseDuffy_ Indeed. Do you ever sleep   \n",
       "2                                                                                                                                                                          It's 1st October already Time flies   \n",
       "3                                                                                                                 @AnnetteReid247 Right in the throat ðŸ˜­ðŸ˜­ then hit a brainbuster through a table ðŸ˜‚ðŸ˜‚   \n",
       "4      @Loco_LFC @DanPriceSeattle It's a problem in so many countries. Pretty much every developed country has a market economy and owning property is something that's now out of reach of the working cla...   \n",
       "...                                                                                                                                                                                                        ...   \n",
       "40400                                                                                           @TedBey @EZuelow And it is still available on the wonderful Internet Wayback Machine:  https://t.co/vQ1LJqwULG   \n",
       "40401                                                                          I wish I could just delete my socials I donâ€™t even think I need them, however how can I have a job in social media without it   \n",
       "40402                                                                                                                                     Novi and Hakka will continue to see my coin because itâ€™s justified   \n",
       "40403                                                                                                 Do you need a (NO FIX NO FEE) computer service serving Shirley, email info@pcrepairscroydon.com #croydon   \n",
       "40404                                                                                                                                     Ù…Ø±ÙŠØª Ù…Ù† Ù‡Ù†Ø§ Ø§Ø³ØªØºÙØ± Ø±Ø¨Ùƒ ..  https://t.co/103bjZhET7   \n",
       "\n",
       "       retweets_count  likes_count  \n",
       "0                   0            0  \n",
       "1                   0            0  \n",
       "2                   0            0  \n",
       "3                   0            0  \n",
       "4                   0            0  \n",
       "...               ...          ...  \n",
       "40400               0            1  \n",
       "40401               0            0  \n",
       "40402               0            1  \n",
       "40403               0            0  \n",
       "40404               0            2  \n",
       "\n",
       "[40405 rows x 8 columns]"
      ]
     },
     "execution_count": 19,
     "metadata": {},
     "output_type": "execute_result"
    }
   ],
   "source": [
    "# Now to go ahead an remove the '@user' tag\n",
    "# define the remove @user function\n",
    "\n",
    "def remove_pattern(input_txt, pattern):\n",
    "    r = re.findall(pattern, input_txt)\n",
    "    for i in r:\n",
    "        input_txt = re.sub(i, '', input_txt)\n",
    "    return input_txt\n",
    "\n",
    "df_sml"
   ]
  },
  {
   "cell_type": "code",
   "execution_count": 20,
   "id": "736cb815",
   "metadata": {},
   "outputs": [
    {
     "name": "stderr",
     "output_type": "stream",
     "text": [
      "<ipython-input-20-2599861cc8b0>:4: SettingWithCopyWarning: \n",
      "A value is trying to be set on a copy of a slice from a DataFrame.\n",
      "Try using .loc[row_indexer,col_indexer] = value instead\n",
      "\n",
      "See the caveats in the documentation: https://pandas.pydata.org/pandas-docs/stable/user_guide/indexing.html#returning-a-view-versus-a-copy\n",
      "  df_sml['tidy_tweet'] = np.vectorize(remove_pattern)(df_sml['tweet'], \"@[\\w]*\")\n"
     ]
    },
    {
     "data": {
      "text/html": [
       "<div>\n",
       "<style scoped>\n",
       "    .dataframe tbody tr th:only-of-type {\n",
       "        vertical-align: middle;\n",
       "    }\n",
       "\n",
       "    .dataframe tbody tr th {\n",
       "        vertical-align: top;\n",
       "    }\n",
       "\n",
       "    .dataframe thead th {\n",
       "        text-align: right;\n",
       "    }\n",
       "</style>\n",
       "<table border=\"1\" class=\"dataframe\">\n",
       "  <thead>\n",
       "    <tr style=\"text-align: right;\">\n",
       "      <th></th>\n",
       "      <th>date_time</th>\n",
       "      <th>date</th>\n",
       "      <th>time</th>\n",
       "      <th>geo</th>\n",
       "      <th>username</th>\n",
       "      <th>tweet</th>\n",
       "      <th>retweets_count</th>\n",
       "      <th>likes_count</th>\n",
       "      <th>tidy_tweet</th>\n",
       "    </tr>\n",
       "  </thead>\n",
       "  <tbody>\n",
       "    <tr>\n",
       "      <th>0</th>\n",
       "      <td>2021-01-10 11:06:23</td>\n",
       "      <td>1/10/2021</td>\n",
       "      <td>11:06:23 AM</td>\n",
       "      <td>51.507322,-0.127647,10km</td>\n",
       "      <td>nahhhman</td>\n",
       "      <td>@itismedaphne @eikuobaj Yeah</td>\n",
       "      <td>0</td>\n",
       "      <td>0</td>\n",
       "      <td>Yeah</td>\n",
       "    </tr>\n",
       "    <tr>\n",
       "      <th>1</th>\n",
       "      <td>2021-01-10 11:06:21</td>\n",
       "      <td>1/10/2021</td>\n",
       "      <td>11:06:21 AM</td>\n",
       "      <td>51.507322,-0.127647,10km</td>\n",
       "      <td>matthew83862519</td>\n",
       "      <td>@SeoirseDuffy_ Indeed. Do you ever sleep</td>\n",
       "      <td>0</td>\n",
       "      <td>0</td>\n",
       "      <td>Indeed. Do you ever sleep</td>\n",
       "    </tr>\n",
       "    <tr>\n",
       "      <th>2</th>\n",
       "      <td>2021-01-10 11:06:21</td>\n",
       "      <td>1/10/2021</td>\n",
       "      <td>11:06:21 AM</td>\n",
       "      <td>51.507322,-0.127647,10km</td>\n",
       "      <td>mohsadiq16</td>\n",
       "      <td>It's 1st October already Time flies</td>\n",
       "      <td>0</td>\n",
       "      <td>0</td>\n",
       "      <td>It's 1st October already Time flies</td>\n",
       "    </tr>\n",
       "    <tr>\n",
       "      <th>3</th>\n",
       "      <td>2021-01-10 11:06:21</td>\n",
       "      <td>1/10/2021</td>\n",
       "      <td>11:06:21 AM</td>\n",
       "      <td>51.507322,-0.127647,10km</td>\n",
       "      <td>naseem028</td>\n",
       "      <td>@AnnetteReid247 Right in the throat ðŸ˜­ðŸ˜­ then hit a brainbuster through a table ðŸ˜‚ðŸ˜‚</td>\n",
       "      <td>0</td>\n",
       "      <td>0</td>\n",
       "      <td>Right in the throat ðŸ˜­ðŸ˜­ then hit a brainbuster through a table ðŸ˜‚ðŸ˜‚</td>\n",
       "    </tr>\n",
       "    <tr>\n",
       "      <th>4</th>\n",
       "      <td>2021-01-10 11:06:21</td>\n",
       "      <td>1/10/2021</td>\n",
       "      <td>11:06:21 AM</td>\n",
       "      <td>51.507322,-0.127647,10km</td>\n",
       "      <td>alexlepretre</td>\n",
       "      <td>@Loco_LFC @DanPriceSeattle It's a problem in so many countries. Pretty much every developed country has a market economy and owning property is something that's now out of reach of the working cla...</td>\n",
       "      <td>0</td>\n",
       "      <td>0</td>\n",
       "      <td>It's a problem in so many countries. Pretty much every developed country has a market economy and owning property is something that's now out of reach of the working class.  It baffles me that i...</td>\n",
       "    </tr>\n",
       "    <tr>\n",
       "      <th>...</th>\n",
       "      <td>...</td>\n",
       "      <td>...</td>\n",
       "      <td>...</td>\n",
       "      <td>...</td>\n",
       "      <td>...</td>\n",
       "      <td>...</td>\n",
       "      <td>...</td>\n",
       "      <td>...</td>\n",
       "      <td>...</td>\n",
       "    </tr>\n",
       "    <tr>\n",
       "      <th>40400</th>\n",
       "      <td>2021-01-10 08:32:10</td>\n",
       "      <td>1/10/2021</td>\n",
       "      <td>8:32:10 AM</td>\n",
       "      <td>51.507322,-0.127647,10km</td>\n",
       "      <td>n_nationalism</td>\n",
       "      <td>@TedBey @EZuelow And it is still available on the wonderful Internet Wayback Machine:  https://t.co/vQ1LJqwULG</td>\n",
       "      <td>0</td>\n",
       "      <td>1</td>\n",
       "      <td>And it is still available on the wonderful Internet Wayback Machine:  https://t.co/vQ1LJqwULG</td>\n",
       "    </tr>\n",
       "    <tr>\n",
       "      <th>40401</th>\n",
       "      <td>2021-01-10 08:32:09</td>\n",
       "      <td>1/10/2021</td>\n",
       "      <td>8:32:09 AM</td>\n",
       "      <td>51.507322,-0.127647,10km</td>\n",
       "      <td>khloekleo</td>\n",
       "      <td>I wish I could just delete my socials I donâ€™t even think I need them, however how can I have a job in social media without it</td>\n",
       "      <td>0</td>\n",
       "      <td>0</td>\n",
       "      <td>I wish I could just delete my socials I donâ€™t even think I need them, however how can I have a job in social media without it</td>\n",
       "    </tr>\n",
       "    <tr>\n",
       "      <th>40402</th>\n",
       "      <td>2021-01-10 08:32:09</td>\n",
       "      <td>1/10/2021</td>\n",
       "      <td>8:32:09 AM</td>\n",
       "      <td>51.507322,-0.127647,10km</td>\n",
       "      <td>mickiano</td>\n",
       "      <td>Novi and Hakka will continue to see my coin because itâ€™s justified</td>\n",
       "      <td>0</td>\n",
       "      <td>1</td>\n",
       "      <td>Novi and Hakka will continue to see my coin because itâ€™s justified</td>\n",
       "    </tr>\n",
       "    <tr>\n",
       "      <th>40403</th>\n",
       "      <td>2021-01-10 08:32:09</td>\n",
       "      <td>1/10/2021</td>\n",
       "      <td>8:32:09 AM</td>\n",
       "      <td>51.507322,-0.127647,10km</td>\n",
       "      <td>pcrepairsc</td>\n",
       "      <td>Do you need a (NO FIX NO FEE) computer service serving Shirley, email info@pcrepairscroydon.com #croydon</td>\n",
       "      <td>0</td>\n",
       "      <td>0</td>\n",
       "      <td>Do you need a (NO FIX NO FEE) computer service serving Shirley, email info.com #croydon</td>\n",
       "    </tr>\n",
       "    <tr>\n",
       "      <th>40404</th>\n",
       "      <td>2021-01-10 08:32:09</td>\n",
       "      <td>1/10/2021</td>\n",
       "      <td>8:32:09 AM</td>\n",
       "      <td>51.507322,-0.127647,10km</td>\n",
       "      <td>ahmad_hk10</td>\n",
       "      <td>Ù…Ø±ÙŠØª Ù…Ù† Ù‡Ù†Ø§ Ø§Ø³ØªØºÙØ± Ø±Ø¨Ùƒ ..  https://t.co/103bjZhET7</td>\n",
       "      <td>0</td>\n",
       "      <td>2</td>\n",
       "      <td>Ù…Ø±ÙŠØª Ù…Ù† Ù‡Ù†Ø§ Ø§Ø³ØªØºÙØ± Ø±Ø¨Ùƒ ..  https://t.co/103bjZhET7</td>\n",
       "    </tr>\n",
       "  </tbody>\n",
       "</table>\n",
       "<p>40405 rows × 9 columns</p>\n",
       "</div>"
      ],
      "text/plain": [
       "                date_time       date         time                       geo  \\\n",
       "0     2021-01-10 11:06:23  1/10/2021  11:06:23 AM  51.507322,-0.127647,10km   \n",
       "1     2021-01-10 11:06:21  1/10/2021  11:06:21 AM  51.507322,-0.127647,10km   \n",
       "2     2021-01-10 11:06:21  1/10/2021  11:06:21 AM  51.507322,-0.127647,10km   \n",
       "3     2021-01-10 11:06:21  1/10/2021  11:06:21 AM  51.507322,-0.127647,10km   \n",
       "4     2021-01-10 11:06:21  1/10/2021  11:06:21 AM  51.507322,-0.127647,10km   \n",
       "...                   ...        ...          ...                       ...   \n",
       "40400 2021-01-10 08:32:10  1/10/2021   8:32:10 AM  51.507322,-0.127647,10km   \n",
       "40401 2021-01-10 08:32:09  1/10/2021   8:32:09 AM  51.507322,-0.127647,10km   \n",
       "40402 2021-01-10 08:32:09  1/10/2021   8:32:09 AM  51.507322,-0.127647,10km   \n",
       "40403 2021-01-10 08:32:09  1/10/2021   8:32:09 AM  51.507322,-0.127647,10km   \n",
       "40404 2021-01-10 08:32:09  1/10/2021   8:32:09 AM  51.507322,-0.127647,10km   \n",
       "\n",
       "              username  \\\n",
       "0             nahhhman   \n",
       "1      matthew83862519   \n",
       "2           mohsadiq16   \n",
       "3            naseem028   \n",
       "4         alexlepretre   \n",
       "...                ...   \n",
       "40400    n_nationalism   \n",
       "40401        khloekleo   \n",
       "40402         mickiano   \n",
       "40403       pcrepairsc   \n",
       "40404       ahmad_hk10   \n",
       "\n",
       "                                                                                                                                                                                                         tweet  \\\n",
       "0                                                                                                                                                                                 @itismedaphne @eikuobaj Yeah   \n",
       "1                                                                                                                                                                     @SeoirseDuffy_ Indeed. Do you ever sleep   \n",
       "2                                                                                                                                                                          It's 1st October already Time flies   \n",
       "3                                                                                                                 @AnnetteReid247 Right in the throat ðŸ˜­ðŸ˜­ then hit a brainbuster through a table ðŸ˜‚ðŸ˜‚   \n",
       "4      @Loco_LFC @DanPriceSeattle It's a problem in so many countries. Pretty much every developed country has a market economy and owning property is something that's now out of reach of the working cla...   \n",
       "...                                                                                                                                                                                                        ...   \n",
       "40400                                                                                           @TedBey @EZuelow And it is still available on the wonderful Internet Wayback Machine:  https://t.co/vQ1LJqwULG   \n",
       "40401                                                                          I wish I could just delete my socials I donâ€™t even think I need them, however how can I have a job in social media without it   \n",
       "40402                                                                                                                                     Novi and Hakka will continue to see my coin because itâ€™s justified   \n",
       "40403                                                                                                 Do you need a (NO FIX NO FEE) computer service serving Shirley, email info@pcrepairscroydon.com #croydon   \n",
       "40404                                                                                                                                     Ù…Ø±ÙŠØª Ù…Ù† Ù‡Ù†Ø§ Ø§Ø³ØªØºÙØ± Ø±Ø¨Ùƒ ..  https://t.co/103bjZhET7   \n",
       "\n",
       "       retweets_count  likes_count  \\\n",
       "0                   0            0   \n",
       "1                   0            0   \n",
       "2                   0            0   \n",
       "3                   0            0   \n",
       "4                   0            0   \n",
       "...               ...          ...   \n",
       "40400               0            1   \n",
       "40401               0            0   \n",
       "40402               0            1   \n",
       "40403               0            0   \n",
       "40404               0            2   \n",
       "\n",
       "                                                                                                                                                                                                    tidy_tweet  \n",
       "0                                                                                                                                                                                                         Yeah  \n",
       "1                                                                                                                                                                                    Indeed. Do you ever sleep  \n",
       "2                                                                                                                                                                          It's 1st October already Time flies  \n",
       "3                                                                                                                                 Right in the throat ðŸ˜­ðŸ˜­ then hit a brainbuster through a table ðŸ˜‚ðŸ˜‚  \n",
       "4        It's a problem in so many countries. Pretty much every developed country has a market economy and owning property is something that's now out of reach of the working class.  It baffles me that i...  \n",
       "...                                                                                                                                                                                                        ...  \n",
       "40400                                                                                                            And it is still available on the wonderful Internet Wayback Machine:  https://t.co/vQ1LJqwULG  \n",
       "40401                                                                          I wish I could just delete my socials I donâ€™t even think I need them, however how can I have a job in social media without it  \n",
       "40402                                                                                                                                     Novi and Hakka will continue to see my coin because itâ€™s justified  \n",
       "40403                                                                                                                  Do you need a (NO FIX NO FEE) computer service serving Shirley, email info.com #croydon  \n",
       "40404                                                                                                                                     Ù…Ø±ÙŠØª Ù…Ù† Ù‡Ù†Ø§ Ø§Ø³ØªØºÙØ± Ø±Ø¨Ùƒ ..  https://t.co/103bjZhET7  \n",
       "\n",
       "[40405 rows x 9 columns]"
      ]
     },
     "execution_count": 20,
     "metadata": {},
     "output_type": "execute_result"
    }
   ],
   "source": [
    "# Now, create a new column tidy_tweet for the cleaned and processed tweets. \n",
    "# NB. passed “@[\\w]*” as the pattern to the remove_pattern function. It is actually a regular expression which will pick any word starting with ‘@’.\n",
    "\n",
    "df_sml['tidy_tweet'] = np.vectorize(remove_pattern)(df_sml['tweet'], \"@[\\w]*\")\n",
    "df_sml\n"
   ]
  },
  {
   "cell_type": "markdown",
   "id": "70d70b6c",
   "metadata": {},
   "source": [
    "### Remove punctuation, numbers and special characters"
   ]
  },
  {
   "cell_type": "code",
   "execution_count": 21,
   "id": "85661d35",
   "metadata": {},
   "outputs": [
    {
     "name": "stderr",
     "output_type": "stream",
     "text": [
      "<ipython-input-21-a1131e95e9ca>:3: SettingWithCopyWarning: \n",
      "A value is trying to be set on a copy of a slice from a DataFrame.\n",
      "Try using .loc[row_indexer,col_indexer] = value instead\n",
      "\n",
      "See the caveats in the documentation: https://pandas.pydata.org/pandas-docs/stable/user_guide/indexing.html#returning-a-view-versus-a-copy\n",
      "  df_sml['tidy_tweet'] = df_sml['tidy_tweet'].str.replace(\"[^a-zA-Z#]\", \" \", regex=True )\n"
     ]
    },
    {
     "data": {
      "text/html": [
       "<div>\n",
       "<style scoped>\n",
       "    .dataframe tbody tr th:only-of-type {\n",
       "        vertical-align: middle;\n",
       "    }\n",
       "\n",
       "    .dataframe tbody tr th {\n",
       "        vertical-align: top;\n",
       "    }\n",
       "\n",
       "    .dataframe thead th {\n",
       "        text-align: right;\n",
       "    }\n",
       "</style>\n",
       "<table border=\"1\" class=\"dataframe\">\n",
       "  <thead>\n",
       "    <tr style=\"text-align: right;\">\n",
       "      <th></th>\n",
       "      <th>date_time</th>\n",
       "      <th>date</th>\n",
       "      <th>time</th>\n",
       "      <th>geo</th>\n",
       "      <th>username</th>\n",
       "      <th>tweet</th>\n",
       "      <th>retweets_count</th>\n",
       "      <th>likes_count</th>\n",
       "      <th>tidy_tweet</th>\n",
       "    </tr>\n",
       "  </thead>\n",
       "  <tbody>\n",
       "    <tr>\n",
       "      <th>0</th>\n",
       "      <td>2021-01-10 11:06:23</td>\n",
       "      <td>1/10/2021</td>\n",
       "      <td>11:06:23 AM</td>\n",
       "      <td>51.507322,-0.127647,10km</td>\n",
       "      <td>nahhhman</td>\n",
       "      <td>@itismedaphne @eikuobaj Yeah</td>\n",
       "      <td>0</td>\n",
       "      <td>0</td>\n",
       "      <td>Yeah</td>\n",
       "    </tr>\n",
       "    <tr>\n",
       "      <th>1</th>\n",
       "      <td>2021-01-10 11:06:21</td>\n",
       "      <td>1/10/2021</td>\n",
       "      <td>11:06:21 AM</td>\n",
       "      <td>51.507322,-0.127647,10km</td>\n",
       "      <td>matthew83862519</td>\n",
       "      <td>@SeoirseDuffy_ Indeed. Do you ever sleep</td>\n",
       "      <td>0</td>\n",
       "      <td>0</td>\n",
       "      <td>Indeed  Do you ever sleep</td>\n",
       "    </tr>\n",
       "    <tr>\n",
       "      <th>2</th>\n",
       "      <td>2021-01-10 11:06:21</td>\n",
       "      <td>1/10/2021</td>\n",
       "      <td>11:06:21 AM</td>\n",
       "      <td>51.507322,-0.127647,10km</td>\n",
       "      <td>mohsadiq16</td>\n",
       "      <td>It's 1st October already Time flies</td>\n",
       "      <td>0</td>\n",
       "      <td>0</td>\n",
       "      <td>It s  st October already Time flies</td>\n",
       "    </tr>\n",
       "    <tr>\n",
       "      <th>3</th>\n",
       "      <td>2021-01-10 11:06:21</td>\n",
       "      <td>1/10/2021</td>\n",
       "      <td>11:06:21 AM</td>\n",
       "      <td>51.507322,-0.127647,10km</td>\n",
       "      <td>naseem028</td>\n",
       "      <td>@AnnetteReid247 Right in the throat ðŸ˜­ðŸ˜­ then hit a brainbuster through a table ðŸ˜‚ðŸ˜‚</td>\n",
       "      <td>0</td>\n",
       "      <td>0</td>\n",
       "      <td>Right in the throat          then hit a brainbuster through a table</td>\n",
       "    </tr>\n",
       "    <tr>\n",
       "      <th>4</th>\n",
       "      <td>2021-01-10 11:06:21</td>\n",
       "      <td>1/10/2021</td>\n",
       "      <td>11:06:21 AM</td>\n",
       "      <td>51.507322,-0.127647,10km</td>\n",
       "      <td>alexlepretre</td>\n",
       "      <td>@Loco_LFC @DanPriceSeattle It's a problem in so many countries. Pretty much every developed country has a market economy and owning property is something that's now out of reach of the working cla...</td>\n",
       "      <td>0</td>\n",
       "      <td>0</td>\n",
       "      <td>It s a problem in so many countries  Pretty much every developed country has a market economy and owning property is something that s now out of reach of the working class   It baffles me that i...</td>\n",
       "    </tr>\n",
       "    <tr>\n",
       "      <th>...</th>\n",
       "      <td>...</td>\n",
       "      <td>...</td>\n",
       "      <td>...</td>\n",
       "      <td>...</td>\n",
       "      <td>...</td>\n",
       "      <td>...</td>\n",
       "      <td>...</td>\n",
       "      <td>...</td>\n",
       "      <td>...</td>\n",
       "    </tr>\n",
       "    <tr>\n",
       "      <th>40400</th>\n",
       "      <td>2021-01-10 08:32:10</td>\n",
       "      <td>1/10/2021</td>\n",
       "      <td>8:32:10 AM</td>\n",
       "      <td>51.507322,-0.127647,10km</td>\n",
       "      <td>n_nationalism</td>\n",
       "      <td>@TedBey @EZuelow And it is still available on the wonderful Internet Wayback Machine:  https://t.co/vQ1LJqwULG</td>\n",
       "      <td>0</td>\n",
       "      <td>1</td>\n",
       "      <td>And it is still available on the wonderful Internet Wayback Machine   https   t co vQ LJqwULG</td>\n",
       "    </tr>\n",
       "    <tr>\n",
       "      <th>40401</th>\n",
       "      <td>2021-01-10 08:32:09</td>\n",
       "      <td>1/10/2021</td>\n",
       "      <td>8:32:09 AM</td>\n",
       "      <td>51.507322,-0.127647,10km</td>\n",
       "      <td>khloekleo</td>\n",
       "      <td>I wish I could just delete my socials I donâ€™t even think I need them, however how can I have a job in social media without it</td>\n",
       "      <td>0</td>\n",
       "      <td>0</td>\n",
       "      <td>I wish I could just delete my socials I don   t even think I need them  however how can I have a job in social media without it</td>\n",
       "    </tr>\n",
       "    <tr>\n",
       "      <th>40402</th>\n",
       "      <td>2021-01-10 08:32:09</td>\n",
       "      <td>1/10/2021</td>\n",
       "      <td>8:32:09 AM</td>\n",
       "      <td>51.507322,-0.127647,10km</td>\n",
       "      <td>mickiano</td>\n",
       "      <td>Novi and Hakka will continue to see my coin because itâ€™s justified</td>\n",
       "      <td>0</td>\n",
       "      <td>1</td>\n",
       "      <td>Novi and Hakka will continue to see my coin because it   s justified</td>\n",
       "    </tr>\n",
       "    <tr>\n",
       "      <th>40403</th>\n",
       "      <td>2021-01-10 08:32:09</td>\n",
       "      <td>1/10/2021</td>\n",
       "      <td>8:32:09 AM</td>\n",
       "      <td>51.507322,-0.127647,10km</td>\n",
       "      <td>pcrepairsc</td>\n",
       "      <td>Do you need a (NO FIX NO FEE) computer service serving Shirley, email info@pcrepairscroydon.com #croydon</td>\n",
       "      <td>0</td>\n",
       "      <td>0</td>\n",
       "      <td>Do you need a  NO FIX NO FEE  computer service serving Shirley  email info com #croydon</td>\n",
       "    </tr>\n",
       "    <tr>\n",
       "      <th>40404</th>\n",
       "      <td>2021-01-10 08:32:09</td>\n",
       "      <td>1/10/2021</td>\n",
       "      <td>8:32:09 AM</td>\n",
       "      <td>51.507322,-0.127647,10km</td>\n",
       "      <td>ahmad_hk10</td>\n",
       "      <td>Ù…Ø±ÙŠØª Ù…Ù† Ù‡Ù†Ø§ Ø§Ø³ØªØºÙØ± Ø±Ø¨Ùƒ ..  https://t.co/103bjZhET7</td>\n",
       "      <td>0</td>\n",
       "      <td>2</td>\n",
       "      <td>https   t co    bjZhET</td>\n",
       "    </tr>\n",
       "  </tbody>\n",
       "</table>\n",
       "<p>40405 rows × 9 columns</p>\n",
       "</div>"
      ],
      "text/plain": [
       "                date_time       date         time                       geo  \\\n",
       "0     2021-01-10 11:06:23  1/10/2021  11:06:23 AM  51.507322,-0.127647,10km   \n",
       "1     2021-01-10 11:06:21  1/10/2021  11:06:21 AM  51.507322,-0.127647,10km   \n",
       "2     2021-01-10 11:06:21  1/10/2021  11:06:21 AM  51.507322,-0.127647,10km   \n",
       "3     2021-01-10 11:06:21  1/10/2021  11:06:21 AM  51.507322,-0.127647,10km   \n",
       "4     2021-01-10 11:06:21  1/10/2021  11:06:21 AM  51.507322,-0.127647,10km   \n",
       "...                   ...        ...          ...                       ...   \n",
       "40400 2021-01-10 08:32:10  1/10/2021   8:32:10 AM  51.507322,-0.127647,10km   \n",
       "40401 2021-01-10 08:32:09  1/10/2021   8:32:09 AM  51.507322,-0.127647,10km   \n",
       "40402 2021-01-10 08:32:09  1/10/2021   8:32:09 AM  51.507322,-0.127647,10km   \n",
       "40403 2021-01-10 08:32:09  1/10/2021   8:32:09 AM  51.507322,-0.127647,10km   \n",
       "40404 2021-01-10 08:32:09  1/10/2021   8:32:09 AM  51.507322,-0.127647,10km   \n",
       "\n",
       "              username  \\\n",
       "0             nahhhman   \n",
       "1      matthew83862519   \n",
       "2           mohsadiq16   \n",
       "3            naseem028   \n",
       "4         alexlepretre   \n",
       "...                ...   \n",
       "40400    n_nationalism   \n",
       "40401        khloekleo   \n",
       "40402         mickiano   \n",
       "40403       pcrepairsc   \n",
       "40404       ahmad_hk10   \n",
       "\n",
       "                                                                                                                                                                                                         tweet  \\\n",
       "0                                                                                                                                                                                 @itismedaphne @eikuobaj Yeah   \n",
       "1                                                                                                                                                                     @SeoirseDuffy_ Indeed. Do you ever sleep   \n",
       "2                                                                                                                                                                          It's 1st October already Time flies   \n",
       "3                                                                                                                 @AnnetteReid247 Right in the throat ðŸ˜­ðŸ˜­ then hit a brainbuster through a table ðŸ˜‚ðŸ˜‚   \n",
       "4      @Loco_LFC @DanPriceSeattle It's a problem in so many countries. Pretty much every developed country has a market economy and owning property is something that's now out of reach of the working cla...   \n",
       "...                                                                                                                                                                                                        ...   \n",
       "40400                                                                                           @TedBey @EZuelow And it is still available on the wonderful Internet Wayback Machine:  https://t.co/vQ1LJqwULG   \n",
       "40401                                                                          I wish I could just delete my socials I donâ€™t even think I need them, however how can I have a job in social media without it   \n",
       "40402                                                                                                                                     Novi and Hakka will continue to see my coin because itâ€™s justified   \n",
       "40403                                                                                                 Do you need a (NO FIX NO FEE) computer service serving Shirley, email info@pcrepairscroydon.com #croydon   \n",
       "40404                                                                                                                                     Ù…Ø±ÙŠØª Ù…Ù† Ù‡Ù†Ø§ Ø§Ø³ØªØºÙØ± Ø±Ø¨Ùƒ ..  https://t.co/103bjZhET7   \n",
       "\n",
       "       retweets_count  likes_count  \\\n",
       "0                   0            0   \n",
       "1                   0            0   \n",
       "2                   0            0   \n",
       "3                   0            0   \n",
       "4                   0            0   \n",
       "...               ...          ...   \n",
       "40400               0            1   \n",
       "40401               0            0   \n",
       "40402               0            1   \n",
       "40403               0            0   \n",
       "40404               0            2   \n",
       "\n",
       "                                                                                                                                                                                                    tidy_tweet  \n",
       "0                                                                                                                                                                                                         Yeah  \n",
       "1                                                                                                                                                                                    Indeed  Do you ever sleep  \n",
       "2                                                                                                                                                                          It s  st October already Time flies  \n",
       "3                                                                                                                                 Right in the throat          then hit a brainbuster through a table           \n",
       "4        It s a problem in so many countries  Pretty much every developed country has a market economy and owning property is something that s now out of reach of the working class   It baffles me that i...  \n",
       "...                                                                                                                                                                                                        ...  \n",
       "40400                                                                                                            And it is still available on the wonderful Internet Wayback Machine   https   t co vQ LJqwULG  \n",
       "40401                                                                          I wish I could just delete my socials I don   t even think I need them  however how can I have a job in social media without it  \n",
       "40402                                                                                                                                     Novi and Hakka will continue to see my coin because it   s justified  \n",
       "40403                                                                                                                  Do you need a  NO FIX NO FEE  computer service serving Shirley  email info com #croydon  \n",
       "40404                                                                                                                                                                                  https   t co    bjZhET   \n",
       "\n",
       "[40405 rows x 9 columns]"
      ]
     },
     "execution_count": 21,
     "metadata": {},
     "output_type": "execute_result"
    }
   ],
   "source": [
    "# Remove special characters, numbers, punctuation\n",
    "\n",
    "df_sml['tidy_tweet'] = df_sml['tidy_tweet'].str.replace(\"[^a-zA-Z#]\", \" \", regex=True )\n",
    "df_sml"
   ]
  },
  {
   "cell_type": "markdown",
   "id": "1e16c58a",
   "metadata": {},
   "source": [
    "## Remove Short Words"
   ]
  },
  {
   "cell_type": "code",
   "execution_count": 22,
   "id": "ce3dfcec",
   "metadata": {},
   "outputs": [
    {
     "name": "stderr",
     "output_type": "stream",
     "text": [
      "<ipython-input-22-d6a423005c24>:3: SettingWithCopyWarning: \n",
      "A value is trying to be set on a copy of a slice from a DataFrame.\n",
      "Try using .loc[row_indexer,col_indexer] = value instead\n",
      "\n",
      "See the caveats in the documentation: https://pandas.pydata.org/pandas-docs/stable/user_guide/indexing.html#returning-a-view-versus-a-copy\n",
      "  df_sml['tidy_tweet'] = df_sml['tidy_tweet'].apply(lambda x: ' '.join([w for w in x.split() if len(w)>3]))\n"
     ]
    },
    {
     "data": {
      "text/html": [
       "<div>\n",
       "<style scoped>\n",
       "    .dataframe tbody tr th:only-of-type {\n",
       "        vertical-align: middle;\n",
       "    }\n",
       "\n",
       "    .dataframe tbody tr th {\n",
       "        vertical-align: top;\n",
       "    }\n",
       "\n",
       "    .dataframe thead th {\n",
       "        text-align: right;\n",
       "    }\n",
       "</style>\n",
       "<table border=\"1\" class=\"dataframe\">\n",
       "  <thead>\n",
       "    <tr style=\"text-align: right;\">\n",
       "      <th></th>\n",
       "      <th>date_time</th>\n",
       "      <th>date</th>\n",
       "      <th>time</th>\n",
       "      <th>geo</th>\n",
       "      <th>username</th>\n",
       "      <th>tweet</th>\n",
       "      <th>retweets_count</th>\n",
       "      <th>likes_count</th>\n",
       "      <th>tidy_tweet</th>\n",
       "    </tr>\n",
       "  </thead>\n",
       "  <tbody>\n",
       "    <tr>\n",
       "      <th>0</th>\n",
       "      <td>2021-01-10 11:06:23</td>\n",
       "      <td>1/10/2021</td>\n",
       "      <td>11:06:23 AM</td>\n",
       "      <td>51.507322,-0.127647,10km</td>\n",
       "      <td>nahhhman</td>\n",
       "      <td>@itismedaphne @eikuobaj Yeah</td>\n",
       "      <td>0</td>\n",
       "      <td>0</td>\n",
       "      <td>Yeah</td>\n",
       "    </tr>\n",
       "    <tr>\n",
       "      <th>1</th>\n",
       "      <td>2021-01-10 11:06:21</td>\n",
       "      <td>1/10/2021</td>\n",
       "      <td>11:06:21 AM</td>\n",
       "      <td>51.507322,-0.127647,10km</td>\n",
       "      <td>matthew83862519</td>\n",
       "      <td>@SeoirseDuffy_ Indeed. Do you ever sleep</td>\n",
       "      <td>0</td>\n",
       "      <td>0</td>\n",
       "      <td>Indeed ever sleep</td>\n",
       "    </tr>\n",
       "    <tr>\n",
       "      <th>2</th>\n",
       "      <td>2021-01-10 11:06:21</td>\n",
       "      <td>1/10/2021</td>\n",
       "      <td>11:06:21 AM</td>\n",
       "      <td>51.507322,-0.127647,10km</td>\n",
       "      <td>mohsadiq16</td>\n",
       "      <td>It's 1st October already Time flies</td>\n",
       "      <td>0</td>\n",
       "      <td>0</td>\n",
       "      <td>October already Time flies</td>\n",
       "    </tr>\n",
       "    <tr>\n",
       "      <th>3</th>\n",
       "      <td>2021-01-10 11:06:21</td>\n",
       "      <td>1/10/2021</td>\n",
       "      <td>11:06:21 AM</td>\n",
       "      <td>51.507322,-0.127647,10km</td>\n",
       "      <td>naseem028</td>\n",
       "      <td>@AnnetteReid247 Right in the throat ðŸ˜­ðŸ˜­ then hit a brainbuster through a table ðŸ˜‚ðŸ˜‚</td>\n",
       "      <td>0</td>\n",
       "      <td>0</td>\n",
       "      <td>Right throat then brainbuster through table</td>\n",
       "    </tr>\n",
       "    <tr>\n",
       "      <th>4</th>\n",
       "      <td>2021-01-10 11:06:21</td>\n",
       "      <td>1/10/2021</td>\n",
       "      <td>11:06:21 AM</td>\n",
       "      <td>51.507322,-0.127647,10km</td>\n",
       "      <td>alexlepretre</td>\n",
       "      <td>@Loco_LFC @DanPriceSeattle It's a problem in so many countries. Pretty much every developed country has a market economy and owning property is something that's now out of reach of the working cla...</td>\n",
       "      <td>0</td>\n",
       "      <td>0</td>\n",
       "      <td>problem many countries Pretty much every developed country market economy owning property something that reach working class baffles that this world opulence something basic housing hard come</td>\n",
       "    </tr>\n",
       "    <tr>\n",
       "      <th>...</th>\n",
       "      <td>...</td>\n",
       "      <td>...</td>\n",
       "      <td>...</td>\n",
       "      <td>...</td>\n",
       "      <td>...</td>\n",
       "      <td>...</td>\n",
       "      <td>...</td>\n",
       "      <td>...</td>\n",
       "      <td>...</td>\n",
       "    </tr>\n",
       "    <tr>\n",
       "      <th>40400</th>\n",
       "      <td>2021-01-10 08:32:10</td>\n",
       "      <td>1/10/2021</td>\n",
       "      <td>8:32:10 AM</td>\n",
       "      <td>51.507322,-0.127647,10km</td>\n",
       "      <td>n_nationalism</td>\n",
       "      <td>@TedBey @EZuelow And it is still available on the wonderful Internet Wayback Machine:  https://t.co/vQ1LJqwULG</td>\n",
       "      <td>0</td>\n",
       "      <td>1</td>\n",
       "      <td>still available wonderful Internet Wayback Machine https LJqwULG</td>\n",
       "    </tr>\n",
       "    <tr>\n",
       "      <th>40401</th>\n",
       "      <td>2021-01-10 08:32:09</td>\n",
       "      <td>1/10/2021</td>\n",
       "      <td>8:32:09 AM</td>\n",
       "      <td>51.507322,-0.127647,10km</td>\n",
       "      <td>khloekleo</td>\n",
       "      <td>I wish I could just delete my socials I donâ€™t even think I need them, however how can I have a job in social media without it</td>\n",
       "      <td>0</td>\n",
       "      <td>0</td>\n",
       "      <td>wish could just delete socials even think need them however have social media without</td>\n",
       "    </tr>\n",
       "    <tr>\n",
       "      <th>40402</th>\n",
       "      <td>2021-01-10 08:32:09</td>\n",
       "      <td>1/10/2021</td>\n",
       "      <td>8:32:09 AM</td>\n",
       "      <td>51.507322,-0.127647,10km</td>\n",
       "      <td>mickiano</td>\n",
       "      <td>Novi and Hakka will continue to see my coin because itâ€™s justified</td>\n",
       "      <td>0</td>\n",
       "      <td>1</td>\n",
       "      <td>Novi Hakka will continue coin because justified</td>\n",
       "    </tr>\n",
       "    <tr>\n",
       "      <th>40403</th>\n",
       "      <td>2021-01-10 08:32:09</td>\n",
       "      <td>1/10/2021</td>\n",
       "      <td>8:32:09 AM</td>\n",
       "      <td>51.507322,-0.127647,10km</td>\n",
       "      <td>pcrepairsc</td>\n",
       "      <td>Do you need a (NO FIX NO FEE) computer service serving Shirley, email info@pcrepairscroydon.com #croydon</td>\n",
       "      <td>0</td>\n",
       "      <td>0</td>\n",
       "      <td>need computer service serving Shirley email info #croydon</td>\n",
       "    </tr>\n",
       "    <tr>\n",
       "      <th>40404</th>\n",
       "      <td>2021-01-10 08:32:09</td>\n",
       "      <td>1/10/2021</td>\n",
       "      <td>8:32:09 AM</td>\n",
       "      <td>51.507322,-0.127647,10km</td>\n",
       "      <td>ahmad_hk10</td>\n",
       "      <td>Ù…Ø±ÙŠØª Ù…Ù† Ù‡Ù†Ø§ Ø§Ø³ØªØºÙØ± Ø±Ø¨Ùƒ ..  https://t.co/103bjZhET7</td>\n",
       "      <td>0</td>\n",
       "      <td>2</td>\n",
       "      <td>https bjZhET</td>\n",
       "    </tr>\n",
       "  </tbody>\n",
       "</table>\n",
       "<p>40405 rows × 9 columns</p>\n",
       "</div>"
      ],
      "text/plain": [
       "                date_time       date         time                       geo  \\\n",
       "0     2021-01-10 11:06:23  1/10/2021  11:06:23 AM  51.507322,-0.127647,10km   \n",
       "1     2021-01-10 11:06:21  1/10/2021  11:06:21 AM  51.507322,-0.127647,10km   \n",
       "2     2021-01-10 11:06:21  1/10/2021  11:06:21 AM  51.507322,-0.127647,10km   \n",
       "3     2021-01-10 11:06:21  1/10/2021  11:06:21 AM  51.507322,-0.127647,10km   \n",
       "4     2021-01-10 11:06:21  1/10/2021  11:06:21 AM  51.507322,-0.127647,10km   \n",
       "...                   ...        ...          ...                       ...   \n",
       "40400 2021-01-10 08:32:10  1/10/2021   8:32:10 AM  51.507322,-0.127647,10km   \n",
       "40401 2021-01-10 08:32:09  1/10/2021   8:32:09 AM  51.507322,-0.127647,10km   \n",
       "40402 2021-01-10 08:32:09  1/10/2021   8:32:09 AM  51.507322,-0.127647,10km   \n",
       "40403 2021-01-10 08:32:09  1/10/2021   8:32:09 AM  51.507322,-0.127647,10km   \n",
       "40404 2021-01-10 08:32:09  1/10/2021   8:32:09 AM  51.507322,-0.127647,10km   \n",
       "\n",
       "              username  \\\n",
       "0             nahhhman   \n",
       "1      matthew83862519   \n",
       "2           mohsadiq16   \n",
       "3            naseem028   \n",
       "4         alexlepretre   \n",
       "...                ...   \n",
       "40400    n_nationalism   \n",
       "40401        khloekleo   \n",
       "40402         mickiano   \n",
       "40403       pcrepairsc   \n",
       "40404       ahmad_hk10   \n",
       "\n",
       "                                                                                                                                                                                                         tweet  \\\n",
       "0                                                                                                                                                                                 @itismedaphne @eikuobaj Yeah   \n",
       "1                                                                                                                                                                     @SeoirseDuffy_ Indeed. Do you ever sleep   \n",
       "2                                                                                                                                                                          It's 1st October already Time flies   \n",
       "3                                                                                                                 @AnnetteReid247 Right in the throat ðŸ˜­ðŸ˜­ then hit a brainbuster through a table ðŸ˜‚ðŸ˜‚   \n",
       "4      @Loco_LFC @DanPriceSeattle It's a problem in so many countries. Pretty much every developed country has a market economy and owning property is something that's now out of reach of the working cla...   \n",
       "...                                                                                                                                                                                                        ...   \n",
       "40400                                                                                           @TedBey @EZuelow And it is still available on the wonderful Internet Wayback Machine:  https://t.co/vQ1LJqwULG   \n",
       "40401                                                                          I wish I could just delete my socials I donâ€™t even think I need them, however how can I have a job in social media without it   \n",
       "40402                                                                                                                                     Novi and Hakka will continue to see my coin because itâ€™s justified   \n",
       "40403                                                                                                 Do you need a (NO FIX NO FEE) computer service serving Shirley, email info@pcrepairscroydon.com #croydon   \n",
       "40404                                                                                                                                     Ù…Ø±ÙŠØª Ù…Ù† Ù‡Ù†Ø§ Ø§Ø³ØªØºÙØ± Ø±Ø¨Ùƒ ..  https://t.co/103bjZhET7   \n",
       "\n",
       "       retweets_count  likes_count  \\\n",
       "0                   0            0   \n",
       "1                   0            0   \n",
       "2                   0            0   \n",
       "3                   0            0   \n",
       "4                   0            0   \n",
       "...               ...          ...   \n",
       "40400               0            1   \n",
       "40401               0            0   \n",
       "40402               0            1   \n",
       "40403               0            0   \n",
       "40404               0            2   \n",
       "\n",
       "                                                                                                                                                                                            tidy_tweet  \n",
       "0                                                                                                                                                                                                 Yeah  \n",
       "1                                                                                                                                                                                    Indeed ever sleep  \n",
       "2                                                                                                                                                                           October already Time flies  \n",
       "3                                                                                                                                                          Right throat then brainbuster through table  \n",
       "4      problem many countries Pretty much every developed country market economy owning property something that reach working class baffles that this world opulence something basic housing hard come  \n",
       "...                                                                                                                                                                                                ...  \n",
       "40400                                                                                                                                 still available wonderful Internet Wayback Machine https LJqwULG  \n",
       "40401                                                                                                            wish could just delete socials even think need them however have social media without  \n",
       "40402                                                                                                                                                  Novi Hakka will continue coin because justified  \n",
       "40403                                                                                                                                        need computer service serving Shirley email info #croydon  \n",
       "40404                                                                                                                                                                                     https bjZhET  \n",
       "\n",
       "[40405 rows x 9 columns]"
      ]
     },
     "execution_count": 22,
     "metadata": {},
     "output_type": "execute_result"
    }
   ],
   "source": [
    "# Removing all words with three characters or less\n",
    "\n",
    "df_sml['tidy_tweet'] = df_sml['tidy_tweet'].apply(lambda x: ' '.join([w for w in x.split() if len(w)>3]))\n",
    "df_sml"
   ]
  },
  {
   "cell_type": "markdown",
   "id": "b9d7538c",
   "metadata": {},
   "source": [
    "## Text Normalisation"
   ]
  },
  {
   "cell_type": "markdown",
   "id": "f543daa8",
   "metadata": {},
   "source": [
    "Normalising text reduces its randomness and brings the text closer to a 'standard' and reduces the amount of information the computer has to deal with. Normalising reduces inflectional forms to a common base. "
   ]
  },
  {
   "cell_type": "markdown",
   "id": "9f2a43c0",
   "metadata": {},
   "source": [
    "## Tokenisation"
   ]
  },
  {
   "cell_type": "code",
   "execution_count": 23,
   "id": "e9fcab9a",
   "metadata": {},
   "outputs": [
    {
     "data": {
      "text/plain": [
       "0                                                                                                                                                                                                     [Yeah]\n",
       "1                                                                                                                                                                                      [Indeed, ever, sleep]\n",
       "2                                                                                                                                                                            [October, already, Time, flies]\n",
       "3                                                                                                                                                         [Right, throat, then, brainbuster, through, table]\n",
       "4    [problem, many, countries, Pretty, much, every, developed, country, market, economy, owning, property, something, that, reach, working, class, baffles, that, this, world, opulence, something, basi...\n",
       "Name: tidy_tweet, dtype: object"
      ]
     },
     "execution_count": 23,
     "metadata": {},
     "output_type": "execute_result"
    }
   ],
   "source": [
    "tokenized_tweet = df_sml['tidy_tweet'].apply(lambda x: x.split())\n",
    "tokenized_tweet.head()"
   ]
  },
  {
   "cell_type": "markdown",
   "id": "ff417ea3",
   "metadata": {},
   "source": [
    "## Stemming"
   ]
  },
  {
   "cell_type": "code",
   "execution_count": 24,
   "id": "54038f3e",
   "metadata": {
    "scrolled": true
   },
   "outputs": [
    {
     "data": {
      "text/plain": [
       "0                                                                                                                                                                                               [yeah]\n",
       "1                                                                                                                                                                                  [inde, ever, sleep]\n",
       "2                                                                                                                                                                          [octob, alreadi, time, fli]\n",
       "3                                                                                                                                                      [right, throat, then, brainbust, through, tabl]\n",
       "4    [problem, mani, countri, pretti, much, everi, develop, countri, market, economi, own, properti, someth, that, reach, work, class, baffl, that, thi, world, opul, someth, basic, hous, hard, come]\n",
       "Name: tidy_tweet, dtype: object"
      ]
     },
     "execution_count": 24,
     "metadata": {},
     "output_type": "execute_result"
    }
   ],
   "source": [
    "from nltk.stem.porter import *\n",
    "stemmer = PorterStemmer()\n",
    "tokenized_tweet = tokenized_tweet.apply(lambda x: [stemmer.stem(i) for i in x]) # stemming\n",
    "tokenized_tweet.head()"
   ]
  },
  {
   "cell_type": "markdown",
   "id": "0d461c6d",
   "metadata": {},
   "source": [
    "Now, to stick them back together..."
   ]
  },
  {
   "cell_type": "code",
   "execution_count": 25,
   "id": "106dacdf",
   "metadata": {},
   "outputs": [
    {
     "name": "stderr",
     "output_type": "stream",
     "text": [
      "<ipython-input-25-1bda00fd4854>:3: SettingWithCopyWarning: \n",
      "A value is trying to be set on a copy of a slice from a DataFrame.\n",
      "Try using .loc[row_indexer,col_indexer] = value instead\n",
      "\n",
      "See the caveats in the documentation: https://pandas.pydata.org/pandas-docs/stable/user_guide/indexing.html#returning-a-view-versus-a-copy\n",
      "  df_sml['stemmed_tweet'] = stemmed_tweet\n"
     ]
    },
    {
     "data": {
      "text/html": [
       "<div>\n",
       "<style scoped>\n",
       "    .dataframe tbody tr th:only-of-type {\n",
       "        vertical-align: middle;\n",
       "    }\n",
       "\n",
       "    .dataframe tbody tr th {\n",
       "        vertical-align: top;\n",
       "    }\n",
       "\n",
       "    .dataframe thead th {\n",
       "        text-align: right;\n",
       "    }\n",
       "</style>\n",
       "<table border=\"1\" class=\"dataframe\">\n",
       "  <thead>\n",
       "    <tr style=\"text-align: right;\">\n",
       "      <th></th>\n",
       "      <th>date_time</th>\n",
       "      <th>date</th>\n",
       "      <th>time</th>\n",
       "      <th>geo</th>\n",
       "      <th>username</th>\n",
       "      <th>tweet</th>\n",
       "      <th>retweets_count</th>\n",
       "      <th>likes_count</th>\n",
       "      <th>tidy_tweet</th>\n",
       "      <th>stemmed_tweet</th>\n",
       "    </tr>\n",
       "  </thead>\n",
       "  <tbody>\n",
       "    <tr>\n",
       "      <th>0</th>\n",
       "      <td>2021-01-10 11:06:23</td>\n",
       "      <td>1/10/2021</td>\n",
       "      <td>11:06:23 AM</td>\n",
       "      <td>51.507322,-0.127647,10km</td>\n",
       "      <td>nahhhman</td>\n",
       "      <td>@itismedaphne @eikuobaj Yeah</td>\n",
       "      <td>0</td>\n",
       "      <td>0</td>\n",
       "      <td>Yeah</td>\n",
       "      <td>yeah</td>\n",
       "    </tr>\n",
       "    <tr>\n",
       "      <th>1</th>\n",
       "      <td>2021-01-10 11:06:21</td>\n",
       "      <td>1/10/2021</td>\n",
       "      <td>11:06:21 AM</td>\n",
       "      <td>51.507322,-0.127647,10km</td>\n",
       "      <td>matthew83862519</td>\n",
       "      <td>@SeoirseDuffy_ Indeed. Do you ever sleep</td>\n",
       "      <td>0</td>\n",
       "      <td>0</td>\n",
       "      <td>Indeed ever sleep</td>\n",
       "      <td>inde ever sleep</td>\n",
       "    </tr>\n",
       "    <tr>\n",
       "      <th>2</th>\n",
       "      <td>2021-01-10 11:06:21</td>\n",
       "      <td>1/10/2021</td>\n",
       "      <td>11:06:21 AM</td>\n",
       "      <td>51.507322,-0.127647,10km</td>\n",
       "      <td>mohsadiq16</td>\n",
       "      <td>It's 1st October already Time flies</td>\n",
       "      <td>0</td>\n",
       "      <td>0</td>\n",
       "      <td>October already Time flies</td>\n",
       "      <td>octob alreadi time fli</td>\n",
       "    </tr>\n",
       "    <tr>\n",
       "      <th>3</th>\n",
       "      <td>2021-01-10 11:06:21</td>\n",
       "      <td>1/10/2021</td>\n",
       "      <td>11:06:21 AM</td>\n",
       "      <td>51.507322,-0.127647,10km</td>\n",
       "      <td>naseem028</td>\n",
       "      <td>@AnnetteReid247 Right in the throat ðŸ˜­ðŸ˜­ then hit a brainbuster through a table ðŸ˜‚ðŸ˜‚</td>\n",
       "      <td>0</td>\n",
       "      <td>0</td>\n",
       "      <td>Right throat then brainbuster through table</td>\n",
       "      <td>right throat then brainbust through tabl</td>\n",
       "    </tr>\n",
       "    <tr>\n",
       "      <th>4</th>\n",
       "      <td>2021-01-10 11:06:21</td>\n",
       "      <td>1/10/2021</td>\n",
       "      <td>11:06:21 AM</td>\n",
       "      <td>51.507322,-0.127647,10km</td>\n",
       "      <td>alexlepretre</td>\n",
       "      <td>@Loco_LFC @DanPriceSeattle It's a problem in so many countries. Pretty much every developed country has a market economy and owning property is something that's now out of reach of the working cla...</td>\n",
       "      <td>0</td>\n",
       "      <td>0</td>\n",
       "      <td>problem many countries Pretty much every developed country market economy owning property something that reach working class baffles that this world opulence something basic housing hard come</td>\n",
       "      <td>problem mani countri pretti much everi develop countri market economi own properti someth that reach work class baffl that thi world opul someth basic hous hard come</td>\n",
       "    </tr>\n",
       "  </tbody>\n",
       "</table>\n",
       "</div>"
      ],
      "text/plain": [
       "            date_time       date         time                       geo  \\\n",
       "0 2021-01-10 11:06:23  1/10/2021  11:06:23 AM  51.507322,-0.127647,10km   \n",
       "1 2021-01-10 11:06:21  1/10/2021  11:06:21 AM  51.507322,-0.127647,10km   \n",
       "2 2021-01-10 11:06:21  1/10/2021  11:06:21 AM  51.507322,-0.127647,10km   \n",
       "3 2021-01-10 11:06:21  1/10/2021  11:06:21 AM  51.507322,-0.127647,10km   \n",
       "4 2021-01-10 11:06:21  1/10/2021  11:06:21 AM  51.507322,-0.127647,10km   \n",
       "\n",
       "          username  \\\n",
       "0         nahhhman   \n",
       "1  matthew83862519   \n",
       "2       mohsadiq16   \n",
       "3        naseem028   \n",
       "4     alexlepretre   \n",
       "\n",
       "                                                                                                                                                                                                     tweet  \\\n",
       "0                                                                                                                                                                             @itismedaphne @eikuobaj Yeah   \n",
       "1                                                                                                                                                                 @SeoirseDuffy_ Indeed. Do you ever sleep   \n",
       "2                                                                                                                                                                      It's 1st October already Time flies   \n",
       "3                                                                                                             @AnnetteReid247 Right in the throat ðŸ˜­ðŸ˜­ then hit a brainbuster through a table ðŸ˜‚ðŸ˜‚   \n",
       "4  @Loco_LFC @DanPriceSeattle It's a problem in so many countries. Pretty much every developed country has a market economy and owning property is something that's now out of reach of the working cla...   \n",
       "\n",
       "   retweets_count  likes_count  \\\n",
       "0               0            0   \n",
       "1               0            0   \n",
       "2               0            0   \n",
       "3               0            0   \n",
       "4               0            0   \n",
       "\n",
       "                                                                                                                                                                                        tidy_tweet  \\\n",
       "0                                                                                                                                                                                             Yeah   \n",
       "1                                                                                                                                                                                Indeed ever sleep   \n",
       "2                                                                                                                                                                       October already Time flies   \n",
       "3                                                                                                                                                      Right throat then brainbuster through table   \n",
       "4  problem many countries Pretty much every developed country market economy owning property something that reach working class baffles that this world opulence something basic housing hard come   \n",
       "\n",
       "                                                                                                                                                           stemmed_tweet  \n",
       "0                                                                                                                                                                   yeah  \n",
       "1                                                                                                                                                        inde ever sleep  \n",
       "2                                                                                                                                                 octob alreadi time fli  \n",
       "3                                                                                                                               right throat then brainbust through tabl  \n",
       "4  problem mani countri pretti much everi develop countri market economi own properti someth that reach work class baffl that thi world opul someth basic hous hard come  "
      ]
     },
     "execution_count": 25,
     "metadata": {},
     "output_type": "execute_result"
    }
   ],
   "source": [
    "stemmed_tweet = tokenized_tweet.apply(lambda x: ' '.join(x))\n",
    "# stemmed_tweet.head()\n",
    "df_sml['stemmed_tweet'] = stemmed_tweet\n",
    "df_sml.head(5)"
   ]
  },
  {
   "cell_type": "code",
   "execution_count": 26,
   "id": "ff67753b",
   "metadata": {},
   "outputs": [],
   "source": [
    "# Continue to clean the text by removing any remaining characters and converting to lower case\n",
    "\n",
    "import re\n",
    "\n",
    "def clean_text(tidy_tweet):\n",
    "    #Remove RT\n",
    "    tidy_tweet = re.sub(r'RT', '', tidy_tweet)\n",
    "    \n",
    "    #Fix &\n",
    "    tidy_tweet = re.sub(r'&amp;', '&', tidy_tweet)\n",
    "    \n",
    "    #Remove punctuations\n",
    "    tidy_tweet = re.sub(r'[?!.;:,#@-]', '', tidy_tweet)\n",
    "\n",
    "    #Convert to lowercase to maintain consistency\n",
    "    tidy_tweet = tidy_tweet.lower()\n",
    "    return tidy_tweet"
   ]
  },
  {
   "cell_type": "markdown",
   "id": "0faa5c79",
   "metadata": {},
   "source": [
    "## Further Data Exploration\n",
    "\n",
    "1. Look at time distribution of tweets\n",
    "2. Look at statistics around user ids of original tweeters\n",
    "3. Look at statistics around those who reply\n",
    "4. Look at geolocation of tweets"
   ]
  },
  {
   "cell_type": "code",
   "execution_count": 27,
   "id": "ad02fbb6",
   "metadata": {},
   "outputs": [
    {
     "data": {
      "text/html": [
       "<div>\n",
       "<style scoped>\n",
       "    .dataframe tbody tr th:only-of-type {\n",
       "        vertical-align: middle;\n",
       "    }\n",
       "\n",
       "    .dataframe tbody tr th {\n",
       "        vertical-align: top;\n",
       "    }\n",
       "\n",
       "    .dataframe thead th {\n",
       "        text-align: right;\n",
       "    }\n",
       "</style>\n",
       "<table border=\"1\" class=\"dataframe\">\n",
       "  <thead>\n",
       "    <tr style=\"text-align: right;\">\n",
       "      <th></th>\n",
       "      <th>date_time</th>\n",
       "      <th>date</th>\n",
       "      <th>time</th>\n",
       "      <th>geo</th>\n",
       "      <th>username</th>\n",
       "      <th>tweet</th>\n",
       "      <th>retweets_count</th>\n",
       "      <th>likes_count</th>\n",
       "      <th>tidy_tweet</th>\n",
       "      <th>stemmed_tweet</th>\n",
       "    </tr>\n",
       "  </thead>\n",
       "  <tbody>\n",
       "    <tr>\n",
       "      <th>0</th>\n",
       "      <td>2021-01-10 11:06:23</td>\n",
       "      <td>1/10/2021</td>\n",
       "      <td>11:06:23 AM</td>\n",
       "      <td>51.507322,-0.127647,10km</td>\n",
       "      <td>nahhhman</td>\n",
       "      <td>@itismedaphne @eikuobaj Yeah</td>\n",
       "      <td>0</td>\n",
       "      <td>0</td>\n",
       "      <td>Yeah</td>\n",
       "      <td>yeah</td>\n",
       "    </tr>\n",
       "    <tr>\n",
       "      <th>1</th>\n",
       "      <td>2021-01-10 11:06:21</td>\n",
       "      <td>1/10/2021</td>\n",
       "      <td>11:06:21 AM</td>\n",
       "      <td>51.507322,-0.127647,10km</td>\n",
       "      <td>matthew83862519</td>\n",
       "      <td>@SeoirseDuffy_ Indeed. Do you ever sleep</td>\n",
       "      <td>0</td>\n",
       "      <td>0</td>\n",
       "      <td>Indeed ever sleep</td>\n",
       "      <td>inde ever sleep</td>\n",
       "    </tr>\n",
       "    <tr>\n",
       "      <th>2</th>\n",
       "      <td>2021-01-10 11:06:21</td>\n",
       "      <td>1/10/2021</td>\n",
       "      <td>11:06:21 AM</td>\n",
       "      <td>51.507322,-0.127647,10km</td>\n",
       "      <td>mohsadiq16</td>\n",
       "      <td>It's 1st October already Time flies</td>\n",
       "      <td>0</td>\n",
       "      <td>0</td>\n",
       "      <td>October already Time flies</td>\n",
       "      <td>octob alreadi time fli</td>\n",
       "    </tr>\n",
       "  </tbody>\n",
       "</table>\n",
       "</div>"
      ],
      "text/plain": [
       "            date_time       date         time                       geo  \\\n",
       "0 2021-01-10 11:06:23  1/10/2021  11:06:23 AM  51.507322,-0.127647,10km   \n",
       "1 2021-01-10 11:06:21  1/10/2021  11:06:21 AM  51.507322,-0.127647,10km   \n",
       "2 2021-01-10 11:06:21  1/10/2021  11:06:21 AM  51.507322,-0.127647,10km   \n",
       "\n",
       "          username                                     tweet  retweets_count  \\\n",
       "0         nahhhman              @itismedaphne @eikuobaj Yeah               0   \n",
       "1  matthew83862519  @SeoirseDuffy_ Indeed. Do you ever sleep               0   \n",
       "2       mohsadiq16       It's 1st October already Time flies               0   \n",
       "\n",
       "   likes_count                  tidy_tweet           stemmed_tweet  \n",
       "0            0                        Yeah                    yeah  \n",
       "1            0           Indeed ever sleep         inde ever sleep  \n",
       "2            0  October already Time flies  octob alreadi time fli  "
      ]
     },
     "execution_count": 27,
     "metadata": {},
     "output_type": "execute_result"
    }
   ],
   "source": [
    "df_sml.head(3)"
   ]
  },
  {
   "cell_type": "code",
   "execution_count": 28,
   "id": "bd1822ef",
   "metadata": {},
   "outputs": [
    {
     "data": {
      "text/plain": [
       "Index(['date_time', 'date', 'time', 'geo', 'username', 'tweet',\n",
       "       'retweets_count', 'likes_count', 'tidy_tweet', 'stemmed_tweet'],\n",
       "      dtype='object')"
      ]
     },
     "execution_count": 28,
     "metadata": {},
     "output_type": "execute_result"
    }
   ],
   "source": [
    "df_sml.columns"
   ]
  },
  {
   "cell_type": "markdown",
   "id": "2d8ada7a",
   "metadata": {},
   "source": [
    "Need to merge the date and time columns"
   ]
  },
  {
   "cell_type": "code",
   "execution_count": 29,
   "id": "8c5eacda",
   "metadata": {},
   "outputs": [
    {
     "name": "stderr",
     "output_type": "stream",
     "text": [
      "<ipython-input-29-2ca91c705cee>:3: SettingWithCopyWarning: \n",
      "A value is trying to be set on a copy of a slice from a DataFrame.\n",
      "Try using .loc[row_indexer,col_indexer] = value instead\n",
      "\n",
      "See the caveats in the documentation: https://pandas.pydata.org/pandas-docs/stable/user_guide/indexing.html#returning-a-view-versus-a-copy\n",
      "  df_sml['datetime'] = df_sml['date'].str.cat(df['time'], sep =\" \")\n",
      "<ipython-input-29-2ca91c705cee>:4: SettingWithCopyWarning: \n",
      "A value is trying to be set on a copy of a slice from a DataFrame.\n",
      "Try using .loc[row_indexer,col_indexer] = value instead\n",
      "\n",
      "See the caveats in the documentation: https://pandas.pydata.org/pandas-docs/stable/user_guide/indexing.html#returning-a-view-versus-a-copy\n",
      "  df_sml['datetime'] = pd.to_datetime(df_sml['datetime'])\n"
     ]
    },
    {
     "data": {
      "text/html": [
       "<div>\n",
       "<style scoped>\n",
       "    .dataframe tbody tr th:only-of-type {\n",
       "        vertical-align: middle;\n",
       "    }\n",
       "\n",
       "    .dataframe tbody tr th {\n",
       "        vertical-align: top;\n",
       "    }\n",
       "\n",
       "    .dataframe thead th {\n",
       "        text-align: right;\n",
       "    }\n",
       "</style>\n",
       "<table border=\"1\" class=\"dataframe\">\n",
       "  <thead>\n",
       "    <tr style=\"text-align: right;\">\n",
       "      <th></th>\n",
       "      <th>datetime</th>\n",
       "      <th>date</th>\n",
       "      <th>time</th>\n",
       "      <th>geo</th>\n",
       "      <th>username</th>\n",
       "      <th>tweet</th>\n",
       "      <th>tidy_tweet</th>\n",
       "      <th>retweets_count</th>\n",
       "      <th>likes_count</th>\n",
       "    </tr>\n",
       "  </thead>\n",
       "  <tbody>\n",
       "    <tr>\n",
       "      <th>0</th>\n",
       "      <td>2021-01-10 11:06:23</td>\n",
       "      <td>1/10/2021</td>\n",
       "      <td>11:06:23 AM</td>\n",
       "      <td>51.507322,-0.127647,10km</td>\n",
       "      <td>nahhhman</td>\n",
       "      <td>@itismedaphne @eikuobaj Yeah</td>\n",
       "      <td>Yeah</td>\n",
       "      <td>0</td>\n",
       "      <td>0</td>\n",
       "    </tr>\n",
       "    <tr>\n",
       "      <th>1</th>\n",
       "      <td>2021-01-10 11:06:21</td>\n",
       "      <td>1/10/2021</td>\n",
       "      <td>11:06:21 AM</td>\n",
       "      <td>51.507322,-0.127647,10km</td>\n",
       "      <td>matthew83862519</td>\n",
       "      <td>@SeoirseDuffy_ Indeed. Do you ever sleep</td>\n",
       "      <td>Indeed ever sleep</td>\n",
       "      <td>0</td>\n",
       "      <td>0</td>\n",
       "    </tr>\n",
       "    <tr>\n",
       "      <th>2</th>\n",
       "      <td>2021-01-10 11:06:21</td>\n",
       "      <td>1/10/2021</td>\n",
       "      <td>11:06:21 AM</td>\n",
       "      <td>51.507322,-0.127647,10km</td>\n",
       "      <td>mohsadiq16</td>\n",
       "      <td>It's 1st October already Time flies</td>\n",
       "      <td>October already Time flies</td>\n",
       "      <td>0</td>\n",
       "      <td>0</td>\n",
       "    </tr>\n",
       "  </tbody>\n",
       "</table>\n",
       "</div>"
      ],
      "text/plain": [
       "             datetime       date         time                       geo  \\\n",
       "0 2021-01-10 11:06:23  1/10/2021  11:06:23 AM  51.507322,-0.127647,10km   \n",
       "1 2021-01-10 11:06:21  1/10/2021  11:06:21 AM  51.507322,-0.127647,10km   \n",
       "2 2021-01-10 11:06:21  1/10/2021  11:06:21 AM  51.507322,-0.127647,10km   \n",
       "\n",
       "          username                                     tweet  \\\n",
       "0         nahhhman              @itismedaphne @eikuobaj Yeah   \n",
       "1  matthew83862519  @SeoirseDuffy_ Indeed. Do you ever sleep   \n",
       "2       mohsadiq16       It's 1st October already Time flies   \n",
       "\n",
       "                   tidy_tweet  retweets_count  likes_count  \n",
       "0                        Yeah               0            0  \n",
       "1           Indeed ever sleep               0            0  \n",
       "2  October already Time flies               0            0  "
      ]
     },
     "execution_count": 29,
     "metadata": {},
     "output_type": "execute_result"
    }
   ],
   "source": [
    "# Now, create a new column datetime for the merged datetime. \n",
    " #joining both the columns (First name and last name) with the help of Python str.cat() function\n",
    "df_sml['datetime'] = df_sml['date'].str.cat(df['time'], sep =\" \")\n",
    "df_sml['datetime'] = pd.to_datetime(df_sml['datetime']) \n",
    "df_sml = df_sml[['datetime','date', 'time', 'geo', 'username','tweet','tidy_tweet', 'retweets_count', 'likes_count']]\n",
    "df_sml.head(3)"
   ]
  },
  {
   "cell_type": "code",
   "execution_count": 30,
   "id": "a9b927a5",
   "metadata": {},
   "outputs": [
    {
     "data": {
      "text/plain": [
       "datetime          datetime64[ns]\n",
       "date                      object\n",
       "time                      object\n",
       "geo                       object\n",
       "username                  object\n",
       "tweet                     object\n",
       "tidy_tweet                object\n",
       "retweets_count             int64\n",
       "likes_count                int64\n",
       "dtype: object"
      ]
     },
     "execution_count": 30,
     "metadata": {},
     "output_type": "execute_result"
    }
   ],
   "source": [
    "df_sml.dtypes"
   ]
  },
  {
   "cell_type": "markdown",
   "id": "77faecec",
   "metadata": {},
   "source": [
    "## Visualisation and understanding the story behind the tweets"
   ]
  },
  {
   "cell_type": "markdown",
   "id": "93786885",
   "metadata": {},
   "source": [
    "This is part of the data exploration and visualisation. Some fo the quesitons we may want to ask include things like: \n",
    "    1. What words are most common\n",
    "    2. What words are most common for negative and positive tweets, respectively?\n",
    "    3. How many hashtags in a tweet?\n",
    "    4. What are the trends in the data?\n",
    "    5. Which of the trends are associated with sentiments, positive and negative? Are they compatible with the sentiments?"
   ]
  },
  {
   "cell_type": "markdown",
   "id": "9ffd2647",
   "metadata": {},
   "source": [
    "### Wordcloud plot"
   ]
  },
  {
   "cell_type": "code",
   "execution_count": 31,
   "id": "6e6e5053",
   "metadata": {},
   "outputs": [
    {
     "data": {
      "text/plain": [
       "the                        12009\n",
       "to                          9828\n",
       "a                           8685\n",
       "I                           6780\n",
       "and                         6722\n",
       "                           ...  \n",
       "publics                        1\n",
       "@Sanise13                      1\n",
       "bell.                          1\n",
       "https://t.co/UiGDQ4N4Yf        1\n",
       "GrosðŸ¤£!                      1\n",
       "Length: 116483, dtype: int64"
      ]
     },
     "execution_count": 31,
     "metadata": {},
     "output_type": "execute_result"
    }
   ],
   "source": [
    "def gen_freq(tweet):\n",
    "    #Will store the list of words\n",
    "    word_list = []\n",
    "\n",
    "    #Loop over all the tweets and extract words into word_list\n",
    "    for tw_words in tweet.split():\n",
    "        word_list.extend(tw_words)\n",
    "\n",
    "    #Create word frequencies using word_list\n",
    "    word_freq = pd.Series(word_list).value_counts()\n",
    "\n",
    "    #Print top 20 words\n",
    "    word_freq[:20]\n",
    "    \n",
    "    return word_freq\n",
    "\n",
    "gen_freq(df_sml.tweet.str)"
   ]
  },
  {
   "cell_type": "code",
   "execution_count": 32,
   "id": "43c9e97e",
   "metadata": {},
   "outputs": [
    {
     "ename": "TypeError",
     "evalue": "expected string or bytes-like object",
     "output_type": "error",
     "traceback": [
      "\u001b[1;31m---------------------------------------------------------------------------\u001b[0m",
      "\u001b[1;31mTypeError\u001b[0m                                 Traceback (most recent call last)",
      "\u001b[1;32m<ipython-input-32-855420ba530e>\u001b[0m in \u001b[0;36m<module>\u001b[1;34m\u001b[0m\n\u001b[0;32m      1\u001b[0m \u001b[0mall_words\u001b[0m \u001b[1;33m=\u001b[0m \u001b[1;34m' '\u001b[0m\u001b[1;33m.\u001b[0m\u001b[0mjoin\u001b[0m\u001b[1;33m(\u001b[0m\u001b[1;33m[\u001b[0m\u001b[0mtext\u001b[0m \u001b[1;32mfor\u001b[0m \u001b[0mtext\u001b[0m \u001b[1;32min\u001b[0m \u001b[0mdf_sml\u001b[0m\u001b[1;33m[\u001b[0m\u001b[1;34m'tidy_tweet'\u001b[0m\u001b[1;33m]\u001b[0m\u001b[1;33m]\u001b[0m\u001b[1;33m)\u001b[0m\u001b[1;33m\u001b[0m\u001b[1;33m\u001b[0m\u001b[0m\n\u001b[0;32m      2\u001b[0m \u001b[1;32mfrom\u001b[0m \u001b[0mwordcloud\u001b[0m \u001b[1;32mimport\u001b[0m \u001b[0mWordCloud\u001b[0m\u001b[1;33m\u001b[0m\u001b[1;33m\u001b[0m\u001b[0m\n\u001b[1;32m----> 3\u001b[1;33m \u001b[0mwordcloud\u001b[0m \u001b[1;33m=\u001b[0m \u001b[0mWordCloud\u001b[0m\u001b[1;33m(\u001b[0m\u001b[0mwidth\u001b[0m\u001b[1;33m=\u001b[0m\u001b[1;36m800\u001b[0m\u001b[1;33m,\u001b[0m \u001b[0mheight\u001b[0m\u001b[1;33m=\u001b[0m\u001b[1;36m500\u001b[0m\u001b[1;33m,\u001b[0m \u001b[0mrandom_state\u001b[0m\u001b[1;33m=\u001b[0m\u001b[1;36m21\u001b[0m\u001b[1;33m,\u001b[0m \u001b[0mmax_font_size\u001b[0m\u001b[1;33m=\u001b[0m\u001b[1;36m110\u001b[0m\u001b[1;33m)\u001b[0m\u001b[1;33m.\u001b[0m\u001b[0mgenerate\u001b[0m\u001b[1;33m(\u001b[0m\u001b[0mall_words\u001b[0m\u001b[1;33m)\u001b[0m\u001b[1;33m\u001b[0m\u001b[1;33m\u001b[0m\u001b[0m\n\u001b[0m\u001b[0;32m      4\u001b[0m \u001b[1;33m\u001b[0m\u001b[0m\n\u001b[0;32m      5\u001b[0m \u001b[0mplt\u001b[0m\u001b[1;33m.\u001b[0m\u001b[0mfigure\u001b[0m\u001b[1;33m(\u001b[0m\u001b[0mfigsize\u001b[0m\u001b[1;33m=\u001b[0m\u001b[1;33m(\u001b[0m\u001b[1;36m15\u001b[0m\u001b[1;33m,\u001b[0m \u001b[1;36m10\u001b[0m\u001b[1;33m)\u001b[0m\u001b[1;33m)\u001b[0m\u001b[1;33m\u001b[0m\u001b[1;33m\u001b[0m\u001b[0m\n",
      "\u001b[1;32mC:\\ProgramData\\Anaconda3\\lib\\site-packages\\wordcloud\\wordcloud.py\u001b[0m in \u001b[0;36mgenerate\u001b[1;34m(self, text)\u001b[0m\n\u001b[0;32m    630\u001b[0m         \u001b[0mself\u001b[0m\u001b[1;33m\u001b[0m\u001b[1;33m\u001b[0m\u001b[0m\n\u001b[0;32m    631\u001b[0m         \"\"\"\n\u001b[1;32m--> 632\u001b[1;33m         \u001b[1;32mreturn\u001b[0m \u001b[0mself\u001b[0m\u001b[1;33m.\u001b[0m\u001b[0mgenerate_from_text\u001b[0m\u001b[1;33m(\u001b[0m\u001b[0mtext\u001b[0m\u001b[1;33m)\u001b[0m\u001b[1;33m\u001b[0m\u001b[1;33m\u001b[0m\u001b[0m\n\u001b[0m\u001b[0;32m    633\u001b[0m \u001b[1;33m\u001b[0m\u001b[0m\n\u001b[0;32m    634\u001b[0m     \u001b[1;32mdef\u001b[0m \u001b[0m_check_generated\u001b[0m\u001b[1;33m(\u001b[0m\u001b[0mself\u001b[0m\u001b[1;33m)\u001b[0m\u001b[1;33m:\u001b[0m\u001b[1;33m\u001b[0m\u001b[1;33m\u001b[0m\u001b[0m\n",
      "\u001b[1;32mC:\\ProgramData\\Anaconda3\\lib\\site-packages\\wordcloud\\wordcloud.py\u001b[0m in \u001b[0;36mgenerate_from_text\u001b[1;34m(self, text)\u001b[0m\n\u001b[0;32m    612\u001b[0m         \"\"\"\n\u001b[0;32m    613\u001b[0m         \u001b[0mwords\u001b[0m \u001b[1;33m=\u001b[0m \u001b[0mself\u001b[0m\u001b[1;33m.\u001b[0m\u001b[0mprocess_text\u001b[0m\u001b[1;33m(\u001b[0m\u001b[0mtext\u001b[0m\u001b[1;33m)\u001b[0m\u001b[1;33m\u001b[0m\u001b[1;33m\u001b[0m\u001b[0m\n\u001b[1;32m--> 614\u001b[1;33m         \u001b[0mself\u001b[0m\u001b[1;33m.\u001b[0m\u001b[0mgenerate_from_frequencies\u001b[0m\u001b[1;33m(\u001b[0m\u001b[0mwords\u001b[0m\u001b[1;33m)\u001b[0m\u001b[1;33m\u001b[0m\u001b[1;33m\u001b[0m\u001b[0m\n\u001b[0m\u001b[0;32m    615\u001b[0m         \u001b[1;32mreturn\u001b[0m \u001b[0mself\u001b[0m\u001b[1;33m\u001b[0m\u001b[1;33m\u001b[0m\u001b[0m\n\u001b[0;32m    616\u001b[0m \u001b[1;33m\u001b[0m\u001b[0m\n",
      "\u001b[1;32mC:\\ProgramData\\Anaconda3\\lib\\site-packages\\wordcloud\\wordcloud.py\u001b[0m in \u001b[0;36mgenerate_from_frequencies\u001b[1;34m(self, frequencies, max_font_size)\u001b[0m\n\u001b[0;32m    494\u001b[0m             \u001b[1;32mwhile\u001b[0m \u001b[1;32mTrue\u001b[0m\u001b[1;33m:\u001b[0m\u001b[1;33m\u001b[0m\u001b[1;33m\u001b[0m\u001b[0m\n\u001b[0;32m    495\u001b[0m                 \u001b[1;31m# try to find a position\u001b[0m\u001b[1;33m\u001b[0m\u001b[1;33m\u001b[0m\u001b[1;33m\u001b[0m\u001b[0m\n\u001b[1;32m--> 496\u001b[1;33m                 \u001b[0mfont\u001b[0m \u001b[1;33m=\u001b[0m \u001b[0mImageFont\u001b[0m\u001b[1;33m.\u001b[0m\u001b[0mtruetype\u001b[0m\u001b[1;33m(\u001b[0m\u001b[0mself\u001b[0m\u001b[1;33m.\u001b[0m\u001b[0mfont_path\u001b[0m\u001b[1;33m,\u001b[0m \u001b[0mfont_size\u001b[0m\u001b[1;33m)\u001b[0m\u001b[1;33m\u001b[0m\u001b[1;33m\u001b[0m\u001b[0m\n\u001b[0m\u001b[0;32m    497\u001b[0m                 \u001b[1;31m# transpose font optionally\u001b[0m\u001b[1;33m\u001b[0m\u001b[1;33m\u001b[0m\u001b[1;33m\u001b[0m\u001b[0m\n\u001b[0;32m    498\u001b[0m                 transposed_font = ImageFont.TransposedFont(\n",
      "\u001b[1;32mC:\\ProgramData\\Anaconda3\\lib\\site-packages\\PIL\\ImageFont.py\u001b[0m in \u001b[0;36mtruetype\u001b[1;34m(font, size, index, encoding, layout_engine)\u001b[0m\n\u001b[0;32m    851\u001b[0m \u001b[1;33m\u001b[0m\u001b[0m\n\u001b[0;32m    852\u001b[0m     \u001b[1;32mtry\u001b[0m\u001b[1;33m:\u001b[0m\u001b[1;33m\u001b[0m\u001b[1;33m\u001b[0m\u001b[0m\n\u001b[1;32m--> 853\u001b[1;33m         \u001b[1;32mreturn\u001b[0m \u001b[0mfreetype\u001b[0m\u001b[1;33m(\u001b[0m\u001b[0mfont\u001b[0m\u001b[1;33m)\u001b[0m\u001b[1;33m\u001b[0m\u001b[1;33m\u001b[0m\u001b[0m\n\u001b[0m\u001b[0;32m    854\u001b[0m     \u001b[1;32mexcept\u001b[0m \u001b[0mOSError\u001b[0m\u001b[1;33m:\u001b[0m\u001b[1;33m\u001b[0m\u001b[1;33m\u001b[0m\u001b[0m\n\u001b[0;32m    855\u001b[0m         \u001b[1;32mif\u001b[0m \u001b[1;32mnot\u001b[0m \u001b[0misPath\u001b[0m\u001b[1;33m(\u001b[0m\u001b[0mfont\u001b[0m\u001b[1;33m)\u001b[0m\u001b[1;33m:\u001b[0m\u001b[1;33m\u001b[0m\u001b[1;33m\u001b[0m\u001b[0m\n",
      "\u001b[1;32mC:\\ProgramData\\Anaconda3\\lib\\site-packages\\PIL\\ImageFont.py\u001b[0m in \u001b[0;36mfreetype\u001b[1;34m(font)\u001b[0m\n\u001b[0;32m    848\u001b[0m \u001b[1;33m\u001b[0m\u001b[0m\n\u001b[0;32m    849\u001b[0m     \u001b[1;32mdef\u001b[0m \u001b[0mfreetype\u001b[0m\u001b[1;33m(\u001b[0m\u001b[0mfont\u001b[0m\u001b[1;33m)\u001b[0m\u001b[1;33m:\u001b[0m\u001b[1;33m\u001b[0m\u001b[1;33m\u001b[0m\u001b[0m\n\u001b[1;32m--> 850\u001b[1;33m         \u001b[1;32mreturn\u001b[0m \u001b[0mFreeTypeFont\u001b[0m\u001b[1;33m(\u001b[0m\u001b[0mfont\u001b[0m\u001b[1;33m,\u001b[0m \u001b[0msize\u001b[0m\u001b[1;33m,\u001b[0m \u001b[0mindex\u001b[0m\u001b[1;33m,\u001b[0m \u001b[0mencoding\u001b[0m\u001b[1;33m,\u001b[0m \u001b[0mlayout_engine\u001b[0m\u001b[1;33m)\u001b[0m\u001b[1;33m\u001b[0m\u001b[1;33m\u001b[0m\u001b[0m\n\u001b[0m\u001b[0;32m    851\u001b[0m \u001b[1;33m\u001b[0m\u001b[0m\n\u001b[0;32m    852\u001b[0m     \u001b[1;32mtry\u001b[0m\u001b[1;33m:\u001b[0m\u001b[1;33m\u001b[0m\u001b[1;33m\u001b[0m\u001b[0m\n",
      "\u001b[1;32mC:\\ProgramData\\Anaconda3\\lib\\site-packages\\PIL\\ImageFont.py\u001b[0m in \u001b[0;36m__init__\u001b[1;34m(self, font, size, index, encoding, layout_engine)\u001b[0m\n\u001b[0;32m    171\u001b[0m             \u001b[1;32mpass\u001b[0m\u001b[1;33m\u001b[0m\u001b[1;33m\u001b[0m\u001b[0m\n\u001b[0;32m    172\u001b[0m         \u001b[1;32melse\u001b[0m\u001b[1;33m:\u001b[0m\u001b[1;33m\u001b[0m\u001b[1;33m\u001b[0m\u001b[0m\n\u001b[1;32m--> 173\u001b[1;33m             \u001b[0mfreetype_version\u001b[0m \u001b[1;33m=\u001b[0m \u001b[0mparse_version\u001b[0m\u001b[1;33m(\u001b[0m\u001b[0mfeatures\u001b[0m\u001b[1;33m.\u001b[0m\u001b[0mversion_module\u001b[0m\u001b[1;33m(\u001b[0m\u001b[1;34m\"freetype2\"\u001b[0m\u001b[1;33m)\u001b[0m\u001b[1;33m)\u001b[0m\u001b[1;33m\u001b[0m\u001b[1;33m\u001b[0m\u001b[0m\n\u001b[0m\u001b[0;32m    174\u001b[0m             \u001b[1;32mif\u001b[0m \u001b[0mfreetype_version\u001b[0m \u001b[1;33m<\u001b[0m \u001b[0mparse_version\u001b[0m\u001b[1;33m(\u001b[0m\u001b[1;34m\"2.8\"\u001b[0m\u001b[1;33m)\u001b[0m\u001b[1;33m:\u001b[0m\u001b[1;33m\u001b[0m\u001b[1;33m\u001b[0m\u001b[0m\n\u001b[0;32m    175\u001b[0m                 warnings.warn(\n",
      "\u001b[1;32mC:\\ProgramData\\Anaconda3\\lib\\site-packages\\packaging\\version.py\u001b[0m in \u001b[0;36mparse\u001b[1;34m(version)\u001b[0m\n\u001b[0;32m     55\u001b[0m     \"\"\"\n\u001b[0;32m     56\u001b[0m     \u001b[1;32mtry\u001b[0m\u001b[1;33m:\u001b[0m\u001b[1;33m\u001b[0m\u001b[1;33m\u001b[0m\u001b[0m\n\u001b[1;32m---> 57\u001b[1;33m         \u001b[1;32mreturn\u001b[0m \u001b[0mVersion\u001b[0m\u001b[1;33m(\u001b[0m\u001b[0mversion\u001b[0m\u001b[1;33m)\u001b[0m\u001b[1;33m\u001b[0m\u001b[1;33m\u001b[0m\u001b[0m\n\u001b[0m\u001b[0;32m     58\u001b[0m     \u001b[1;32mexcept\u001b[0m \u001b[0mInvalidVersion\u001b[0m\u001b[1;33m:\u001b[0m\u001b[1;33m\u001b[0m\u001b[1;33m\u001b[0m\u001b[0m\n\u001b[0;32m     59\u001b[0m         \u001b[1;32mreturn\u001b[0m \u001b[0mLegacyVersion\u001b[0m\u001b[1;33m(\u001b[0m\u001b[0mversion\u001b[0m\u001b[1;33m)\u001b[0m\u001b[1;33m\u001b[0m\u001b[1;33m\u001b[0m\u001b[0m\n",
      "\u001b[1;32mC:\\ProgramData\\Anaconda3\\lib\\site-packages\\packaging\\version.py\u001b[0m in \u001b[0;36m__init__\u001b[1;34m(self, version)\u001b[0m\n\u001b[0;32m    294\u001b[0m \u001b[1;33m\u001b[0m\u001b[0m\n\u001b[0;32m    295\u001b[0m         \u001b[1;31m# Validate the version and parse it into pieces\u001b[0m\u001b[1;33m\u001b[0m\u001b[1;33m\u001b[0m\u001b[1;33m\u001b[0m\u001b[0m\n\u001b[1;32m--> 296\u001b[1;33m         \u001b[0mmatch\u001b[0m \u001b[1;33m=\u001b[0m \u001b[0mself\u001b[0m\u001b[1;33m.\u001b[0m\u001b[0m_regex\u001b[0m\u001b[1;33m.\u001b[0m\u001b[0msearch\u001b[0m\u001b[1;33m(\u001b[0m\u001b[0mversion\u001b[0m\u001b[1;33m)\u001b[0m\u001b[1;33m\u001b[0m\u001b[1;33m\u001b[0m\u001b[0m\n\u001b[0m\u001b[0;32m    297\u001b[0m         \u001b[1;32mif\u001b[0m \u001b[1;32mnot\u001b[0m \u001b[0mmatch\u001b[0m\u001b[1;33m:\u001b[0m\u001b[1;33m\u001b[0m\u001b[1;33m\u001b[0m\u001b[0m\n\u001b[0;32m    298\u001b[0m             \u001b[1;32mraise\u001b[0m \u001b[0mInvalidVersion\u001b[0m\u001b[1;33m(\u001b[0m\u001b[1;34m\"Invalid version: '{0}'\"\u001b[0m\u001b[1;33m.\u001b[0m\u001b[0mformat\u001b[0m\u001b[1;33m(\u001b[0m\u001b[0mversion\u001b[0m\u001b[1;33m)\u001b[0m\u001b[1;33m)\u001b[0m\u001b[1;33m\u001b[0m\u001b[1;33m\u001b[0m\u001b[0m\n",
      "\u001b[1;31mTypeError\u001b[0m: expected string or bytes-like object"
     ]
    }
   ],
   "source": [
    "all_words = ' '.join([text for text in df_sml['tidy_tweet']])\n",
    "from wordcloud import WordCloud\n",
    "wordcloud = WordCloud(width=800, height=500, random_state=21, max_font_size=110).generate(all_words)\n",
    "\n",
    "plt.figure(figsize=(15, 10))\n",
    "plt.imshow(wordcloud, interpolation=\"bilinear\")\n",
    "plt.axis('off')\n",
    "plt.show()"
   ]
  },
  {
   "cell_type": "markdown",
   "id": "f88789cb",
   "metadata": {},
   "source": [
    "### Stop words Removal\n",
    "WordCloud provides its own stopwords list. You can have a look at it by-"
   ]
  },
  {
   "cell_type": "code",
   "execution_count": 33,
   "id": "25e9689f",
   "metadata": {},
   "outputs": [
    {
     "name": "stdout",
     "output_type": "stream",
     "text": [
      "{'after', 'that', 'then', 'while', 'an', \"you'll\", \"i'd\", 'during', \"weren't\", 'or', 'as', \"it's\", 'here', 'did', 'against', 'in', \"you've\", \"they'll\", \"haven't\", 'same', 'being', \"that's\", 'who', 'had', 'her', 'no', 'few', 'at', 'again', 'own', 'all', 'cannot', \"can't\", \"he's\", 'just', 'ought', \"i'm\", 'ourselves', 'which', \"you'd\", 'once', 'most', 'would', 'be', 'on', 'can', \"isn't\", 'they', 'i', \"aren't\", 'to', 'ours', 'however', 'this', 'more', \"won't\", \"they're\", 'because', \"we're\", \"i've\", 'doing', \"shouldn't\", 'further', \"i'll\", 'myself', 'yourself', 'have', \"doesn't\", 'other', 'www', 'their', \"we'll\", 'ever', 'we', 'hence', 'not', \"what's\", 'when', 'your', 'otherwise', 'a', 'herself', \"how's\", 'like', 'than', \"we've\", \"wouldn't\", 'are', \"who's\", 'me', 'before', 'out', 'r', 'if', \"mustn't\", \"hadn't\", 'below', 'these', 'do', \"why's\", 'any', \"didn't\", 'so', 'up', 'yours', \"he'll\", 'therefore', 'k', 'his', 'such', 'you', 'get', 'but', 'does', 'only', 'under', 'from', 'he', 'of', 'hers', 'those', 'until', 'am', 'my', \"we'd\", 'theirs', 'nor', 'through', 'com', 'very', 'since', 'each', 'she', \"wasn't\", 'was', 'about', \"they've\", \"don't\", 'else', \"you're\", 'both', \"where's\", 'how', 'over', 'themselves', 'too', 'our', 'some', 'its', \"when's\", 'it', \"she's\", 'http', 'why', 'having', 'yourselves', 'is', 'him', 'there', \"shan't\", 'for', \"she'll\", \"here's\", 'should', 'whom', 'with', 'by', \"she'd\", \"let's\", 'himself', 'were', 'where', 'above', 'down', \"they'd\", 'been', 'has', 'itself', 'shall', 'into', 'could', \"he'd\", 'what', 'off', 'between', \"hasn't\", 'them', 'also', 'and', \"couldn't\", 'the', \"there's\"}\n"
     ]
    }
   ],
   "source": [
    "#Import list of stopwards\n",
    "from wordcloud import STOPWORDS\n",
    "\n",
    "print(STOPWORDS)"
   ]
  },
  {
   "cell_type": "markdown",
   "id": "d1253499",
   "metadata": {},
   "source": [
    "Now that you know what all has to be changed to improve our word cloud, let's make some wordclouds.\n",
    "\n",
    "We'll call the previous functions of clean_text() and gen_freq() to perform cleaning and frequency computation operation respectively and drop the words present in STOPWORDS from the word_freq dictionary."
   ]
  },
  {
   "cell_type": "code",
   "execution_count": 34,
   "id": "59a8e540",
   "metadata": {},
   "outputs": [
    {
     "ename": "TypeError",
     "evalue": "expected string or bytes-like object",
     "output_type": "error",
     "traceback": [
      "\u001b[1;31m---------------------------------------------------------------------------\u001b[0m",
      "\u001b[1;31mTypeError\u001b[0m                                 Traceback (most recent call last)",
      "\u001b[1;32m<ipython-input-34-d38167ca5707>\u001b[0m in \u001b[0;36m<module>\u001b[1;34m\u001b[0m\n\u001b[0;32m      4\u001b[0m \u001b[1;33m\u001b[0m\u001b[0m\n\u001b[0;32m      5\u001b[0m \u001b[1;31m#Generate word cloud\u001b[0m\u001b[1;33m\u001b[0m\u001b[1;33m\u001b[0m\u001b[1;33m\u001b[0m\u001b[0m\n\u001b[1;32m----> 6\u001b[1;33m \u001b[0mwc\u001b[0m \u001b[1;33m=\u001b[0m \u001b[0mWordCloud\u001b[0m\u001b[1;33m(\u001b[0m\u001b[0mwidth\u001b[0m\u001b[1;33m=\u001b[0m\u001b[1;36m450\u001b[0m\u001b[1;33m,\u001b[0m \u001b[0mheight\u001b[0m\u001b[1;33m=\u001b[0m\u001b[1;36m330\u001b[0m\u001b[1;33m,\u001b[0m \u001b[0mmax_words\u001b[0m\u001b[1;33m=\u001b[0m\u001b[1;36m200\u001b[0m\u001b[1;33m,\u001b[0m \u001b[0mbackground_color\u001b[0m\u001b[1;33m=\u001b[0m\u001b[1;34m'black'\u001b[0m\u001b[1;33m)\u001b[0m\u001b[1;33m.\u001b[0m\u001b[0mgenerate_from_frequencies\u001b[0m\u001b[1;33m(\u001b[0m\u001b[0mword_freq\u001b[0m\u001b[1;33m)\u001b[0m\u001b[1;33m\u001b[0m\u001b[1;33m\u001b[0m\u001b[0m\n\u001b[0m\u001b[0;32m      7\u001b[0m \u001b[1;33m\u001b[0m\u001b[0m\n\u001b[0;32m      8\u001b[0m \u001b[0mplt\u001b[0m\u001b[1;33m.\u001b[0m\u001b[0mfigure\u001b[0m\u001b[1;33m(\u001b[0m\u001b[0mfigsize\u001b[0m\u001b[1;33m=\u001b[0m\u001b[1;33m(\u001b[0m\u001b[1;36m12\u001b[0m\u001b[1;33m,\u001b[0m \u001b[1;36m14\u001b[0m\u001b[1;33m)\u001b[0m\u001b[1;33m)\u001b[0m\u001b[1;33m\u001b[0m\u001b[1;33m\u001b[0m\u001b[0m\n",
      "\u001b[1;32mC:\\ProgramData\\Anaconda3\\lib\\site-packages\\wordcloud\\wordcloud.py\u001b[0m in \u001b[0;36mgenerate_from_frequencies\u001b[1;34m(self, frequencies, max_font_size)\u001b[0m\n\u001b[0;32m    444\u001b[0m                 \u001b[0mfont_size\u001b[0m \u001b[1;33m=\u001b[0m \u001b[0mself\u001b[0m\u001b[1;33m.\u001b[0m\u001b[0mheight\u001b[0m\u001b[1;33m\u001b[0m\u001b[1;33m\u001b[0m\u001b[0m\n\u001b[0;32m    445\u001b[0m             \u001b[1;32melse\u001b[0m\u001b[1;33m:\u001b[0m\u001b[1;33m\u001b[0m\u001b[1;33m\u001b[0m\u001b[0m\n\u001b[1;32m--> 446\u001b[1;33m                 self.generate_from_frequencies(dict(frequencies[:2]),\n\u001b[0m\u001b[0;32m    447\u001b[0m                                                max_font_size=self.height)\n\u001b[0;32m    448\u001b[0m                 \u001b[1;31m# find font sizes\u001b[0m\u001b[1;33m\u001b[0m\u001b[1;33m\u001b[0m\u001b[1;33m\u001b[0m\u001b[0m\n",
      "\u001b[1;32mC:\\ProgramData\\Anaconda3\\lib\\site-packages\\wordcloud\\wordcloud.py\u001b[0m in \u001b[0;36mgenerate_from_frequencies\u001b[1;34m(self, frequencies, max_font_size)\u001b[0m\n\u001b[0;32m    494\u001b[0m             \u001b[1;32mwhile\u001b[0m \u001b[1;32mTrue\u001b[0m\u001b[1;33m:\u001b[0m\u001b[1;33m\u001b[0m\u001b[1;33m\u001b[0m\u001b[0m\n\u001b[0;32m    495\u001b[0m                 \u001b[1;31m# try to find a position\u001b[0m\u001b[1;33m\u001b[0m\u001b[1;33m\u001b[0m\u001b[1;33m\u001b[0m\u001b[0m\n\u001b[1;32m--> 496\u001b[1;33m                 \u001b[0mfont\u001b[0m \u001b[1;33m=\u001b[0m \u001b[0mImageFont\u001b[0m\u001b[1;33m.\u001b[0m\u001b[0mtruetype\u001b[0m\u001b[1;33m(\u001b[0m\u001b[0mself\u001b[0m\u001b[1;33m.\u001b[0m\u001b[0mfont_path\u001b[0m\u001b[1;33m,\u001b[0m \u001b[0mfont_size\u001b[0m\u001b[1;33m)\u001b[0m\u001b[1;33m\u001b[0m\u001b[1;33m\u001b[0m\u001b[0m\n\u001b[0m\u001b[0;32m    497\u001b[0m                 \u001b[1;31m# transpose font optionally\u001b[0m\u001b[1;33m\u001b[0m\u001b[1;33m\u001b[0m\u001b[1;33m\u001b[0m\u001b[0m\n\u001b[0;32m    498\u001b[0m                 transposed_font = ImageFont.TransposedFont(\n",
      "\u001b[1;32mC:\\ProgramData\\Anaconda3\\lib\\site-packages\\PIL\\ImageFont.py\u001b[0m in \u001b[0;36mtruetype\u001b[1;34m(font, size, index, encoding, layout_engine)\u001b[0m\n\u001b[0;32m    851\u001b[0m \u001b[1;33m\u001b[0m\u001b[0m\n\u001b[0;32m    852\u001b[0m     \u001b[1;32mtry\u001b[0m\u001b[1;33m:\u001b[0m\u001b[1;33m\u001b[0m\u001b[1;33m\u001b[0m\u001b[0m\n\u001b[1;32m--> 853\u001b[1;33m         \u001b[1;32mreturn\u001b[0m \u001b[0mfreetype\u001b[0m\u001b[1;33m(\u001b[0m\u001b[0mfont\u001b[0m\u001b[1;33m)\u001b[0m\u001b[1;33m\u001b[0m\u001b[1;33m\u001b[0m\u001b[0m\n\u001b[0m\u001b[0;32m    854\u001b[0m     \u001b[1;32mexcept\u001b[0m \u001b[0mOSError\u001b[0m\u001b[1;33m:\u001b[0m\u001b[1;33m\u001b[0m\u001b[1;33m\u001b[0m\u001b[0m\n\u001b[0;32m    855\u001b[0m         \u001b[1;32mif\u001b[0m \u001b[1;32mnot\u001b[0m \u001b[0misPath\u001b[0m\u001b[1;33m(\u001b[0m\u001b[0mfont\u001b[0m\u001b[1;33m)\u001b[0m\u001b[1;33m:\u001b[0m\u001b[1;33m\u001b[0m\u001b[1;33m\u001b[0m\u001b[0m\n",
      "\u001b[1;32mC:\\ProgramData\\Anaconda3\\lib\\site-packages\\PIL\\ImageFont.py\u001b[0m in \u001b[0;36mfreetype\u001b[1;34m(font)\u001b[0m\n\u001b[0;32m    848\u001b[0m \u001b[1;33m\u001b[0m\u001b[0m\n\u001b[0;32m    849\u001b[0m     \u001b[1;32mdef\u001b[0m \u001b[0mfreetype\u001b[0m\u001b[1;33m(\u001b[0m\u001b[0mfont\u001b[0m\u001b[1;33m)\u001b[0m\u001b[1;33m:\u001b[0m\u001b[1;33m\u001b[0m\u001b[1;33m\u001b[0m\u001b[0m\n\u001b[1;32m--> 850\u001b[1;33m         \u001b[1;32mreturn\u001b[0m \u001b[0mFreeTypeFont\u001b[0m\u001b[1;33m(\u001b[0m\u001b[0mfont\u001b[0m\u001b[1;33m,\u001b[0m \u001b[0msize\u001b[0m\u001b[1;33m,\u001b[0m \u001b[0mindex\u001b[0m\u001b[1;33m,\u001b[0m \u001b[0mencoding\u001b[0m\u001b[1;33m,\u001b[0m \u001b[0mlayout_engine\u001b[0m\u001b[1;33m)\u001b[0m\u001b[1;33m\u001b[0m\u001b[1;33m\u001b[0m\u001b[0m\n\u001b[0m\u001b[0;32m    851\u001b[0m \u001b[1;33m\u001b[0m\u001b[0m\n\u001b[0;32m    852\u001b[0m     \u001b[1;32mtry\u001b[0m\u001b[1;33m:\u001b[0m\u001b[1;33m\u001b[0m\u001b[1;33m\u001b[0m\u001b[0m\n",
      "\u001b[1;32mC:\\ProgramData\\Anaconda3\\lib\\site-packages\\PIL\\ImageFont.py\u001b[0m in \u001b[0;36m__init__\u001b[1;34m(self, font, size, index, encoding, layout_engine)\u001b[0m\n\u001b[0;32m    171\u001b[0m             \u001b[1;32mpass\u001b[0m\u001b[1;33m\u001b[0m\u001b[1;33m\u001b[0m\u001b[0m\n\u001b[0;32m    172\u001b[0m         \u001b[1;32melse\u001b[0m\u001b[1;33m:\u001b[0m\u001b[1;33m\u001b[0m\u001b[1;33m\u001b[0m\u001b[0m\n\u001b[1;32m--> 173\u001b[1;33m             \u001b[0mfreetype_version\u001b[0m \u001b[1;33m=\u001b[0m \u001b[0mparse_version\u001b[0m\u001b[1;33m(\u001b[0m\u001b[0mfeatures\u001b[0m\u001b[1;33m.\u001b[0m\u001b[0mversion_module\u001b[0m\u001b[1;33m(\u001b[0m\u001b[1;34m\"freetype2\"\u001b[0m\u001b[1;33m)\u001b[0m\u001b[1;33m)\u001b[0m\u001b[1;33m\u001b[0m\u001b[1;33m\u001b[0m\u001b[0m\n\u001b[0m\u001b[0;32m    174\u001b[0m             \u001b[1;32mif\u001b[0m \u001b[0mfreetype_version\u001b[0m \u001b[1;33m<\u001b[0m \u001b[0mparse_version\u001b[0m\u001b[1;33m(\u001b[0m\u001b[1;34m\"2.8\"\u001b[0m\u001b[1;33m)\u001b[0m\u001b[1;33m:\u001b[0m\u001b[1;33m\u001b[0m\u001b[1;33m\u001b[0m\u001b[0m\n\u001b[0;32m    175\u001b[0m                 warnings.warn(\n",
      "\u001b[1;32mC:\\ProgramData\\Anaconda3\\lib\\site-packages\\packaging\\version.py\u001b[0m in \u001b[0;36mparse\u001b[1;34m(version)\u001b[0m\n\u001b[0;32m     55\u001b[0m     \"\"\"\n\u001b[0;32m     56\u001b[0m     \u001b[1;32mtry\u001b[0m\u001b[1;33m:\u001b[0m\u001b[1;33m\u001b[0m\u001b[1;33m\u001b[0m\u001b[0m\n\u001b[1;32m---> 57\u001b[1;33m         \u001b[1;32mreturn\u001b[0m \u001b[0mVersion\u001b[0m\u001b[1;33m(\u001b[0m\u001b[0mversion\u001b[0m\u001b[1;33m)\u001b[0m\u001b[1;33m\u001b[0m\u001b[1;33m\u001b[0m\u001b[0m\n\u001b[0m\u001b[0;32m     58\u001b[0m     \u001b[1;32mexcept\u001b[0m \u001b[0mInvalidVersion\u001b[0m\u001b[1;33m:\u001b[0m\u001b[1;33m\u001b[0m\u001b[1;33m\u001b[0m\u001b[0m\n\u001b[0;32m     59\u001b[0m         \u001b[1;32mreturn\u001b[0m \u001b[0mLegacyVersion\u001b[0m\u001b[1;33m(\u001b[0m\u001b[0mversion\u001b[0m\u001b[1;33m)\u001b[0m\u001b[1;33m\u001b[0m\u001b[1;33m\u001b[0m\u001b[0m\n",
      "\u001b[1;32mC:\\ProgramData\\Anaconda3\\lib\\site-packages\\packaging\\version.py\u001b[0m in \u001b[0;36m__init__\u001b[1;34m(self, version)\u001b[0m\n\u001b[0;32m    294\u001b[0m \u001b[1;33m\u001b[0m\u001b[0m\n\u001b[0;32m    295\u001b[0m         \u001b[1;31m# Validate the version and parse it into pieces\u001b[0m\u001b[1;33m\u001b[0m\u001b[1;33m\u001b[0m\u001b[1;33m\u001b[0m\u001b[0m\n\u001b[1;32m--> 296\u001b[1;33m         \u001b[0mmatch\u001b[0m \u001b[1;33m=\u001b[0m \u001b[0mself\u001b[0m\u001b[1;33m.\u001b[0m\u001b[0m_regex\u001b[0m\u001b[1;33m.\u001b[0m\u001b[0msearch\u001b[0m\u001b[1;33m(\u001b[0m\u001b[0mversion\u001b[0m\u001b[1;33m)\u001b[0m\u001b[1;33m\u001b[0m\u001b[1;33m\u001b[0m\u001b[0m\n\u001b[0m\u001b[0;32m    297\u001b[0m         \u001b[1;32mif\u001b[0m \u001b[1;32mnot\u001b[0m \u001b[0mmatch\u001b[0m\u001b[1;33m:\u001b[0m\u001b[1;33m\u001b[0m\u001b[1;33m\u001b[0m\u001b[0m\n\u001b[0;32m    298\u001b[0m             \u001b[1;32mraise\u001b[0m \u001b[0mInvalidVersion\u001b[0m\u001b[1;33m(\u001b[0m\u001b[1;34m\"Invalid version: '{0}'\"\u001b[0m\u001b[1;33m.\u001b[0m\u001b[0mformat\u001b[0m\u001b[1;33m(\u001b[0m\u001b[0mversion\u001b[0m\u001b[1;33m)\u001b[0m\u001b[1;33m)\u001b[0m\u001b[1;33m\u001b[0m\u001b[1;33m\u001b[0m\u001b[0m\n",
      "\u001b[1;31mTypeError\u001b[0m: expected string or bytes-like object"
     ]
    }
   ],
   "source": [
    "tweet = df_sml.tweet.apply(lambda x: clean_text(x))\n",
    "word_freq = gen_freq(tweet.str)*100\n",
    "word_freq = word_freq.drop(labels=STOPWORDS, errors='ignore')\n",
    "\n",
    "#Generate word cloud\n",
    "wc = WordCloud(width=450, height=330, max_words=200, background_color='black').generate_from_frequencies(word_freq)\n",
    "\n",
    "plt.figure(figsize=(12, 14))\n",
    "plt.imshow(wc, interpolation='bilinear')\n",
    "plt.axis('off')\n",
    "plt.show()"
   ]
  },
  {
   "cell_type": "code",
   "execution_count": 35,
   "id": "ae157118",
   "metadata": {},
   "outputs": [],
   "source": [
    "# function to collect hashtags\n",
    "def hashtag_extract(x):\n",
    "    hashtags = []\n",
    "    # Loop over the words in the tweet\n",
    "    for i in x:\n",
    "        ht = re.findall(r\"#(\\w+)\", i)\n",
    "        hashtags.append(ht)\n",
    "\n",
    "    return hashtags"
   ]
  },
  {
   "cell_type": "code",
   "execution_count": 36,
   "id": "e8417456",
   "metadata": {},
   "outputs": [],
   "source": [
    "\n",
    "# extracting hashtags\n",
    "HT_regular = hashtag_extract(df_sml['tidy_tweet'])\n",
    "\n",
    "# unnesting list\n",
    "HT_regular = sum(HT_regular,[])\n"
   ]
  },
  {
   "cell_type": "code",
   "execution_count": 37,
   "id": "478893cc",
   "metadata": {},
   "outputs": [
    {
     "data": {
      "image/png": "[encoded data removed]",
      "text/plain": [
       "<Figure size 1800x720 with 1 Axes>"
      ]
     },
     "metadata": {
      "needs_background": "light"
     },
     "output_type": "display_data"
    }
   ],
   "source": [
    "a = nltk.FreqDist(HT_regular)\n",
    "d = pd.DataFrame({'Hashtag': list(a.keys()),\n",
    "                  'Count': list(a.values())})\n",
    "# selecting top 10 most frequent hashtags     \n",
    "d = d.nlargest(columns=\"Count\", n = 10) \n",
    "plt.figure(figsize=(25,10))\n",
    "ax = sns.barplot(data=d, x= \"Hashtag\", y = \"Count\")\n",
    "ax.set(ylabel = 'Count')\n",
    "plt.show()"
   ]
  },
  {
   "cell_type": "markdown",
   "id": "df70fbe2",
   "metadata": {},
   "source": [
    "# Jupyter Notebooks and CONSTELLATION\n",
    "To begin with, to send data to CONSTELLATION to create and modify graphs. \n",
    "\n",
    "MAKE SURE CONSTELLATION IS RUNNING\n",
    "\n",
    "start the external scripting server (this will already be running if the Jupyter notebook server was started from CONSTELLATION). \n",
    "\n",
    "The external scripting server makes a REST HTTP API available for use by any HTTP client.\n"
   ]
  },
  {
   "cell_type": "code",
   "execution_count": 38,
   "id": "b96d8705",
   "metadata": {},
   "outputs": [],
   "source": [
    "import io\n",
    "import os\n",
    "import pandas as pd\n",
    "import PIL.Image, PIL.ImageDraw, PIL.ImageFilter, PIL.ImageFont\n",
    "\n",
    "# Also import some of the notebook display methods so we can display nice things.\n",
    "#\n",
    "from IPython.display import display, HTML, Image\n",
    "\n",
    "# This is a convenient Python interface to the REST API.\n",
    "#\n",
    "import constellation_client"
   ]
  },
  {
   "cell_type": "code",
   "execution_count": 39,
   "id": "63705ebe",
   "metadata": {},
   "outputs": [],
   "source": [
    "cc = constellation_client.Constellation()"
   ]
  },
  {
   "cell_type": "markdown",
   "id": "406359a2",
   "metadata": {},
   "source": [
    "When started, the external scripting server automatically downloaded constellation_client.py to the .ipython directory. NOTE: It's also important that you create a client instance after you start the REST server, because the server creates a secret that the client needs to know to communicate with the server.\n",
    "\n",
    "After the import succeeds, we then create a Python object that communicates with CONSTELLATION on our behalf. CONSTELLATION provides communication with the outside world using HTTP (as if it were a web server) and JSON (a common data format). The constellation_client library hides these details so you can just use Python."
   ]
  },
  {
   "cell_type": "markdown",
   "id": "51ea2dd6",
   "metadata": {},
   "source": [
    "### Load data to CONSTELLATION\n",
    "From a csv file, utilising  io.StringIO "
   ]
  },
  {
   "cell_type": "code",
   "execution_count": 40,
   "id": "1b06a5d5",
   "metadata": {},
   "outputs": [
    {
     "data": {
      "text/html": [
       "<div>\n",
       "<style scoped>\n",
       "    .dataframe tbody tr th:only-of-type {\n",
       "        vertical-align: middle;\n",
       "    }\n",
       "\n",
       "    .dataframe tbody tr th {\n",
       "        vertical-align: top;\n",
       "    }\n",
       "\n",
       "    .dataframe thead th {\n",
       "        text-align: right;\n",
       "    }\n",
       "</style>\n",
       "<table border=\"1\" class=\"dataframe\">\n",
       "  <thead>\n",
       "    <tr style=\"text-align: right;\">\n",
       "      <th></th>\n",
       "      <th>datetime</th>\n",
       "      <th>date</th>\n",
       "      <th>time</th>\n",
       "      <th>geo</th>\n",
       "      <th>username</th>\n",
       "      <th>tweet</th>\n",
       "      <th>tidy_tweet</th>\n",
       "      <th>retweets_count</th>\n",
       "      <th>likes_count</th>\n",
       "    </tr>\n",
       "  </thead>\n",
       "  <tbody>\n",
       "    <tr>\n",
       "      <th>0</th>\n",
       "      <td>2021-01-10 11:06:23</td>\n",
       "      <td>1/10/2021</td>\n",
       "      <td>11:06:23 AM</td>\n",
       "      <td>51.507322,-0.127647,10km</td>\n",
       "      <td>nahhhman</td>\n",
       "      <td>@itismedaphne @eikuobaj Yeah</td>\n",
       "      <td>Yeah</td>\n",
       "      <td>0</td>\n",
       "      <td>0</td>\n",
       "    </tr>\n",
       "    <tr>\n",
       "      <th>1</th>\n",
       "      <td>2021-01-10 11:06:21</td>\n",
       "      <td>1/10/2021</td>\n",
       "      <td>11:06:21 AM</td>\n",
       "      <td>51.507322,-0.127647,10km</td>\n",
       "      <td>matthew83862519</td>\n",
       "      <td>@SeoirseDuffy_ Indeed. Do you ever sleep</td>\n",
       "      <td>Indeed ever sleep</td>\n",
       "      <td>0</td>\n",
       "      <td>0</td>\n",
       "    </tr>\n",
       "    <tr>\n",
       "      <th>2</th>\n",
       "      <td>2021-01-10 11:06:21</td>\n",
       "      <td>1/10/2021</td>\n",
       "      <td>11:06:21 AM</td>\n",
       "      <td>51.507322,-0.127647,10km</td>\n",
       "      <td>mohsadiq16</td>\n",
       "      <td>It's 1st October already Time flies</td>\n",
       "      <td>October already Time flies</td>\n",
       "      <td>0</td>\n",
       "      <td>0</td>\n",
       "    </tr>\n",
       "  </tbody>\n",
       "</table>\n",
       "</div>"
      ],
      "text/plain": [
       "             datetime       date         time                       geo  \\\n",
       "0 2021-01-10 11:06:23  1/10/2021  11:06:23 AM  51.507322,-0.127647,10km   \n",
       "1 2021-01-10 11:06:21  1/10/2021  11:06:21 AM  51.507322,-0.127647,10km   \n",
       "2 2021-01-10 11:06:21  1/10/2021  11:06:21 AM  51.507322,-0.127647,10km   \n",
       "\n",
       "          username                                     tweet  \\\n",
       "0         nahhhman              @itismedaphne @eikuobaj Yeah   \n",
       "1  matthew83862519  @SeoirseDuffy_ Indeed. Do you ever sleep   \n",
       "2       mohsadiq16       It's 1st October already Time flies   \n",
       "\n",
       "                   tidy_tweet  retweets_count  likes_count  \n",
       "0                        Yeah               0            0  \n",
       "1           Indeed ever sleep               0            0  \n",
       "2  October already Time flies               0            0  "
      ]
     },
     "execution_count": 40,
     "metadata": {},
     "output_type": "execute_result"
    }
   ],
   "source": [
    "''' csv_data = \n",
    "from_address,from_country,to_address,to_country,dtg\n",
    "abc@example1.com,Brazil,def@example2.com,India,2017-01-01 12:34:56\n",
    "abc@example1.com,Brazil,ghi@example3.com,Zambia,2017-01-01 14:30:00\n",
    "jkl@example4.com,India\n",
    ".strip()''' \n",
    "\n",
    "# df_sml = pd.read_csv(io.StringIO(csv_data))\n",
    "df_sml.head(3)"
   ]
  },
  {
   "cell_type": "markdown",
   "id": "1dd19c55",
   "metadata": {},
   "source": [
    "Putting our data in a dataframe is a good idea; not only can we easily manipulate it, but it's easy to send a dataframe to CONSTELLATION, as long as we tell CONSTELLATION what data belongs where.\n",
    "\n",
    "A dataframe is a table of data, but CONSTELLATION deals with graphs, so we need to reconcile a data table and a graph. \n",
    "\n",
    "A row of data in the dataframe is a TRANSACTION: the source node has the \"from\" attributes, the destination node has the \"to\" attributes, and the transaction has the dtg attribute. \n"
   ]
  },
  {
   "cell_type": "code",
   "execution_count": 41,
   "id": "e7970b24",
   "metadata": {},
   "outputs": [
    {
     "data": {
      "text/plain": [
       "datetime          datetime64[ns]\n",
       "date                      object\n",
       "time                      object\n",
       "geo                       object\n",
       "username                  object\n",
       "tweet                     object\n",
       "tidy_tweet                object\n",
       "retweets_count             int64\n",
       "likes_count                int64\n",
       "dtype: object"
      ]
     },
     "execution_count": 41,
     "metadata": {},
     "output_type": "execute_result"
    }
   ],
   "source": [
    "df_sml.dtypes"
   ]
  },
  {
   "cell_type": "markdown",
   "id": "3c6f787e",
   "metadata": {},
   "source": [
    "All of the columns are of type object, which in this case means \"string\". However, CONSTELLATION expects datetimes to actually be of datetime type; if we try and upload datetimes as strings, CONSTELLATION won't recognise them as datetimes.\n",
    "\n",
    "Note the pandas fix is below, but not used...."
   ]
  },
  {
   "cell_type": "code",
   "execution_count": 42,
   "id": "008897aa",
   "metadata": {},
   "outputs": [
    {
     "data": {
      "text/plain": [
       "'df_sml.dtg = pd.to_datetime(df_sml.dtg)\\ndf_sml'"
      ]
     },
     "execution_count": 42,
     "metadata": {},
     "output_type": "execute_result"
    }
   ],
   "source": [
    "'''df_sml.dtg = pd.to_datetime(df_sml.dtg)\n",
    "df_sml'''"
   ]
  },
  {
   "cell_type": "markdown",
   "id": "8b77ff1d",
   "metadata": {},
   "source": [
    "The datetime64[ns] type means that datetime is now a datetime column.\n",
    "\n",
    "CONSTELLATION recognises source, destination and transaction attributes by the prefixes of their names. It won't be too surprising to find out that the prefixes are source, destination, and transaction, with a . separating the prefixes from the attribute names.\n",
    "\n",
    "Let's rename the columns to match what CONSTELLATION expects. (We didn't do this first because the column headers were valid Python identifiers, it was easier to type df.dtg than df['transaction.DateTime'].)\n",
    "\n",
    "Note that we use the name Identifier for the values that uniquely identify a particular node."
   ]
  },
  {
   "cell_type": "code",
   "execution_count": 43,
   "id": "718f4e60",
   "metadata": {},
   "outputs": [
    {
     "data": {
      "text/plain": [
       "\"df_sml = df_sml.rename(columns={\\n    'from_address': 'source.Label',\\n    'from_country': 'source.Geo.Country',\\n    'to_address': 'destination.Label',\\n    'to_country': 'destination.Geo.Country',\\n    'dtg': 'transaction.DateTime'})\\ndf_sml\""
      ]
     },
     "execution_count": 43,
     "metadata": {},
     "output_type": "execute_result"
    }
   ],
   "source": [
    "'''df_sml = df_sml.rename(columns={\n",
    "    'from_address': 'source.Label',\n",
    "    'from_country': 'source.Geo.Country',\n",
    "    'to_address': 'destination.Label',\n",
    "    'to_country': 'destination.Geo.Country',\n",
    "    'dtg': 'transaction.DateTime'})\n",
    "df_sml'''"
   ]
  },
  {
   "cell_type": "markdown",
   "id": "97a08590",
   "metadata": {},
   "source": [
    "Now the dataframe is ready to be sent to CONSTELLATION. We'll create a new graph (using the new_graph() method), and send the dataframe to CONSTELLATION using the put_dataframe() method.\n",
    "\n",
    "If you get a Python ConnectionRefusedError when you run this cell, you've probably forgotten to start the CONSTELLATION external scripting server in the Tools menu. If you start it now, you'll have to go back and re-execute the \"cc = constellation_client.Constellation()\" cell, then come back here.)"
   ]
  },
  {
   "cell_type": "code",
   "execution_count": 44,
   "id": "d1bbfcb1",
   "metadata": {},
   "outputs": [
    {
     "ename": "ConnectionError",
     "evalue": "HTTPConnectionPool(host='localhost', port=1517): Max retries exceeded with url: /v1/graph/new (Caused by NewConnectionError('<urllib3.connection.HTTPConnection object at 0x00000170189E2580>: Failed to establish a new connection: [WinError 10061] No connection could be made because the target machine actively refused it'))",
     "output_type": "error",
     "traceback": [
      "\u001b[1;31m---------------------------------------------------------------------------\u001b[0m",
      "\u001b[1;31mConnectionRefusedError\u001b[0m                    Traceback (most recent call last)",
      "\u001b[1;32mC:\\ProgramData\\Anaconda3\\lib\\site-packages\\urllib3\\connection.py\u001b[0m in \u001b[0;36m_new_conn\u001b[1;34m(self)\u001b[0m\n\u001b[0;32m    168\u001b[0m         \u001b[1;32mtry\u001b[0m\u001b[1;33m:\u001b[0m\u001b[1;33m\u001b[0m\u001b[1;33m\u001b[0m\u001b[0m\n\u001b[1;32m--> 169\u001b[1;33m             conn = connection.create_connection(\n\u001b[0m\u001b[0;32m    170\u001b[0m                 \u001b[1;33m(\u001b[0m\u001b[0mself\u001b[0m\u001b[1;33m.\u001b[0m\u001b[0m_dns_host\u001b[0m\u001b[1;33m,\u001b[0m \u001b[0mself\u001b[0m\u001b[1;33m.\u001b[0m\u001b[0mport\u001b[0m\u001b[1;33m)\u001b[0m\u001b[1;33m,\u001b[0m \u001b[0mself\u001b[0m\u001b[1;33m.\u001b[0m\u001b[0mtimeout\u001b[0m\u001b[1;33m,\u001b[0m \u001b[1;33m**\u001b[0m\u001b[0mextra_kw\u001b[0m\u001b[1;33m\u001b[0m\u001b[1;33m\u001b[0m\u001b[0m\n",
      "\u001b[1;32mC:\\ProgramData\\Anaconda3\\lib\\site-packages\\urllib3\\util\\connection.py\u001b[0m in \u001b[0;36mcreate_connection\u001b[1;34m(address, timeout, source_address, socket_options)\u001b[0m\n\u001b[0;32m     95\u001b[0m     \u001b[1;32mif\u001b[0m \u001b[0merr\u001b[0m \u001b[1;32mis\u001b[0m \u001b[1;32mnot\u001b[0m \u001b[1;32mNone\u001b[0m\u001b[1;33m:\u001b[0m\u001b[1;33m\u001b[0m\u001b[1;33m\u001b[0m\u001b[0m\n\u001b[1;32m---> 96\u001b[1;33m         \u001b[1;32mraise\u001b[0m \u001b[0merr\u001b[0m\u001b[1;33m\u001b[0m\u001b[1;33m\u001b[0m\u001b[0m\n\u001b[0m\u001b[0;32m     97\u001b[0m \u001b[1;33m\u001b[0m\u001b[0m\n",
      "\u001b[1;32mC:\\ProgramData\\Anaconda3\\lib\\site-packages\\urllib3\\util\\connection.py\u001b[0m in \u001b[0;36mcreate_connection\u001b[1;34m(address, timeout, source_address, socket_options)\u001b[0m\n\u001b[0;32m     85\u001b[0m                 \u001b[0msock\u001b[0m\u001b[1;33m.\u001b[0m\u001b[0mbind\u001b[0m\u001b[1;33m(\u001b[0m\u001b[0msource_address\u001b[0m\u001b[1;33m)\u001b[0m\u001b[1;33m\u001b[0m\u001b[1;33m\u001b[0m\u001b[0m\n\u001b[1;32m---> 86\u001b[1;33m             \u001b[0msock\u001b[0m\u001b[1;33m.\u001b[0m\u001b[0mconnect\u001b[0m\u001b[1;33m(\u001b[0m\u001b[0msa\u001b[0m\u001b[1;33m)\u001b[0m\u001b[1;33m\u001b[0m\u001b[1;33m\u001b[0m\u001b[0m\n\u001b[0m\u001b[0;32m     87\u001b[0m             \u001b[1;32mreturn\u001b[0m \u001b[0msock\u001b[0m\u001b[1;33m\u001b[0m\u001b[1;33m\u001b[0m\u001b[0m\n",
      "\u001b[1;31mConnectionRefusedError\u001b[0m: [WinError 10061] No connection could be made because the target machine actively refused it",
      "\nDuring handling of the above exception, another exception occurred:\n",
      "\u001b[1;31mNewConnectionError\u001b[0m                        Traceback (most recent call last)",
      "\u001b[1;32mC:\\ProgramData\\Anaconda3\\lib\\site-packages\\urllib3\\connectionpool.py\u001b[0m in \u001b[0;36murlopen\u001b[1;34m(self, method, url, body, headers, retries, redirect, assert_same_host, timeout, pool_timeout, release_conn, chunked, body_pos, **response_kw)\u001b[0m\n\u001b[0;32m    698\u001b[0m             \u001b[1;31m# Make the request on the httplib connection object.\u001b[0m\u001b[1;33m\u001b[0m\u001b[1;33m\u001b[0m\u001b[1;33m\u001b[0m\u001b[0m\n\u001b[1;32m--> 699\u001b[1;33m             httplib_response = self._make_request(\n\u001b[0m\u001b[0;32m    700\u001b[0m                 \u001b[0mconn\u001b[0m\u001b[1;33m,\u001b[0m\u001b[1;33m\u001b[0m\u001b[1;33m\u001b[0m\u001b[0m\n",
      "\u001b[1;32mC:\\ProgramData\\Anaconda3\\lib\\site-packages\\urllib3\\connectionpool.py\u001b[0m in \u001b[0;36m_make_request\u001b[1;34m(self, conn, method, url, timeout, chunked, **httplib_request_kw)\u001b[0m\n\u001b[0;32m    393\u001b[0m             \u001b[1;32melse\u001b[0m\u001b[1;33m:\u001b[0m\u001b[1;33m\u001b[0m\u001b[1;33m\u001b[0m\u001b[0m\n\u001b[1;32m--> 394\u001b[1;33m                 \u001b[0mconn\u001b[0m\u001b[1;33m.\u001b[0m\u001b[0mrequest\u001b[0m\u001b[1;33m(\u001b[0m\u001b[0mmethod\u001b[0m\u001b[1;33m,\u001b[0m \u001b[0murl\u001b[0m\u001b[1;33m,\u001b[0m \u001b[1;33m**\u001b[0m\u001b[0mhttplib_request_kw\u001b[0m\u001b[1;33m)\u001b[0m\u001b[1;33m\u001b[0m\u001b[1;33m\u001b[0m\u001b[0m\n\u001b[0m\u001b[0;32m    395\u001b[0m \u001b[1;33m\u001b[0m\u001b[0m\n",
      "\u001b[1;32mC:\\ProgramData\\Anaconda3\\lib\\site-packages\\urllib3\\connection.py\u001b[0m in \u001b[0;36mrequest\u001b[1;34m(self, method, url, body, headers)\u001b[0m\n\u001b[0;32m    233\u001b[0m             \u001b[0mheaders\u001b[0m\u001b[1;33m[\u001b[0m\u001b[1;34m\"User-Agent\"\u001b[0m\u001b[1;33m]\u001b[0m \u001b[1;33m=\u001b[0m \u001b[0m_get_default_user_agent\u001b[0m\u001b[1;33m(\u001b[0m\u001b[1;33m)\u001b[0m\u001b[1;33m\u001b[0m\u001b[1;33m\u001b[0m\u001b[0m\n\u001b[1;32m--> 234\u001b[1;33m         \u001b[0msuper\u001b[0m\u001b[1;33m(\u001b[0m\u001b[0mHTTPConnection\u001b[0m\u001b[1;33m,\u001b[0m \u001b[0mself\u001b[0m\u001b[1;33m)\u001b[0m\u001b[1;33m.\u001b[0m\u001b[0mrequest\u001b[0m\u001b[1;33m(\u001b[0m\u001b[0mmethod\u001b[0m\u001b[1;33m,\u001b[0m \u001b[0murl\u001b[0m\u001b[1;33m,\u001b[0m \u001b[0mbody\u001b[0m\u001b[1;33m=\u001b[0m\u001b[0mbody\u001b[0m\u001b[1;33m,\u001b[0m \u001b[0mheaders\u001b[0m\u001b[1;33m=\u001b[0m\u001b[0mheaders\u001b[0m\u001b[1;33m)\u001b[0m\u001b[1;33m\u001b[0m\u001b[1;33m\u001b[0m\u001b[0m\n\u001b[0m\u001b[0;32m    235\u001b[0m \u001b[1;33m\u001b[0m\u001b[0m\n",
      "\u001b[1;32mC:\\ProgramData\\Anaconda3\\lib\\http\\client.py\u001b[0m in \u001b[0;36mrequest\u001b[1;34m(self, method, url, body, headers, encode_chunked)\u001b[0m\n\u001b[0;32m   1254\u001b[0m         \u001b[1;34m\"\"\"Send a complete request to the server.\"\"\"\u001b[0m\u001b[1;33m\u001b[0m\u001b[1;33m\u001b[0m\u001b[0m\n\u001b[1;32m-> 1255\u001b[1;33m         \u001b[0mself\u001b[0m\u001b[1;33m.\u001b[0m\u001b[0m_send_request\u001b[0m\u001b[1;33m(\u001b[0m\u001b[0mmethod\u001b[0m\u001b[1;33m,\u001b[0m \u001b[0murl\u001b[0m\u001b[1;33m,\u001b[0m \u001b[0mbody\u001b[0m\u001b[1;33m,\u001b[0m \u001b[0mheaders\u001b[0m\u001b[1;33m,\u001b[0m \u001b[0mencode_chunked\u001b[0m\u001b[1;33m)\u001b[0m\u001b[1;33m\u001b[0m\u001b[1;33m\u001b[0m\u001b[0m\n\u001b[0m\u001b[0;32m   1256\u001b[0m \u001b[1;33m\u001b[0m\u001b[0m\n",
      "\u001b[1;32mC:\\ProgramData\\Anaconda3\\lib\\http\\client.py\u001b[0m in \u001b[0;36m_send_request\u001b[1;34m(self, method, url, body, headers, encode_chunked)\u001b[0m\n\u001b[0;32m   1300\u001b[0m             \u001b[0mbody\u001b[0m \u001b[1;33m=\u001b[0m \u001b[0m_encode\u001b[0m\u001b[1;33m(\u001b[0m\u001b[0mbody\u001b[0m\u001b[1;33m,\u001b[0m \u001b[1;34m'body'\u001b[0m\u001b[1;33m)\u001b[0m\u001b[1;33m\u001b[0m\u001b[1;33m\u001b[0m\u001b[0m\n\u001b[1;32m-> 1301\u001b[1;33m         \u001b[0mself\u001b[0m\u001b[1;33m.\u001b[0m\u001b[0mendheaders\u001b[0m\u001b[1;33m(\u001b[0m\u001b[0mbody\u001b[0m\u001b[1;33m,\u001b[0m \u001b[0mencode_chunked\u001b[0m\u001b[1;33m=\u001b[0m\u001b[0mencode_chunked\u001b[0m\u001b[1;33m)\u001b[0m\u001b[1;33m\u001b[0m\u001b[1;33m\u001b[0m\u001b[0m\n\u001b[0m\u001b[0;32m   1302\u001b[0m \u001b[1;33m\u001b[0m\u001b[0m\n",
      "\u001b[1;32mC:\\ProgramData\\Anaconda3\\lib\\http\\client.py\u001b[0m in \u001b[0;36mendheaders\u001b[1;34m(self, message_body, encode_chunked)\u001b[0m\n\u001b[0;32m   1249\u001b[0m             \u001b[1;32mraise\u001b[0m \u001b[0mCannotSendHeader\u001b[0m\u001b[1;33m(\u001b[0m\u001b[1;33m)\u001b[0m\u001b[1;33m\u001b[0m\u001b[1;33m\u001b[0m\u001b[0m\n\u001b[1;32m-> 1250\u001b[1;33m         \u001b[0mself\u001b[0m\u001b[1;33m.\u001b[0m\u001b[0m_send_output\u001b[0m\u001b[1;33m(\u001b[0m\u001b[0mmessage_body\u001b[0m\u001b[1;33m,\u001b[0m \u001b[0mencode_chunked\u001b[0m\u001b[1;33m=\u001b[0m\u001b[0mencode_chunked\u001b[0m\u001b[1;33m)\u001b[0m\u001b[1;33m\u001b[0m\u001b[1;33m\u001b[0m\u001b[0m\n\u001b[0m\u001b[0;32m   1251\u001b[0m \u001b[1;33m\u001b[0m\u001b[0m\n",
      "\u001b[1;32mC:\\ProgramData\\Anaconda3\\lib\\http\\client.py\u001b[0m in \u001b[0;36m_send_output\u001b[1;34m(self, message_body, encode_chunked)\u001b[0m\n\u001b[0;32m   1009\u001b[0m         \u001b[1;32mdel\u001b[0m \u001b[0mself\u001b[0m\u001b[1;33m.\u001b[0m\u001b[0m_buffer\u001b[0m\u001b[1;33m[\u001b[0m\u001b[1;33m:\u001b[0m\u001b[1;33m]\u001b[0m\u001b[1;33m\u001b[0m\u001b[1;33m\u001b[0m\u001b[0m\n\u001b[1;32m-> 1010\u001b[1;33m         \u001b[0mself\u001b[0m\u001b[1;33m.\u001b[0m\u001b[0msend\u001b[0m\u001b[1;33m(\u001b[0m\u001b[0mmsg\u001b[0m\u001b[1;33m)\u001b[0m\u001b[1;33m\u001b[0m\u001b[1;33m\u001b[0m\u001b[0m\n\u001b[0m\u001b[0;32m   1011\u001b[0m \u001b[1;33m\u001b[0m\u001b[0m\n",
      "\u001b[1;32mC:\\ProgramData\\Anaconda3\\lib\\http\\client.py\u001b[0m in \u001b[0;36msend\u001b[1;34m(self, data)\u001b[0m\n\u001b[0;32m    949\u001b[0m             \u001b[1;32mif\u001b[0m \u001b[0mself\u001b[0m\u001b[1;33m.\u001b[0m\u001b[0mauto_open\u001b[0m\u001b[1;33m:\u001b[0m\u001b[1;33m\u001b[0m\u001b[1;33m\u001b[0m\u001b[0m\n\u001b[1;32m--> 950\u001b[1;33m                 \u001b[0mself\u001b[0m\u001b[1;33m.\u001b[0m\u001b[0mconnect\u001b[0m\u001b[1;33m(\u001b[0m\u001b[1;33m)\u001b[0m\u001b[1;33m\u001b[0m\u001b[1;33m\u001b[0m\u001b[0m\n\u001b[0m\u001b[0;32m    951\u001b[0m             \u001b[1;32melse\u001b[0m\u001b[1;33m:\u001b[0m\u001b[1;33m\u001b[0m\u001b[1;33m\u001b[0m\u001b[0m\n",
      "\u001b[1;32mC:\\ProgramData\\Anaconda3\\lib\\site-packages\\urllib3\\connection.py\u001b[0m in \u001b[0;36mconnect\u001b[1;34m(self)\u001b[0m\n\u001b[0;32m    199\u001b[0m     \u001b[1;32mdef\u001b[0m \u001b[0mconnect\u001b[0m\u001b[1;33m(\u001b[0m\u001b[0mself\u001b[0m\u001b[1;33m)\u001b[0m\u001b[1;33m:\u001b[0m\u001b[1;33m\u001b[0m\u001b[1;33m\u001b[0m\u001b[0m\n\u001b[1;32m--> 200\u001b[1;33m         \u001b[0mconn\u001b[0m \u001b[1;33m=\u001b[0m \u001b[0mself\u001b[0m\u001b[1;33m.\u001b[0m\u001b[0m_new_conn\u001b[0m\u001b[1;33m(\u001b[0m\u001b[1;33m)\u001b[0m\u001b[1;33m\u001b[0m\u001b[1;33m\u001b[0m\u001b[0m\n\u001b[0m\u001b[0;32m    201\u001b[0m         \u001b[0mself\u001b[0m\u001b[1;33m.\u001b[0m\u001b[0m_prepare_conn\u001b[0m\u001b[1;33m(\u001b[0m\u001b[0mconn\u001b[0m\u001b[1;33m)\u001b[0m\u001b[1;33m\u001b[0m\u001b[1;33m\u001b[0m\u001b[0m\n",
      "\u001b[1;32mC:\\ProgramData\\Anaconda3\\lib\\site-packages\\urllib3\\connection.py\u001b[0m in \u001b[0;36m_new_conn\u001b[1;34m(self)\u001b[0m\n\u001b[0;32m    180\u001b[0m         \u001b[1;32mexcept\u001b[0m \u001b[0mSocketError\u001b[0m \u001b[1;32mas\u001b[0m \u001b[0me\u001b[0m\u001b[1;33m:\u001b[0m\u001b[1;33m\u001b[0m\u001b[1;33m\u001b[0m\u001b[0m\n\u001b[1;32m--> 181\u001b[1;33m             raise NewConnectionError(\n\u001b[0m\u001b[0;32m    182\u001b[0m                 \u001b[0mself\u001b[0m\u001b[1;33m,\u001b[0m \u001b[1;34m\"Failed to establish a new connection: %s\"\u001b[0m \u001b[1;33m%\u001b[0m \u001b[0me\u001b[0m\u001b[1;33m\u001b[0m\u001b[1;33m\u001b[0m\u001b[0m\n",
      "\u001b[1;31mNewConnectionError\u001b[0m: <urllib3.connection.HTTPConnection object at 0x00000170189E2580>: Failed to establish a new connection: [WinError 10061] No connection could be made because the target machine actively refused it",
      "\nDuring handling of the above exception, another exception occurred:\n",
      "\u001b[1;31mMaxRetryError\u001b[0m                             Traceback (most recent call last)",
      "\u001b[1;32mC:\\ProgramData\\Anaconda3\\lib\\site-packages\\requests\\adapters.py\u001b[0m in \u001b[0;36msend\u001b[1;34m(self, request, stream, timeout, verify, cert, proxies)\u001b[0m\n\u001b[0;32m    438\u001b[0m             \u001b[1;32mif\u001b[0m \u001b[1;32mnot\u001b[0m \u001b[0mchunked\u001b[0m\u001b[1;33m:\u001b[0m\u001b[1;33m\u001b[0m\u001b[1;33m\u001b[0m\u001b[0m\n\u001b[1;32m--> 439\u001b[1;33m                 resp = conn.urlopen(\n\u001b[0m\u001b[0;32m    440\u001b[0m                     \u001b[0mmethod\u001b[0m\u001b[1;33m=\u001b[0m\u001b[0mrequest\u001b[0m\u001b[1;33m.\u001b[0m\u001b[0mmethod\u001b[0m\u001b[1;33m,\u001b[0m\u001b[1;33m\u001b[0m\u001b[1;33m\u001b[0m\u001b[0m\n",
      "\u001b[1;32mC:\\ProgramData\\Anaconda3\\lib\\site-packages\\urllib3\\connectionpool.py\u001b[0m in \u001b[0;36murlopen\u001b[1;34m(self, method, url, body, headers, retries, redirect, assert_same_host, timeout, pool_timeout, release_conn, chunked, body_pos, **response_kw)\u001b[0m\n\u001b[0;32m    754\u001b[0m \u001b[1;33m\u001b[0m\u001b[0m\n\u001b[1;32m--> 755\u001b[1;33m             retries = retries.increment(\n\u001b[0m\u001b[0;32m    756\u001b[0m                 \u001b[0mmethod\u001b[0m\u001b[1;33m,\u001b[0m \u001b[0murl\u001b[0m\u001b[1;33m,\u001b[0m \u001b[0merror\u001b[0m\u001b[1;33m=\u001b[0m\u001b[0me\u001b[0m\u001b[1;33m,\u001b[0m \u001b[0m_pool\u001b[0m\u001b[1;33m=\u001b[0m\u001b[0mself\u001b[0m\u001b[1;33m,\u001b[0m \u001b[0m_stacktrace\u001b[0m\u001b[1;33m=\u001b[0m\u001b[0msys\u001b[0m\u001b[1;33m.\u001b[0m\u001b[0mexc_info\u001b[0m\u001b[1;33m(\u001b[0m\u001b[1;33m)\u001b[0m\u001b[1;33m[\u001b[0m\u001b[1;36m2\u001b[0m\u001b[1;33m]\u001b[0m\u001b[1;33m\u001b[0m\u001b[1;33m\u001b[0m\u001b[0m\n",
      "\u001b[1;32mC:\\ProgramData\\Anaconda3\\lib\\site-packages\\urllib3\\util\\retry.py\u001b[0m in \u001b[0;36mincrement\u001b[1;34m(self, method, url, response, error, _pool, _stacktrace)\u001b[0m\n\u001b[0;32m    573\u001b[0m         \u001b[1;32mif\u001b[0m \u001b[0mnew_retry\u001b[0m\u001b[1;33m.\u001b[0m\u001b[0mis_exhausted\u001b[0m\u001b[1;33m(\u001b[0m\u001b[1;33m)\u001b[0m\u001b[1;33m:\u001b[0m\u001b[1;33m\u001b[0m\u001b[1;33m\u001b[0m\u001b[0m\n\u001b[1;32m--> 574\u001b[1;33m             \u001b[1;32mraise\u001b[0m \u001b[0mMaxRetryError\u001b[0m\u001b[1;33m(\u001b[0m\u001b[0m_pool\u001b[0m\u001b[1;33m,\u001b[0m \u001b[0murl\u001b[0m\u001b[1;33m,\u001b[0m \u001b[0merror\u001b[0m \u001b[1;32mor\u001b[0m \u001b[0mResponseError\u001b[0m\u001b[1;33m(\u001b[0m\u001b[0mcause\u001b[0m\u001b[1;33m)\u001b[0m\u001b[1;33m)\u001b[0m\u001b[1;33m\u001b[0m\u001b[1;33m\u001b[0m\u001b[0m\n\u001b[0m\u001b[0;32m    575\u001b[0m \u001b[1;33m\u001b[0m\u001b[0m\n",
      "\u001b[1;31mMaxRetryError\u001b[0m: HTTPConnectionPool(host='localhost', port=1517): Max retries exceeded with url: /v1/graph/new (Caused by NewConnectionError('<urllib3.connection.HTTPConnection object at 0x00000170189E2580>: Failed to establish a new connection: [WinError 10061] No connection could be made because the target machine actively refused it'))",
      "\nDuring handling of the above exception, another exception occurred:\n",
      "\u001b[1;31mConnectionError\u001b[0m                           Traceback (most recent call last)",
      "\u001b[1;32m<ipython-input-44-8e6cacffb3e0>\u001b[0m in \u001b[0;36m<module>\u001b[1;34m\u001b[0m\n\u001b[1;32m----> 1\u001b[1;33m \u001b[0mcc\u001b[0m\u001b[1;33m.\u001b[0m\u001b[0mnew_graph\u001b[0m\u001b[1;33m(\u001b[0m\u001b[1;33m)\u001b[0m\u001b[1;33m\u001b[0m\u001b[1;33m\u001b[0m\u001b[0m\n\u001b[0m\u001b[0;32m      2\u001b[0m \u001b[0mcc\u001b[0m\u001b[1;33m.\u001b[0m\u001b[0mput_dataframe\u001b[0m\u001b[1;33m(\u001b[0m\u001b[0mdf_sml\u001b[0m\u001b[1;33m)\u001b[0m\u001b[1;33m\u001b[0m\u001b[1;33m\u001b[0m\u001b[0m\n",
      "\u001b[1;32m~\\.ipython\\constellation_client.py\u001b[0m in \u001b[0;36mnew_graph\u001b[1;34m(self, schema)\u001b[0m\n\u001b[0;32m    505\u001b[0m             \u001b[0mparams\u001b[0m\u001b[1;33m[\u001b[0m\u001b[1;34m'schema'\u001b[0m\u001b[1;33m]\u001b[0m \u001b[1;33m=\u001b[0m \u001b[0mschema\u001b[0m\u001b[1;33m\u001b[0m\u001b[1;33m\u001b[0m\u001b[0m\n\u001b[0;32m    506\u001b[0m \u001b[1;33m\u001b[0m\u001b[0m\n\u001b[1;32m--> 507\u001b[1;33m         \u001b[0mr\u001b[0m \u001b[1;33m=\u001b[0m \u001b[0mself\u001b[0m\u001b[1;33m.\u001b[0m\u001b[0mrest_request\u001b[0m\u001b[1;33m(\u001b[0m\u001b[0mverb\u001b[0m\u001b[1;33m=\u001b[0m\u001b[1;34m'post'\u001b[0m\u001b[1;33m,\u001b[0m \u001b[0mendpoint\u001b[0m\u001b[1;33m=\u001b[0m\u001b[1;34m'/v1/graph'\u001b[0m\u001b[1;33m,\u001b[0m \u001b[0mpath\u001b[0m\u001b[1;33m=\u001b[0m\u001b[1;34m'new'\u001b[0m\u001b[1;33m,\u001b[0m \u001b[0mparams\u001b[0m\u001b[1;33m=\u001b[0m\u001b[0mparams\u001b[0m\u001b[1;33m)\u001b[0m\u001b[1;33m\u001b[0m\u001b[1;33m\u001b[0m\u001b[0m\n\u001b[0m\u001b[0;32m    508\u001b[0m \u001b[1;33m\u001b[0m\u001b[0m\n\u001b[0;32m    509\u001b[0m         \u001b[0mr\u001b[0m \u001b[1;33m=\u001b[0m \u001b[0mself\u001b[0m\u001b[1;33m.\u001b[0m\u001b[0mrest_request\u001b[0m\u001b[1;33m(\u001b[0m\u001b[0mendpoint\u001b[0m\u001b[1;33m=\u001b[0m\u001b[1;34m'/v1/graph'\u001b[0m\u001b[1;33m,\u001b[0m \u001b[0mpath\u001b[0m\u001b[1;33m=\u001b[0m\u001b[1;34m'schema'\u001b[0m\u001b[1;33m)\u001b[0m\u001b[1;33m\u001b[0m\u001b[1;33m\u001b[0m\u001b[0m\n",
      "\u001b[1;32m~\\.ipython\\constellation_client.py\u001b[0m in \u001b[0;36mhttp_request\u001b[1;34m(self, verb, endpoint, path, params, json_, data)\u001b[0m\n\u001b[0;32m    194\u001b[0m             \u001b[1;32mraise\u001b[0m \u001b[0mValueError\u001b[0m\u001b[1;33m(\u001b[0m\u001b[1;34mf'Unrecognised verb \"{verb}\"'\u001b[0m\u001b[1;33m)\u001b[0m\u001b[1;33m\u001b[0m\u001b[1;33m\u001b[0m\u001b[0m\n\u001b[0;32m    195\u001b[0m         \u001b[0murl\u001b[0m \u001b[1;33m=\u001b[0m \u001b[1;34mf'http://localhost:{self.port}{endpoint}/{path}'\u001b[0m\u001b[1;33m\u001b[0m\u001b[1;33m\u001b[0m\u001b[0m\n\u001b[1;32m--> 196\u001b[1;33m         \u001b[0mr\u001b[0m \u001b[1;33m=\u001b[0m \u001b[0mf\u001b[0m\u001b[1;33m(\u001b[0m\u001b[0murl\u001b[0m\u001b[1;33m,\u001b[0m \u001b[0mparams\u001b[0m\u001b[1;33m=\u001b[0m\u001b[0mparams\u001b[0m\u001b[1;33m,\u001b[0m \u001b[0mjson\u001b[0m\u001b[1;33m=\u001b[0m\u001b[0mjson_\u001b[0m\u001b[1;33m,\u001b[0m \u001b[0mdata\u001b[0m\u001b[1;33m=\u001b[0m\u001b[0mdata\u001b[0m\u001b[1;33m,\u001b[0m \u001b[0mheaders\u001b[0m\u001b[1;33m=\u001b[0m\u001b[0mself\u001b[0m\u001b[1;33m.\u001b[0m\u001b[0mheaders\u001b[0m\u001b[1;33m)\u001b[0m\u001b[1;33m\u001b[0m\u001b[1;33m\u001b[0m\u001b[0m\n\u001b[0m\u001b[0;32m    197\u001b[0m         \u001b[0mr\u001b[0m\u001b[1;33m.\u001b[0m\u001b[0mraise_for_status\u001b[0m\u001b[1;33m(\u001b[0m\u001b[1;33m)\u001b[0m\u001b[1;33m\u001b[0m\u001b[1;33m\u001b[0m\u001b[0m\n\u001b[0;32m    198\u001b[0m \u001b[1;33m\u001b[0m\u001b[0m\n",
      "\u001b[1;32mC:\\ProgramData\\Anaconda3\\lib\\site-packages\\requests\\api.py\u001b[0m in \u001b[0;36mpost\u001b[1;34m(url, data, json, **kwargs)\u001b[0m\n\u001b[0;32m    117\u001b[0m     \"\"\"\n\u001b[0;32m    118\u001b[0m \u001b[1;33m\u001b[0m\u001b[0m\n\u001b[1;32m--> 119\u001b[1;33m     \u001b[1;32mreturn\u001b[0m \u001b[0mrequest\u001b[0m\u001b[1;33m(\u001b[0m\u001b[1;34m'post'\u001b[0m\u001b[1;33m,\u001b[0m \u001b[0murl\u001b[0m\u001b[1;33m,\u001b[0m \u001b[0mdata\u001b[0m\u001b[1;33m=\u001b[0m\u001b[0mdata\u001b[0m\u001b[1;33m,\u001b[0m \u001b[0mjson\u001b[0m\u001b[1;33m=\u001b[0m\u001b[0mjson\u001b[0m\u001b[1;33m,\u001b[0m \u001b[1;33m**\u001b[0m\u001b[0mkwargs\u001b[0m\u001b[1;33m)\u001b[0m\u001b[1;33m\u001b[0m\u001b[1;33m\u001b[0m\u001b[0m\n\u001b[0m\u001b[0;32m    120\u001b[0m \u001b[1;33m\u001b[0m\u001b[0m\n\u001b[0;32m    121\u001b[0m \u001b[1;33m\u001b[0m\u001b[0m\n",
      "\u001b[1;32mC:\\ProgramData\\Anaconda3\\lib\\site-packages\\requests\\api.py\u001b[0m in \u001b[0;36mrequest\u001b[1;34m(method, url, **kwargs)\u001b[0m\n\u001b[0;32m     59\u001b[0m     \u001b[1;31m# cases, and look like a memory leak in others.\u001b[0m\u001b[1;33m\u001b[0m\u001b[1;33m\u001b[0m\u001b[1;33m\u001b[0m\u001b[0m\n\u001b[0;32m     60\u001b[0m     \u001b[1;32mwith\u001b[0m \u001b[0msessions\u001b[0m\u001b[1;33m.\u001b[0m\u001b[0mSession\u001b[0m\u001b[1;33m(\u001b[0m\u001b[1;33m)\u001b[0m \u001b[1;32mas\u001b[0m \u001b[0msession\u001b[0m\u001b[1;33m:\u001b[0m\u001b[1;33m\u001b[0m\u001b[1;33m\u001b[0m\u001b[0m\n\u001b[1;32m---> 61\u001b[1;33m         \u001b[1;32mreturn\u001b[0m \u001b[0msession\u001b[0m\u001b[1;33m.\u001b[0m\u001b[0mrequest\u001b[0m\u001b[1;33m(\u001b[0m\u001b[0mmethod\u001b[0m\u001b[1;33m=\u001b[0m\u001b[0mmethod\u001b[0m\u001b[1;33m,\u001b[0m \u001b[0murl\u001b[0m\u001b[1;33m=\u001b[0m\u001b[0murl\u001b[0m\u001b[1;33m,\u001b[0m \u001b[1;33m**\u001b[0m\u001b[0mkwargs\u001b[0m\u001b[1;33m)\u001b[0m\u001b[1;33m\u001b[0m\u001b[1;33m\u001b[0m\u001b[0m\n\u001b[0m\u001b[0;32m     62\u001b[0m \u001b[1;33m\u001b[0m\u001b[0m\n\u001b[0;32m     63\u001b[0m \u001b[1;33m\u001b[0m\u001b[0m\n",
      "\u001b[1;32mC:\\ProgramData\\Anaconda3\\lib\\site-packages\\requests\\sessions.py\u001b[0m in \u001b[0;36mrequest\u001b[1;34m(self, method, url, params, data, headers, cookies, files, auth, timeout, allow_redirects, proxies, hooks, stream, verify, cert, json)\u001b[0m\n\u001b[0;32m    540\u001b[0m         }\n\u001b[0;32m    541\u001b[0m         \u001b[0msend_kwargs\u001b[0m\u001b[1;33m.\u001b[0m\u001b[0mupdate\u001b[0m\u001b[1;33m(\u001b[0m\u001b[0msettings\u001b[0m\u001b[1;33m)\u001b[0m\u001b[1;33m\u001b[0m\u001b[1;33m\u001b[0m\u001b[0m\n\u001b[1;32m--> 542\u001b[1;33m         \u001b[0mresp\u001b[0m \u001b[1;33m=\u001b[0m \u001b[0mself\u001b[0m\u001b[1;33m.\u001b[0m\u001b[0msend\u001b[0m\u001b[1;33m(\u001b[0m\u001b[0mprep\u001b[0m\u001b[1;33m,\u001b[0m \u001b[1;33m**\u001b[0m\u001b[0msend_kwargs\u001b[0m\u001b[1;33m)\u001b[0m\u001b[1;33m\u001b[0m\u001b[1;33m\u001b[0m\u001b[0m\n\u001b[0m\u001b[0;32m    543\u001b[0m \u001b[1;33m\u001b[0m\u001b[0m\n\u001b[0;32m    544\u001b[0m         \u001b[1;32mreturn\u001b[0m \u001b[0mresp\u001b[0m\u001b[1;33m\u001b[0m\u001b[1;33m\u001b[0m\u001b[0m\n",
      "\u001b[1;32mC:\\ProgramData\\Anaconda3\\lib\\site-packages\\requests\\sessions.py\u001b[0m in \u001b[0;36msend\u001b[1;34m(self, request, **kwargs)\u001b[0m\n\u001b[0;32m    653\u001b[0m \u001b[1;33m\u001b[0m\u001b[0m\n\u001b[0;32m    654\u001b[0m         \u001b[1;31m# Send the request\u001b[0m\u001b[1;33m\u001b[0m\u001b[1;33m\u001b[0m\u001b[1;33m\u001b[0m\u001b[0m\n\u001b[1;32m--> 655\u001b[1;33m         \u001b[0mr\u001b[0m \u001b[1;33m=\u001b[0m \u001b[0madapter\u001b[0m\u001b[1;33m.\u001b[0m\u001b[0msend\u001b[0m\u001b[1;33m(\u001b[0m\u001b[0mrequest\u001b[0m\u001b[1;33m,\u001b[0m \u001b[1;33m**\u001b[0m\u001b[0mkwargs\u001b[0m\u001b[1;33m)\u001b[0m\u001b[1;33m\u001b[0m\u001b[1;33m\u001b[0m\u001b[0m\n\u001b[0m\u001b[0;32m    656\u001b[0m \u001b[1;33m\u001b[0m\u001b[0m\n\u001b[0;32m    657\u001b[0m         \u001b[1;31m# Total elapsed time of the request (approximately)\u001b[0m\u001b[1;33m\u001b[0m\u001b[1;33m\u001b[0m\u001b[1;33m\u001b[0m\u001b[0m\n",
      "\u001b[1;32mC:\\ProgramData\\Anaconda3\\lib\\site-packages\\requests\\adapters.py\u001b[0m in \u001b[0;36msend\u001b[1;34m(self, request, stream, timeout, verify, cert, proxies)\u001b[0m\n\u001b[0;32m    514\u001b[0m                 \u001b[1;32mraise\u001b[0m \u001b[0mSSLError\u001b[0m\u001b[1;33m(\u001b[0m\u001b[0me\u001b[0m\u001b[1;33m,\u001b[0m \u001b[0mrequest\u001b[0m\u001b[1;33m=\u001b[0m\u001b[0mrequest\u001b[0m\u001b[1;33m)\u001b[0m\u001b[1;33m\u001b[0m\u001b[1;33m\u001b[0m\u001b[0m\n\u001b[0;32m    515\u001b[0m \u001b[1;33m\u001b[0m\u001b[0m\n\u001b[1;32m--> 516\u001b[1;33m             \u001b[1;32mraise\u001b[0m \u001b[0mConnectionError\u001b[0m\u001b[1;33m(\u001b[0m\u001b[0me\u001b[0m\u001b[1;33m,\u001b[0m \u001b[0mrequest\u001b[0m\u001b[1;33m=\u001b[0m\u001b[0mrequest\u001b[0m\u001b[1;33m)\u001b[0m\u001b[1;33m\u001b[0m\u001b[1;33m\u001b[0m\u001b[0m\n\u001b[0m\u001b[0;32m    517\u001b[0m \u001b[1;33m\u001b[0m\u001b[0m\n\u001b[0;32m    518\u001b[0m         \u001b[1;32mexcept\u001b[0m \u001b[0mClosedPoolError\u001b[0m \u001b[1;32mas\u001b[0m \u001b[0me\u001b[0m\u001b[1;33m:\u001b[0m\u001b[1;33m\u001b[0m\u001b[1;33m\u001b[0m\u001b[0m\n",
      "\u001b[1;31mConnectionError\u001b[0m: HTTPConnectionPool(host='localhost', port=1517): Max retries exceeded with url: /v1/graph/new (Caused by NewConnectionError('<urllib3.connection.HTTPConnection object at 0x00000170189E2580>: Failed to establish a new connection: [WinError 10061] No connection could be made because the target machine actively refused it'))"
     ]
    }
   ],
   "source": [
    "cc.new_graph()\n",
    "cc.put_dataframe(df_sml)"
   ]
  },
  {
   "cell_type": "markdown",
   "id": "df7c9668",
   "metadata": {},
   "source": [
    "CONSTELLATION creates a new graph, accepts the contents of the dataframe, applies the schema, and automatically arranges the graph. Finally, it resets the view so you can see the complete graph.\n",
    "\n",
    "In this simple case, it's easy to see that the first two rows of the dataframe are correctly represented as nodes with transactions between them. The third row of the dataframe does not have a destination, so there is no transaction.\n",
    "\n",
    "If you open the Attribute Editor view and select a transaction, you'll see that they have the correct DateTime values.\n",
    "\n",
    "Of course, we didn't have to create a new graph. In the same graph, let's add a new node with a transaction from an existing node (ghi@example3.com). We'll use another (pretend) CSV file and modify the dataframe as we did before."
   ]
  },
  {
   "cell_type": "code",
   "execution_count": null,
   "id": "4d1f7f31",
   "metadata": {},
   "outputs": [],
   "source": [
    "csv_data = '''\n",
    "from_address,from_country,to_address,to_country,dtg\n",
    "ghi@example3.com,Zambia,mno@example3.com,Brazil,2017-01-02 01:22:33\n",
    "'''.strip()\n",
    "dfn = pd.read_csv(io.StringIO(csv_data))\n",
    "dfn.from_address = dfn.from_address + '<Email>'\n",
    "dfn.to_address = dfn.to_address + '<Email>'\n",
    "dfn.dtg = pd.to_datetime(dfn.dtg)\n",
    "dfn = dfn.rename(columns={\n",
    "    'from_address': 'source.Label',\n",
    "    'from_country': 'source.Geo.Country',\n",
    "    'to_address': 'destination.Label',\n",
    "    'to_country': 'destination.Geo.Country',\n",
    "    'dtg': 'transaction.DateTime'})\n",
    "cc.put_dataframe(dfn)"
   ]
  },
  {
   "cell_type": "code",
   "execution_count": null,
   "id": "cd8def4b",
   "metadata": {},
   "outputs": [],
   "source": []
  },
  {
   "cell_type": "code",
   "execution_count": null,
   "id": "969e8204",
   "metadata": {},
   "outputs": [],
   "source": []
  },
  {
   "cell_type": "markdown",
   "id": "e629c782",
   "metadata": {},
   "source": [
    "## Extracting Features"
   ]
  },
  {
   "cell_type": "code",
   "execution_count": 45,
   "id": "57589545",
   "metadata": {},
   "outputs": [],
   "source": [
    "# !pip install gensim\n",
    "\n",
    "from sklearn.feature_extraction.text import TfidfVectorizer, CountVectorizer\n",
    "import gensim"
   ]
  },
  {
   "cell_type": "markdown",
   "id": "fcc035c9",
   "metadata": {},
   "source": [
    "## Bag of Words"
   ]
  },
  {
   "attachments": {
    "image.png": {
     "image/png": "[encoded data removed]"
    }
   },
   "cell_type": "markdown",
   "id": "06df0b92",
   "metadata": {},
   "source": [
    "Bag of Wrods is a bit like 'one hot encoding' in that it represents words with numbers. If a corpus is the collection of tweets (C=corpus D=documents (or in this case tweets), and the number of tokens taken from the corpus is N, then the size of the matrix resulting from the list of tokens of length N is given by DXN. Each row in the matrix M has the frequency of the tokens in document D(i).\n",
    "\n",
    "For example: Suppose we have only 2 tweets:\n",
    "\n",
    "D1: He is a lazy boy. She is also lazy.\n",
    "\n",
    "D2: Smith is a lazy person.\n",
    "\n",
    "The list of the unique tokens in the corpus C = [‘He’,’She’,’lazy’,’boy’,’Smith’,’person’]\n",
    "\n",
    "Here, D=2, N=6\n",
    "\n",
    "The matrix M of size 2 X 6 will be represented as –\n",
    "\n",
    "![image.png](attachment:image.png)\n",
    "\n",
    "The columns of which can now be used for a classification model. \n",
    "The CountVectorizer function can be used here to  make Bag-of-Words features. \n",
    "Set the parameter max_features = 1000 to select the top 1000 terms ordered by term frequency across the corpus."
   ]
  },
  {
   "cell_type": "code",
   "execution_count": 46,
   "id": "fa4af7cb",
   "metadata": {},
   "outputs": [
    {
     "data": {
      "text/plain": [
       "<40405x1000 sparse matrix of type '<class 'numpy.int64'>'\n",
       "\twith 100439 stored elements in Compressed Sparse Row format>"
      ]
     },
     "execution_count": 46,
     "metadata": {},
     "output_type": "execute_result"
    }
   ],
   "source": [
    "import sklearn\n",
    "\n",
    "from sklearn.feature_extraction.text import CountVectorizer\n",
    "\n",
    "bow_vectorizer = CountVectorizer(max_df=0.90, min_df=2, max_features=1000, stop_words='english')\n",
    "\n",
    "# bag-of-words feature matrix\n",
    "bow = bow_vectorizer.fit_transform(df_sml['tidy_tweet'])\n",
    "\n",
    "bow"
   ]
  },
  {
   "cell_type": "markdown",
   "id": "ee070760",
   "metadata": {},
   "source": [
    "## TF-IDF Features"
   ]
  },
  {
   "cell_type": "markdown",
   "id": "f114da1c",
   "metadata": {},
   "source": [
    "This method is based on the frequency method, but differs from the bag of words method by accounting for, not only the frequency of the word in a tweet, but also the frequency of the words overall (in the whole corpus). \n",
    "If a word occurs frequently, it is 'penalised' with a lower weighting than words that appear often in a number of the tweets but rarely in the overall corpus.\n",
    "\n",
    "TF = (Number of times term t appears in a document)/(Number of terms in the document)\n",
    "IDF = log(N/n), where, N is the number of documents and n is the number of documents a term t has appeared in.\n",
    "TF-IDF = TF*IDF"
   ]
  },
  {
   "cell_type": "code",
   "execution_count": 47,
   "id": "1be058df",
   "metadata": {},
   "outputs": [],
   "source": [
    "from sklearn.feature_extraction.text import TfidfVectorizer\n",
    "tfidf_vectorizer = TfidfVectorizer(max_df=0.90, min_df=2, max_features=1000, stop_words='english')\n",
    "# TF-IDF feature matrix\n",
    "tfidf = tfidf_vectorizer.fit_transform(df_sml['tidy_tweet'])"
   ]
  },
  {
   "cell_type": "markdown",
   "id": "6d2ab9ad",
   "metadata": {},
   "source": [
    "## Word Embeddings"
   ]
  },
  {
   "cell_type": "markdown",
   "id": "51ea938a",
   "metadata": {},
   "source": [
    "### 1. Word2Vec Embeddings"
   ]
  },
  {
   "cell_type": "code",
   "execution_count": 48,
   "id": "c01b6c98",
   "metadata": {},
   "outputs": [
    {
     "data": {
      "text/plain": [
       "(4777799, 5756960)"
      ]
     },
     "execution_count": 48,
     "metadata": {},
     "output_type": "execute_result"
    }
   ],
   "source": [
    "tokenized_tweet = df_sml['tidy_tweet'].apply(lambda x: x.split()) # tokenizing\n",
    "\n",
    "model_w2v = gensim.models.Word2Vec(\n",
    "            tokenized_tweet,\n",
    "            vector_size=200, # desired no. of features/independent variables \n",
    "            window=5, # context window size\n",
    "            min_count=2,\n",
    "            sg = 1, # 1 for skip-gram model\n",
    "            hs = 0,\n",
    "            negative = 10, # for negative sampling\n",
    "            workers= 2, # no.of cores\n",
    "            seed = 34)\n",
    "\n",
    "model_w2v.train(tokenized_tweet, total_examples= len(df_sml['tidy_tweet']), epochs=20)"
   ]
  },
  {
   "cell_type": "code",
   "execution_count": 49,
   "id": "5c024b50",
   "metadata": {},
   "outputs": [
    {
     "data": {
      "text/plain": [
       "[('crockpot', 0.655844509601593),\n",
       " ('Screaming', 0.5819122195243835),\n",
       " ('Flies', 0.5806329250335693),\n",
       " ('preparing', 0.5804961919784546),\n",
       " ('Mummy', 0.579712986946106),\n",
       " ('Lancaster', 0.5782908201217651),\n",
       " ('Connery', 0.5782685279846191),\n",
       " ('chop', 0.5759478807449341),\n",
       " ('faux', 0.574292778968811),\n",
       " ('Bearcat', 0.5711640119552612)]"
      ]
     },
     "execution_count": 49,
     "metadata": {},
     "output_type": "execute_result"
    }
   ],
   "source": [
    "model_w2v.wv.most_similar(positive=\"dinner\")"
   ]
  },
  {
   "cell_type": "code",
   "execution_count": 50,
   "id": "46f50921",
   "metadata": {},
   "outputs": [
    {
     "data": {
      "text/plain": [
       "[('republicans', 0.9317442178726196),\n",
       " ('americans', 0.8711092472076416),\n",
       " ('ferrari', 0.8364393711090088),\n",
       " ('tale', 0.8333368301391602),\n",
       " ('Sikhs', 0.8195956349372864),\n",
       " ('Educating', 0.8058455586433411),\n",
       " ('Afghans', 0.7902904152870178),\n",
       " ('vinegar', 0.7901318669319153),\n",
       " ('piglet', 0.7889848947525024),\n",
       " ('sharia', 0.7885619401931763)]"
      ]
     },
     "execution_count": 50,
     "metadata": {},
     "output_type": "execute_result"
    }
   ],
   "source": [
    "model_w2v.wv.most_similar(positive=\"trump\")"
   ]
  },
  {
   "cell_type": "code",
   "execution_count": 51,
   "id": "eeb7c8f3",
   "metadata": {
    "scrolled": true
   },
   "outputs": [
    {
     "data": {
      "text/plain": [
       "array([ 8.13714325e-01, -7.64516532e-01,  7.64464974e-01,  4.25619960e-01,\n",
       "       -1.67057902e-01,  3.51565868e-01,  4.24442850e-02, -3.48829895e-01,\n",
       "       -2.70383316e-03, -4.93616253e-01, -1.33860065e-02, -6.08582973e-01,\n",
       "       -7.18831182e-01,  9.60241929e-02, -2.69960761e-01, -4.13465321e-01,\n",
       "       -2.90400445e-01, -1.53395787e-01, -2.15953022e-01, -6.72531068e-01,\n",
       "        8.68364796e-02,  2.08803788e-01, -7.23160386e-01,  1.07459910e-01,\n",
       "       -3.59759182e-01,  1.77597940e-01,  1.81273952e-01, -2.20030144e-01,\n",
       "       -9.27934274e-02,  2.20013306e-01,  3.11201423e-01,  6.66519523e-01,\n",
       "       -4.16978598e-01, -7.10355192e-02, -7.43463397e-01,  2.38581851e-01,\n",
       "        3.61011356e-01,  8.34109724e-01, -9.90365446e-02,  1.06455617e-01,\n",
       "        4.63116288e-01, -4.36998099e-01,  6.39319867e-02,  2.81265944e-01,\n",
       "        3.87377366e-02,  2.76772201e-01,  7.72098839e-01,  6.09068930e-01,\n",
       "        4.61884141e-02, -4.07883763e-01, -1.48014100e-02,  2.04238921e-01,\n",
       "       -2.26732031e-01,  1.70253925e-02, -1.47934347e-01,  4.97307032e-01,\n",
       "       -6.48303926e-01,  1.82727814e-01,  1.05097127e+00, -1.11585855e+00,\n",
       "       -1.37404442e-01, -2.14631438e-01,  7.73926973e-01,  3.86270553e-01,\n",
       "       -5.16299129e-01, -1.25075057e-01, -2.68826813e-01,  3.34143154e-02,\n",
       "        1.96055651e-01, -2.76852231e-02, -2.05327004e-01, -2.65590787e-01,\n",
       "       -1.24440871e-01, -3.24107349e-01,  5.83978236e-01, -9.06862080e-01,\n",
       "       -9.56957340e-01,  3.53096306e-01, -5.53969108e-02, -5.49241602e-01,\n",
       "        1.06352247e-01,  3.38484913e-01,  3.71123967e-03,  4.55648154e-01,\n",
       "        3.95578891e-01, -4.54246491e-01, -3.45235258e-01, -1.60386667e-01,\n",
       "        3.76481622e-01, -1.86539873e-01,  4.48640406e-01,  2.35187605e-01,\n",
       "        5.96449494e-01,  9.68265906e-02, -5.29959738e-01,  2.98614085e-01,\n",
       "       -5.26744783e-01, -1.76953256e-01, -2.89614558e-01, -4.80881929e-02,\n",
       "        6.84627354e-01,  1.59569100e-01,  6.45525396e-01,  1.20141916e-01,\n",
       "       -6.32801712e-01,  4.67464805e-01, -2.08836272e-01,  1.09381489e-01,\n",
       "        1.78837776e-01,  6.07525826e-01,  3.57064545e-01,  2.02072009e-01,\n",
       "        9.09196511e-02,  3.69437307e-01, -2.90716529e-01,  3.63599360e-01,\n",
       "        5.36831677e-01, -6.07761145e-01,  3.70454751e-02, -5.02221882e-01,\n",
       "        3.70317921e-02,  2.85717279e-01, -2.07482740e-01, -8.64460990e-02,\n",
       "       -3.06554168e-01, -3.39547187e-01, -6.15279973e-01, -6.69635892e-01,\n",
       "       -1.80818141e-01, -5.53790689e-01, -2.26700649e-01, -1.80038348e-01,\n",
       "       -4.62380409e-01, -4.88647819e-01, -3.62903267e-01, -3.39517295e-01,\n",
       "       -4.57186364e-02, -6.23416066e-01,  5.67143895e-02, -3.90558451e-01,\n",
       "       -5.09196281e-01,  3.10881495e-01, -3.84697258e-01, -1.47272162e-02,\n",
       "        8.45898569e-01,  5.07321581e-03,  6.13966167e-01,  4.11945015e-01,\n",
       "       -8.70888680e-02,  5.30569017e-01,  3.44431490e-01,  7.72142589e-01,\n",
       "        4.97554652e-02,  1.49364248e-01,  6.51833043e-02, -5.27944863e-01,\n",
       "       -1.26844615e-01,  1.81751043e-01,  2.30796352e-01,  1.98629141e-01,\n",
       "       -2.18320489e-02,  7.36776292e-01, -6.26583457e-01, -1.48019186e-04,\n",
       "       -8.06446746e-02,  8.24310035e-02, -3.04628432e-01,  1.65712819e-01,\n",
       "       -2.83721555e-02,  5.91179803e-02, -1.12155654e-01, -1.45429790e-01,\n",
       "        1.22218573e+00,  5.68051398e-01,  4.31984395e-01,  4.27478313e-01,\n",
       "       -3.22340876e-01,  7.59561881e-02,  4.32537585e-01, -1.02462657e-01,\n",
       "       -2.70480543e-01,  3.21021706e-01, -1.02185214e+00, -4.07827288e-01,\n",
       "       -3.56098086e-01, -8.08434844e-01, -5.03907859e-01,  7.20014751e-01,\n",
       "       -1.07571697e+00,  6.88831031e-01,  1.75352171e-01,  1.89154074e-01,\n",
       "       -2.96868712e-01, -2.45598227e-01,  6.33876979e-01,  2.72019833e-01,\n",
       "        1.36534899e-01,  1.12040848e-01,  3.52872461e-02, -5.16707063e-01],\n",
       "      dtype=float32)"
      ]
     },
     "execution_count": 51,
     "metadata": {},
     "output_type": "execute_result"
    }
   ],
   "source": [
    "model_w2v.wv['food']"
   ]
  },
  {
   "cell_type": "code",
   "execution_count": 52,
   "id": "84bee666",
   "metadata": {},
   "outputs": [
    {
     "data": {
      "text/plain": [
       "200"
      ]
     },
     "execution_count": 52,
     "metadata": {},
     "output_type": "execute_result"
    }
   ],
   "source": [
    "len(model_w2v.wv['food']) #The length of the vector is 200"
   ]
  },
  {
   "cell_type": "markdown",
   "id": "858f33c0",
   "metadata": {},
   "source": [
    "## Preparing Vectors for Tweets"
   ]
  },
  {
   "cell_type": "markdown",
   "id": "d067fd15",
   "metadata": {},
   "source": [
    "convert processed text to numeric feature vectors in order to be able to feed it to computers for analysis."
   ]
  },
  {
   "cell_type": "code",
   "execution_count": 53,
   "id": "a623f424",
   "metadata": {},
   "outputs": [],
   "source": [
    "def word_vector(tokens, size):\n",
    "    vec = np.zeros(size).reshape((1, size))\n",
    "    count = 0.\n",
    "    for word in tokens:\n",
    "        try:\n",
    "            vec += model_w2v.wv[word].reshape((1, size))\n",
    "            count += 1.\n",
    "        except KeyError: # handling the case where the token is not in vocabulary\n",
    "                         \n",
    "            continue\n",
    "    if count != 0:\n",
    "        vec /= count\n",
    "    return vec"
   ]
  },
  {
   "cell_type": "code",
   "execution_count": 54,
   "id": "595be6d8",
   "metadata": {},
   "outputs": [
    {
     "data": {
      "text/plain": [
       "(40405, 200)"
      ]
     },
     "execution_count": 54,
     "metadata": {},
     "output_type": "execute_result"
    }
   ],
   "source": [
    "# Preparing word2vec feature set...\n",
    "\n",
    "wordvec_arrays = np.zeros((len(tokenized_tweet), 200))\n",
    "\n",
    "for i in range(len(tokenized_tweet)):\n",
    "    wordvec_arrays[i,:] = word_vector(tokenized_tweet[i], 200)\n",
    "    \n",
    "wordvec_df = pd.DataFrame(wordvec_arrays)\n",
    "wordvec_df.shape"
   ]
  },
  {
   "cell_type": "markdown",
   "id": "b742f1aa",
   "metadata": {},
   "source": [
    "## 2. Doc2Vec Embedding"
   ]
  },
  {
   "cell_type": "code",
   "execution_count": 55,
   "id": "0fb8b915",
   "metadata": {},
   "outputs": [],
   "source": [
    "from tqdm import tqdm\n",
    "tqdm.pandas(desc=\"progress-bar\")\n",
    "from gensim.models.doc2vec import TaggedDocument"
   ]
  },
  {
   "cell_type": "markdown",
   "id": "a2f8efa8",
   "metadata": {},
   "source": [
    "To implement doc2vec, we have to labelise or tag each tokenised tweet with unique IDs. We can do so by using Gensim’s LabeledSentence() function.\n",
    "\n"
   ]
  },
  {
   "cell_type": "code",
   "execution_count": 56,
   "id": "0456927f",
   "metadata": {},
   "outputs": [],
   "source": [
    "def add_label(twt):\n",
    "    output = []\n",
    "    for i, s in zip(twt.index, twt):\n",
    "        output.append(TaggedDocument(s, [\"tweet_\" + str(i)]))\n",
    "    return output\n",
    "\n",
    "labeled_tweets = add_label(tokenized_tweet) # label all the tweets\n"
   ]
  },
  {
   "cell_type": "markdown",
   "id": "0c5ac3e7",
   "metadata": {},
   "source": [
    "Check to see if working"
   ]
  },
  {
   "cell_type": "code",
   "execution_count": 57,
   "id": "e003cca7",
   "metadata": {},
   "outputs": [
    {
     "data": {
      "text/plain": [
       "[TaggedDocument(words=['Yeah'], tags=['tweet_0']),\n",
       " TaggedDocument(words=['Indeed', 'ever', 'sleep'], tags=['tweet_1']),\n",
       " TaggedDocument(words=['October', 'already', 'Time', 'flies'], tags=['tweet_2']),\n",
       " TaggedDocument(words=['Right', 'throat', 'then', 'brainbuster', 'through', 'table'], tags=['tweet_3']),\n",
       " TaggedDocument(words=['problem', 'many', 'countries', 'Pretty', 'much', 'every', 'developed', 'country', 'market', 'economy', 'owning', 'property', 'something', 'that', 'reach', 'working', 'class', 'baffles', 'that', 'this', 'world', 'opulence', 'something', 'basic', 'housing', 'hard', 'come'], tags=['tweet_4'])]"
      ]
     },
     "execution_count": 57,
     "metadata": {},
     "output_type": "execute_result"
    }
   ],
   "source": [
    "labeled_tweets[:5]\n"
   ]
  },
  {
   "cell_type": "markdown",
   "id": "c375c368",
   "metadata": {},
   "source": [
    "# Model Building Sentiment Analysis"
   ]
  },
  {
   "attachments": {
    "image.png": {
     "image/png": "[encoded data removed]"
    }
   },
   "cell_type": "markdown",
   "id": "3430197d",
   "metadata": {},
   "source": [
    "The Pre modelling stages are complete, these have prepared our data so that it is the correct form and shape.\n",
    "The next step is to build the predictive models, using our prepared dataet and the two feature set Bag of Wrods and TF-IDF.\n",
    "Now we will be building predictive models on the dataset using the two feature set — Bag-of-Words and TF-IDF.\n",
    "\n",
    "In order to predict the probability of an occurance of an event we will use logistic regression for the models. \n",
    "This will fit the data to a logit function. \n",
    "\n",
    "The Logistic Regression equation is:\n",
    "\n",
    "\n",
    "![image.png](attachment:image.png) \n",
    "    \n",
    "    \n",
    "   \n",
    "    \n",
    "    \n",
    "    \n",
    "    "
   ]
  },
  {
   "cell_type": "markdown",
   "id": "ac19eeda",
   "metadata": {},
   "source": [
    "## Training a Doc 2 Vec model"
   ]
  },
  {
   "cell_type": "markdown",
   "id": "217ed0e8",
   "metadata": {},
   "source": [
    "Now lets call to train the model. This may take some time to run, a number will show int he ln[] box on the left when its done."
   ]
  },
  {
   "cell_type": "code",
   "execution_count": 58,
   "id": "c45c27dc",
   "metadata": {},
   "outputs": [
    {
     "name": "stderr",
     "output_type": "stream",
     "text": [
      "100%|███████████████████████████████████████████████████████████████████████| 40405/40405 [00:00<00:00, 4044360.86it/s]\n"
     ]
    }
   ],
   "source": [
    "model_d2v = gensim.models.Doc2Vec(dm=1, # dm = 1 for ‘distributed memory’ model \n",
    "                                  dm_mean=1, # dm = 1 for using mean of the context word vectors\n",
    "                                  vector_size=200, # no. of desired features\n",
    "                                  window=5, # width of the context window\n",
    "                                  negative=7, # if > 0 then negative sampling will be used\n",
    "                                  min_count=5, # Ignores all words with total frequency lower than 2.\n",
    "                                  workers=3, # no. of cores\n",
    "                                  alpha=0.1, # learning rate\n",
    "                                  seed = 23)\n",
    "\n",
    "model_d2v.build_vocab([i for i in tqdm(labeled_tweets)])"
   ]
  },
  {
   "cell_type": "code",
   "execution_count": 59,
   "id": "3e9d7129",
   "metadata": {},
   "outputs": [],
   "source": [
    "model_d2v.train(labeled_tweets, total_examples= len(df_sml['tidy_tweet']), epochs=15)"
   ]
  },
  {
   "cell_type": "markdown",
   "id": "94f83580",
   "metadata": {},
   "source": [
    "### Preparing doc2vec Feature Set"
   ]
  },
  {
   "cell_type": "code",
   "execution_count": 60,
   "id": "04fdd49c",
   "metadata": {},
   "outputs": [
    {
     "data": {
      "text/plain": [
       "(40405, 200)"
      ]
     },
     "execution_count": 60,
     "metadata": {},
     "output_type": "execute_result"
    }
   ],
   "source": [
    "docvec_arrays = np.zeros((len(tokenized_tweet), 200))\n",
    "\n",
    "for i in range(len(df_sml)):\n",
    "    docvec_arrays[i,:] = model_d2v.docvecs[i].reshape((1,200))\n",
    "    \n",
    "docvec_df = pd.DataFrame(docvec_arrays)\n",
    "docvec_df.shape"
   ]
  },
  {
   "cell_type": "markdown",
   "id": "2d5db9e9",
   "metadata": {},
   "source": [
    "## Using Bag of Words Features"
   ]
  },
  {
   "cell_type": "markdown",
   "id": "80e68f5a",
   "metadata": {},
   "source": [
    "Building a model using logistic regression"
   ]
  },
  {
   "cell_type": "code",
   "execution_count": 61,
   "id": "1e59e683",
   "metadata": {},
   "outputs": [
    {
     "ename": "NameError",
     "evalue": "name 'train' is not defined",
     "output_type": "error",
     "traceback": [
      "\u001b[1;31m---------------------------------------------------------------------------\u001b[0m",
      "\u001b[1;31mNameError\u001b[0m                                 Traceback (most recent call last)",
      "\u001b[1;32m<ipython-input-61-0978ebda69f6>\u001b[0m in \u001b[0;36m<module>\u001b[1;34m\u001b[0m\n\u001b[0;32m      7\u001b[0m \u001b[1;33m\u001b[0m\u001b[0m\n\u001b[0;32m      8\u001b[0m \u001b[1;31m# splitting data into training and validation set\u001b[0m\u001b[1;33m\u001b[0m\u001b[1;33m\u001b[0m\u001b[1;33m\u001b[0m\u001b[0m\n\u001b[1;32m----> 9\u001b[1;33m \u001b[0mxtrain_bow\u001b[0m\u001b[1;33m,\u001b[0m \u001b[0mxvalid_bow\u001b[0m\u001b[1;33m,\u001b[0m \u001b[0mytrain\u001b[0m\u001b[1;33m,\u001b[0m \u001b[0myvalid\u001b[0m \u001b[1;33m=\u001b[0m \u001b[0mtrain_test_split\u001b[0m\u001b[1;33m(\u001b[0m\u001b[0mtrain_bow\u001b[0m\u001b[1;33m,\u001b[0m \u001b[0mtrain\u001b[0m\u001b[1;33m[\u001b[0m\u001b[1;34m'label'\u001b[0m\u001b[1;33m]\u001b[0m\u001b[1;33m,\u001b[0m \u001b[0mrandom_state\u001b[0m\u001b[1;33m=\u001b[0m\u001b[1;36m42\u001b[0m\u001b[1;33m,\u001b[0m \u001b[0mtest_size\u001b[0m\u001b[1;33m=\u001b[0m\u001b[1;36m0.3\u001b[0m\u001b[1;33m)\u001b[0m\u001b[1;33m\u001b[0m\u001b[1;33m\u001b[0m\u001b[0m\n\u001b[0m\u001b[0;32m     10\u001b[0m \u001b[1;33m\u001b[0m\u001b[0m\n\u001b[0;32m     11\u001b[0m \u001b[0mlreg\u001b[0m \u001b[1;33m=\u001b[0m \u001b[0mLogisticRegression\u001b[0m\u001b[1;33m(\u001b[0m\u001b[1;33m)\u001b[0m\u001b[1;33m\u001b[0m\u001b[1;33m\u001b[0m\u001b[0m\n",
      "\u001b[1;31mNameError\u001b[0m: name 'train' is not defined"
     ]
    }
   ],
   "source": [
    "from sklearn.linear_model import LogisticRegression\n",
    "from sklearn.model_selection import train_test_split\n",
    "from sklearn.metrics import f1_score\n",
    "\n",
    "train_bow = bow[:31962,:]\n",
    "test_bow = bow[31962:,:]\n",
    "\n",
    "# splitting data into training and validation set\n",
    "xtrain_bow, xvalid_bow, ytrain, yvalid = train_test_split(train_bow, train['label'], random_state=42, test_size=0.3)\n",
    "\n",
    "lreg = LogisticRegression()\n",
    "lreg.fit(xtrain_bow, ytrain) # training the model\n",
    "\n",
    "prediction = lreg.predict_proba(xvalid_bow) # predicting on the validation set\n",
    "prediction_int = prediction[:,1] >= 0.3 # if prediction is greater than or equal to 0.3 than 1 else 0\n",
    "prediction_int = prediction_int.astype(np.int)\n",
    "\n",
    "f1_score(yvalid, prediction_int) # calculating f1 score"
   ]
  },
  {
   "cell_type": "markdown",
   "id": "bbbb5c8d",
   "metadata": {},
   "source": [
    "This step trained the logistic regression model on the features from the bag of words.\n",
    "The Output number listed below the window is the F1-score, a score of 0.501 for the validation set. \n",
    "\n",
    "Now we will use this model to predict for the test data."
   ]
  },
  {
   "cell_type": "code",
   "execution_count": 62,
   "id": "dda48083",
   "metadata": {},
   "outputs": [
    {
     "ename": "NameError",
     "evalue": "name 'lreg' is not defined",
     "output_type": "error",
     "traceback": [
      "\u001b[1;31m---------------------------------------------------------------------------\u001b[0m",
      "\u001b[1;31mNameError\u001b[0m                                 Traceback (most recent call last)",
      "\u001b[1;32m<ipython-input-62-a054c557b0fa>\u001b[0m in \u001b[0;36m<module>\u001b[1;34m\u001b[0m\n\u001b[1;32m----> 1\u001b[1;33m \u001b[0mtest_pred\u001b[0m \u001b[1;33m=\u001b[0m \u001b[0mlreg\u001b[0m\u001b[1;33m.\u001b[0m\u001b[0mpredict_proba\u001b[0m\u001b[1;33m(\u001b[0m\u001b[0mtest_bow\u001b[0m\u001b[1;33m)\u001b[0m\u001b[1;33m\u001b[0m\u001b[1;33m\u001b[0m\u001b[0m\n\u001b[0m\u001b[0;32m      2\u001b[0m \u001b[0mtest_pred_int\u001b[0m \u001b[1;33m=\u001b[0m \u001b[0mtest_pred\u001b[0m\u001b[1;33m[\u001b[0m\u001b[1;33m:\u001b[0m\u001b[1;33m,\u001b[0m\u001b[1;36m1\u001b[0m\u001b[1;33m]\u001b[0m \u001b[1;33m>=\u001b[0m \u001b[1;36m0.3\u001b[0m\u001b[1;33m\u001b[0m\u001b[1;33m\u001b[0m\u001b[0m\n\u001b[0;32m      3\u001b[0m \u001b[0mtest_pred_int\u001b[0m \u001b[1;33m=\u001b[0m \u001b[0mtest_pred_int\u001b[0m\u001b[1;33m.\u001b[0m\u001b[0mastype\u001b[0m\u001b[1;33m(\u001b[0m\u001b[0mnp\u001b[0m\u001b[1;33m.\u001b[0m\u001b[0mint\u001b[0m\u001b[1;33m)\u001b[0m\u001b[1;33m\u001b[0m\u001b[1;33m\u001b[0m\u001b[0m\n\u001b[0;32m      4\u001b[0m \u001b[0mtest\u001b[0m\u001b[1;33m[\u001b[0m\u001b[1;34m'label'\u001b[0m\u001b[1;33m]\u001b[0m \u001b[1;33m=\u001b[0m \u001b[0mtest_pred_int\u001b[0m\u001b[1;33m\u001b[0m\u001b[1;33m\u001b[0m\u001b[0m\n\u001b[0;32m      5\u001b[0m \u001b[0msubmission\u001b[0m \u001b[1;33m=\u001b[0m \u001b[0mtest\u001b[0m\u001b[1;33m[\u001b[0m\u001b[1;33m[\u001b[0m\u001b[1;34m'id'\u001b[0m\u001b[1;33m,\u001b[0m\u001b[1;34m'label'\u001b[0m\u001b[1;33m]\u001b[0m\u001b[1;33m]\u001b[0m\u001b[1;33m\u001b[0m\u001b[1;33m\u001b[0m\u001b[0m\n",
      "\u001b[1;31mNameError\u001b[0m: name 'lreg' is not defined"
     ]
    }
   ],
   "source": [
    "test_pred = lreg.predict_proba(test_bow)\n",
    "test_pred_int = test_pred[:,1] >= 0.3\n",
    "test_pred_int = test_pred_int.astype(np.int)\n",
    "test['label'] = test_pred_int\n",
    "submission = test[['id','label']]\n",
    "submission.to_csv('sub_lreg_bow.csv', index=False) # writing data to a CSV file"
   ]
  },
  {
   "cell_type": "markdown",
   "id": "deb22654",
   "metadata": {},
   "source": [
    "## Building the model using the TF-IDF features"
   ]
  },
  {
   "cell_type": "code",
   "execution_count": 63,
   "id": "520bcfbb",
   "metadata": {},
   "outputs": [
    {
     "ename": "NameError",
     "evalue": "name 'ytrain' is not defined",
     "output_type": "error",
     "traceback": [
      "\u001b[1;31m---------------------------------------------------------------------------\u001b[0m",
      "\u001b[1;31mNameError\u001b[0m                                 Traceback (most recent call last)",
      "\u001b[1;32m<ipython-input-63-9b001392d263>\u001b[0m in \u001b[0;36m<module>\u001b[1;34m\u001b[0m\n\u001b[0;32m      2\u001b[0m \u001b[0mtest_tfidf\u001b[0m \u001b[1;33m=\u001b[0m \u001b[0mtfidf\u001b[0m\u001b[1;33m[\u001b[0m\u001b[1;36m31962\u001b[0m\u001b[1;33m:\u001b[0m\u001b[1;33m,\u001b[0m\u001b[1;33m:\u001b[0m\u001b[1;33m]\u001b[0m\u001b[1;33m\u001b[0m\u001b[1;33m\u001b[0m\u001b[0m\n\u001b[0;32m      3\u001b[0m \u001b[1;33m\u001b[0m\u001b[0m\n\u001b[1;32m----> 4\u001b[1;33m \u001b[0mxtrain_tfidf\u001b[0m \u001b[1;33m=\u001b[0m \u001b[0mtrain_tfidf\u001b[0m\u001b[1;33m[\u001b[0m\u001b[0mytrain\u001b[0m\u001b[1;33m.\u001b[0m\u001b[0mindex\u001b[0m\u001b[1;33m]\u001b[0m\u001b[1;33m\u001b[0m\u001b[1;33m\u001b[0m\u001b[0m\n\u001b[0m\u001b[0;32m      5\u001b[0m \u001b[0mxvalid_tfidf\u001b[0m \u001b[1;33m=\u001b[0m \u001b[0mtrain_tfidf\u001b[0m\u001b[1;33m[\u001b[0m\u001b[0myvalid\u001b[0m\u001b[1;33m.\u001b[0m\u001b[0mindex\u001b[0m\u001b[1;33m]\u001b[0m\u001b[1;33m\u001b[0m\u001b[1;33m\u001b[0m\u001b[0m\n\u001b[0;32m      6\u001b[0m \u001b[1;33m\u001b[0m\u001b[0m\n",
      "\u001b[1;31mNameError\u001b[0m: name 'ytrain' is not defined"
     ]
    }
   ],
   "source": [
    "train_tfidf = tfidf[:31962,:]\n",
    "test_tfidf = tfidf[31962:,:]\n",
    "\n",
    "xtrain_tfidf = train_tfidf[ytrain.index]\n",
    "xvalid_tfidf = train_tfidf[yvalid.index]\n",
    "\n",
    "lreg.fit(xtrain_tfidf, ytrain)\n",
    "\n",
    "prediction = lreg.predict_proba(xvalid_tfidf)\n",
    "prediction_int = prediction[:,1] >= 0.3\n",
    "prediction_int = prediction_int.astype(np.int)\n",
    "\n",
    "f1_score(yvalid, prediction_int)"
   ]
  },
  {
   "cell_type": "markdown",
   "id": "d77cae6b",
   "metadata": {},
   "source": [
    "The validation score is 0.5009. So, by using the TF-IDF features, the validation score has improved very slightly."
   ]
  },
  {
   "cell_type": "markdown",
   "id": "0340108c",
   "metadata": {},
   "source": [
    "## End Notes:\n",
    "\n",
    "This workbook steps through a sentiment analysis problem using a dataset of tweets that have already been collected. \n",
    "The first steps were data preprocessing and exploration.\n",
    "Then features were extracted from the cleaned text using Bag-of-Words and TF-IDF. \n",
    "To finish we steped through building a couple of models using both the feature sets to classify the tweets."
   ]
  },
  {
   "cell_type": "markdown",
   "id": "50e0fc5e",
   "metadata": {},
   "source": [
    "## References and Sources\n",
    "\n",
    "I have heavily borrowed from Daniel Johnstone's tutorial notebooks, both for Constellation and Python for Data Analysts. I have kep the comments he included so that I remember when everything is. \n",
    "\n",
    "\n",
    "Hate speech detection: Challenges and solutions\n",
    "Sean MacAvaney ,Hao-Ren Yao,Eugene Yang,Katina Russell,Nazli Goharian,Ophir Frieder\n",
    "Published: August 20, 2019\n",
    "https://doi.org/10.1371/journal.pone.0221152\n",
    "\n",
    "@inproceedings{gibert2018hate,\n",
    "    title = \"{Hate Speech Dataset from a White Supremacy Forum}\",\n",
    "    author = \"de Gibert, Ona  and\n",
    "      Perez, Naiara  and\n",
    "      Garc{\\'\\i}a-Pablos, Aitor  and\n",
    "      Cuadros, Montse\",\n",
    "    booktitle = \"Proceedings of the 2nd Workshop on Abusive Language Online ({ALW}2)\",\n",
    "    month = oct,\n",
    "    year = \"2018\",\n",
    "    address = \"Brussels, Belgium\",\n",
    "    publisher = \"Association for Computational Linguistics\",\n",
    "    url = \"https://www.aclweb.org/anthology/W18-5102\",\n",
    "    doi = \"10.18653/v1/W18-5102\",\n",
    "    pages = \"11--20\",\n",
    "}"
   ]
  },
  {
   "cell_type": "code",
   "execution_count": null,
   "id": "dfd98d2c-95e0-40a1-85f3-c58480db2ec0",
   "metadata": {},
   "outputs": [],
   "source": [
    "                              "
   ]
  }
 ],
 "metadata": {
  "kernelspec": {
   "display_name": "Python 3",
   "language": "python",
   "name": "python3"
  },
  "language_info": {
   "codemirror_mode": {
    "name": "ipython",
    "version": 3
   },
   "file_extension": ".py",
   "mimetype": "text/x-python",
   "name": "python",
   "nbconvert_exporter": "python",
   "pygments_lexer": "ipython3",
   "version": "3.8.8"
  }
 },
 "nbformat": 4,
 "nbformat_minor": 5
}
